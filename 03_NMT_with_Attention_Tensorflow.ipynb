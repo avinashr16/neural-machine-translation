{
  "nbformat": 4,
  "nbformat_minor": 0,
  "metadata": {
    "colab": {
      "provenance": [],
      "gpuType": "T4",
      "include_colab_link": true
    },
    "kernelspec": {
      "name": "python3",
      "display_name": "Python 3"
    },
    "language_info": {
      "name": "python"
    },
    "accelerator": "GPU"
  },
  "cells": [
    {
      "cell_type": "markdown",
      "metadata": {
        "id": "view-in-github",
        "colab_type": "text"
      },
      "source": [
        "<a href=\"https://colab.research.google.com/github/Hrithik2212/Neural-Machine-Translation--English-to-Tamil/blob/main/03_NMT_with_Attention_Tensorflow.ipynb\" target=\"_parent\"><img src=\"https://colab.research.google.com/assets/colab-badge.svg\" alt=\"Open In Colab\"/></a>"
      ]
    },
    {
      "cell_type": "code",
      "source": [
        "#Libraries\n",
        "import pathlib\n",
        "import random\n",
        "import string\n",
        "import re\n",
        "import numpy as np\n",
        "import pandas as pd\n",
        "import matplotlib.pyplot as plt\n",
        "import tensorflow as tf\n",
        "from tensorflow import keras\n",
        "from tensorflow.keras import layers\n",
        "from tensorflow.keras.layers import TextVectorization\n",
        "from tensorflow.keras.callbacks import EarlyStopping\n",
        "from tensorflow.keras import callbacks"
      ],
      "metadata": {
        "id": "P6NCNVZdM-d-"
      },
      "execution_count": 1,
      "outputs": []
    },
    {
      "cell_type": "code",
      "source": [
        "eng_file = '/content/drive/MyDrive/en-ta/train.en'\n",
        "tamil_file = '/content/drive/MyDrive/en-ta/train.ta'"
      ],
      "metadata": {
        "id": "nWlPq_OnNSzQ"
      },
      "execution_count": null,
      "outputs": []
    },
    {
      "cell_type": "code",
      "source": [
        "from google.colab import drive\n",
        "drive.mount('/content/drive')"
      ],
      "metadata": {
        "colab": {
          "base_uri": "https://localhost:8080/"
        },
        "id": "Xve9sGmY_y6R",
        "outputId": "13155cbe-3219-466f-9a43-f80a60ab8817"
      },
      "execution_count": 2,
      "outputs": [
        {
          "output_type": "stream",
          "name": "stdout",
          "text": [
            "Mounted at /content/drive\n"
          ]
        }
      ]
    },
    {
      "cell_type": "code",
      "source": [
        "with open(eng_file, 'r') as file:\n",
        "    english_sentences = file.readlines()\n",
        "with open(tamil_file, 'r') as file:\n",
        "    tamil_sentences = file.readlines()\n",
        "\n",
        "\n",
        "english_sentences = [sentence.rstrip('\\n').lower() for sentence in english_sentences]\n",
        "tamil_sentences = [sentence.rstrip('\\n') for sentence in tamil_sentences]"
      ],
      "metadata": {
        "id": "s_U2sHClNcoH"
      },
      "execution_count": null,
      "outputs": []
    },
    {
      "cell_type": "code",
      "source": [
        "# filter out sentences which contains letters other than whats listed below\n",
        "tamil_vocabulary = [ ' ', '!', '\"', '#', '$', '%', '&', \"'\", '(', ')', '*', '+', ',', '-', '.', '/',\n",
        "                      '0', '1', '2', '3', '4', '5', '6', '7', '8', '9', ':', '<', '=', '>', '?', 'ˌ',\n",
        "                      \"ஃ\", \"அ\", \"ஆ\", \"இ\", \"ஈ\", \"உ\", \"ஊ\", \"எ\", \"ஏ\", \"ஐ\", \"ஒ\", \"ஓ\", \"ஔ\",\n",
        "                      \"க\", \"ங\", \"ச\", \"ஜ\", \"ஞ\", \"ட\", \"ண\",\n",
        "                      \"த\", \"ந\", \"ன\", \"ப\", \"ம\", \"ய\", \"ர\",\n",
        "                      \"ற\", \"ல\", \"ள\", \"ழ\", \"வ\", \"ஶ\", \"ஷ\", \"ஸ\", \"ஹ\",\n",
        "                      \"ா\", \"ி\", \"ீ\", \"ு\", \"ூ\", \"ெ\", \"ே\", \"ை\", \"ொ\", \"ோ\", \"ௌ\", \"்\", \"ௗ\",\n",
        "                      \"௦\", \"௧\", \"௨\", \"௫\", \"௬\", \"௲\", \"௳\"\n",
        "                      ]\n",
        "\n",
        "english_vocabulary = [' ', '!', '\"', '#', '$', '%', '&', \"'\", '(', ')', '*', '+', ',', '-', '.', '/',\n",
        "                        '0', '1', '2', '3', '4', '5', '6', '7', '8', '9',\n",
        "                        ':', '<', '=', '>', '?', '@',\n",
        "                        '[', '\\\\', ']', '^', '_', '`',\n",
        "                        'a', 'b', 'c', 'd', 'e', 'f', 'g', 'h', 'i', 'j', 'k', 'l',\n",
        "                        'm', 'n', 'o', 'p', 'q', 'r', 's', 't', 'u', 'v', 'w', 'x',\n",
        "                        'y', 'z',\n",
        "                        '{', '|', '}', '~']"
      ],
      "metadata": {
        "id": "cMD_loL5NfYC"
      },
      "execution_count": null,
      "outputs": []
    },
    {
      "cell_type": "code",
      "source": [
        "def is_valid_tokens(sentence , vocab):\n",
        "    for token in list(set(sentence)):\n",
        "        if token not in vocab:\n",
        "            return False\n",
        "    return True\n",
        "\n",
        "valid_sentence_indicies = []\n",
        "for index in range(len(english_sentences[:400000])):\n",
        "    tamil_sentence, english_sentence = tamil_sentences[index], english_sentences[index]\n",
        "    if is_valid_tokens(tamil_sentence, tamil_vocabulary) \\\n",
        "      and is_valid_tokens(english_sentence , english_vocabulary):\n",
        "        valid_sentence_indicies.append(index)"
      ],
      "metadata": {
        "id": "kB-SFjUHNmXa"
      },
      "execution_count": null,
      "outputs": []
    },
    {
      "cell_type": "code",
      "source": [
        "TOTAL_SENTENCES = 200000 # lets take 200000 valid sentences to train the model\n",
        "x = [english_sentences[i] for i in valid_sentence_indicies[:TOTAL_SENTENCES]]\n",
        "y = [tamil_sentences[i] for i in valid_sentence_indicies[:TOTAL_SENTENCES]]"
      ],
      "metadata": {
        "id": "1dEv5HxSN4Zv"
      },
      "execution_count": null,
      "outputs": []
    },
    {
      "cell_type": "code",
      "source": [
        "import pandas as pd\n",
        "dataset =  pd.DataFrame({\"English\":x , \"Tamil\":y })\n",
        "dataset.info()\n"
      ],
      "metadata": {
        "colab": {
          "base_uri": "https://localhost:8080/"
        },
        "id": "9tW6u08dNyrF",
        "outputId": "7931532f-65ab-46c7-cd93-66ea8b31857f"
      },
      "execution_count": null,
      "outputs": [
        {
          "output_type": "stream",
          "name": "stdout",
          "text": [
            "<class 'pandas.core.frame.DataFrame'>\n",
            "RangeIndex: 200000 entries, 0 to 199999\n",
            "Data columns (total 2 columns):\n",
            " #   Column   Non-Null Count   Dtype \n",
            "---  ------   --------------   ----- \n",
            " 0   English  200000 non-null  object\n",
            " 1   Tamil    200000 non-null  object\n",
            "dtypes: object(2)\n",
            "memory usage: 3.1+ MB\n"
          ]
        }
      ]
    },
    {
      "cell_type": "code",
      "source": [
        "dataset.sample(5)"
      ],
      "metadata": {
        "colab": {
          "base_uri": "https://localhost:8080/",
          "height": 206
        },
        "id": "OkaMHA5uQlif",
        "outputId": "5639917d-5669-46f0-8f9c-47643544412d"
      },
      "execution_count": null,
      "outputs": [
        {
          "output_type": "execute_result",
          "data": {
            "text/plain": [
              "                                                  English                                              Tamil\n",
              "83292   for that, he thanked people of the area and pa...  இவருக்கு காங்கிரஸ் கட்சியின் நிா்வாகிகளும், அந...\n",
              "160422  she said that these initiatives have up-graded...  வீட்டு வசதி நிதித் துறையை இந்திய ரிசர்வ் வங்கி...\n",
              "159073  hence, action is being taken to set up an agro...  எனவே கிருஷ்ணகிரி மண்டல ஊரக வளர்ச்சி மற்றும் ஊர...\n",
              "86022   recent statistics in the us reveal that in 200...  அமெரிக்காவில் சமீபத்திய புள்ளிவிவரங்கள், 2005ம...\n",
              "97840   even paul had to endure a continuing conflict ...  இது, தேவபக்தியை வெளிக்காட்டுவதில் நல்ல ஆன்மீக ..."
            ],
            "text/html": [
              "\n",
              "  <div id=\"df-6242fdf4-1353-4e3a-a48b-bb9fd4aa3a74\" class=\"colab-df-container\">\n",
              "    <div>\n",
              "<style scoped>\n",
              "    .dataframe tbody tr th:only-of-type {\n",
              "        vertical-align: middle;\n",
              "    }\n",
              "\n",
              "    .dataframe tbody tr th {\n",
              "        vertical-align: top;\n",
              "    }\n",
              "\n",
              "    .dataframe thead th {\n",
              "        text-align: right;\n",
              "    }\n",
              "</style>\n",
              "<table border=\"1\" class=\"dataframe\">\n",
              "  <thead>\n",
              "    <tr style=\"text-align: right;\">\n",
              "      <th></th>\n",
              "      <th>English</th>\n",
              "      <th>Tamil</th>\n",
              "    </tr>\n",
              "  </thead>\n",
              "  <tbody>\n",
              "    <tr>\n",
              "      <th>83292</th>\n",
              "      <td>for that, he thanked people of the area and pa...</td>\n",
              "      <td>இவருக்கு காங்கிரஸ் கட்சியின் நிா்வாகிகளும், அந...</td>\n",
              "    </tr>\n",
              "    <tr>\n",
              "      <th>160422</th>\n",
              "      <td>she said that these initiatives have up-graded...</td>\n",
              "      <td>வீட்டு வசதி நிதித் துறையை இந்திய ரிசர்வ் வங்கி...</td>\n",
              "    </tr>\n",
              "    <tr>\n",
              "      <th>159073</th>\n",
              "      <td>hence, action is being taken to set up an agro...</td>\n",
              "      <td>எனவே கிருஷ்ணகிரி மண்டல ஊரக வளர்ச்சி மற்றும் ஊர...</td>\n",
              "    </tr>\n",
              "    <tr>\n",
              "      <th>86022</th>\n",
              "      <td>recent statistics in the us reveal that in 200...</td>\n",
              "      <td>அமெரிக்காவில் சமீபத்திய புள்ளிவிவரங்கள், 2005ம...</td>\n",
              "    </tr>\n",
              "    <tr>\n",
              "      <th>97840</th>\n",
              "      <td>even paul had to endure a continuing conflict ...</td>\n",
              "      <td>இது, தேவபக்தியை வெளிக்காட்டுவதில் நல்ல ஆன்மீக ...</td>\n",
              "    </tr>\n",
              "  </tbody>\n",
              "</table>\n",
              "</div>\n",
              "    <div class=\"colab-df-buttons\">\n",
              "\n",
              "  <div class=\"colab-df-container\">\n",
              "    <button class=\"colab-df-convert\" onclick=\"convertToInteractive('df-6242fdf4-1353-4e3a-a48b-bb9fd4aa3a74')\"\n",
              "            title=\"Convert this dataframe to an interactive table.\"\n",
              "            style=\"display:none;\">\n",
              "\n",
              "  <svg xmlns=\"http://www.w3.org/2000/svg\" height=\"24px\" viewBox=\"0 -960 960 960\">\n",
              "    <path d=\"M120-120v-720h720v720H120Zm60-500h600v-160H180v160Zm220 220h160v-160H400v160Zm0 220h160v-160H400v160ZM180-400h160v-160H180v160Zm440 0h160v-160H620v160ZM180-180h160v-160H180v160Zm440 0h160v-160H620v160Z\"/>\n",
              "  </svg>\n",
              "    </button>\n",
              "\n",
              "  <style>\n",
              "    .colab-df-container {\n",
              "      display:flex;\n",
              "      gap: 12px;\n",
              "    }\n",
              "\n",
              "    .colab-df-convert {\n",
              "      background-color: #E8F0FE;\n",
              "      border: none;\n",
              "      border-radius: 50%;\n",
              "      cursor: pointer;\n",
              "      display: none;\n",
              "      fill: #1967D2;\n",
              "      height: 32px;\n",
              "      padding: 0 0 0 0;\n",
              "      width: 32px;\n",
              "    }\n",
              "\n",
              "    .colab-df-convert:hover {\n",
              "      background-color: #E2EBFA;\n",
              "      box-shadow: 0px 1px 2px rgba(60, 64, 67, 0.3), 0px 1px 3px 1px rgba(60, 64, 67, 0.15);\n",
              "      fill: #174EA6;\n",
              "    }\n",
              "\n",
              "    .colab-df-buttons div {\n",
              "      margin-bottom: 4px;\n",
              "    }\n",
              "\n",
              "    [theme=dark] .colab-df-convert {\n",
              "      background-color: #3B4455;\n",
              "      fill: #D2E3FC;\n",
              "    }\n",
              "\n",
              "    [theme=dark] .colab-df-convert:hover {\n",
              "      background-color: #434B5C;\n",
              "      box-shadow: 0px 1px 3px 1px rgba(0, 0, 0, 0.15);\n",
              "      filter: drop-shadow(0px 1px 2px rgba(0, 0, 0, 0.3));\n",
              "      fill: #FFFFFF;\n",
              "    }\n",
              "  </style>\n",
              "\n",
              "    <script>\n",
              "      const buttonEl =\n",
              "        document.querySelector('#df-6242fdf4-1353-4e3a-a48b-bb9fd4aa3a74 button.colab-df-convert');\n",
              "      buttonEl.style.display =\n",
              "        google.colab.kernel.accessAllowed ? 'block' : 'none';\n",
              "\n",
              "      async function convertToInteractive(key) {\n",
              "        const element = document.querySelector('#df-6242fdf4-1353-4e3a-a48b-bb9fd4aa3a74');\n",
              "        const dataTable =\n",
              "          await google.colab.kernel.invokeFunction('convertToInteractive',\n",
              "                                                    [key], {});\n",
              "        if (!dataTable) return;\n",
              "\n",
              "        const docLinkHtml = 'Like what you see? Visit the ' +\n",
              "          '<a target=\"_blank\" href=https://colab.research.google.com/notebooks/data_table.ipynb>data table notebook</a>'\n",
              "          + ' to learn more about interactive tables.';\n",
              "        element.innerHTML = '';\n",
              "        dataTable['output_type'] = 'display_data';\n",
              "        await google.colab.output.renderOutput(dataTable, element);\n",
              "        const docLink = document.createElement('div');\n",
              "        docLink.innerHTML = docLinkHtml;\n",
              "        element.appendChild(docLink);\n",
              "      }\n",
              "    </script>\n",
              "  </div>\n",
              "\n",
              "\n",
              "<div id=\"df-39cb6254-f733-4d8d-a077-22446f4444c4\">\n",
              "  <button class=\"colab-df-quickchart\" onclick=\"quickchart('df-39cb6254-f733-4d8d-a077-22446f4444c4')\"\n",
              "            title=\"Suggest charts.\"\n",
              "            style=\"display:none;\">\n",
              "\n",
              "<svg xmlns=\"http://www.w3.org/2000/svg\" height=\"24px\"viewBox=\"0 0 24 24\"\n",
              "     width=\"24px\">\n",
              "    <g>\n",
              "        <path d=\"M19 3H5c-1.1 0-2 .9-2 2v14c0 1.1.9 2 2 2h14c1.1 0 2-.9 2-2V5c0-1.1-.9-2-2-2zM9 17H7v-7h2v7zm4 0h-2V7h2v10zm4 0h-2v-4h2v4z\"/>\n",
              "    </g>\n",
              "</svg>\n",
              "  </button>\n",
              "\n",
              "<style>\n",
              "  .colab-df-quickchart {\n",
              "      --bg-color: #E8F0FE;\n",
              "      --fill-color: #1967D2;\n",
              "      --hover-bg-color: #E2EBFA;\n",
              "      --hover-fill-color: #174EA6;\n",
              "      --disabled-fill-color: #AAA;\n",
              "      --disabled-bg-color: #DDD;\n",
              "  }\n",
              "\n",
              "  [theme=dark] .colab-df-quickchart {\n",
              "      --bg-color: #3B4455;\n",
              "      --fill-color: #D2E3FC;\n",
              "      --hover-bg-color: #434B5C;\n",
              "      --hover-fill-color: #FFFFFF;\n",
              "      --disabled-bg-color: #3B4455;\n",
              "      --disabled-fill-color: #666;\n",
              "  }\n",
              "\n",
              "  .colab-df-quickchart {\n",
              "    background-color: var(--bg-color);\n",
              "    border: none;\n",
              "    border-radius: 50%;\n",
              "    cursor: pointer;\n",
              "    display: none;\n",
              "    fill: var(--fill-color);\n",
              "    height: 32px;\n",
              "    padding: 0;\n",
              "    width: 32px;\n",
              "  }\n",
              "\n",
              "  .colab-df-quickchart:hover {\n",
              "    background-color: var(--hover-bg-color);\n",
              "    box-shadow: 0 1px 2px rgba(60, 64, 67, 0.3), 0 1px 3px 1px rgba(60, 64, 67, 0.15);\n",
              "    fill: var(--button-hover-fill-color);\n",
              "  }\n",
              "\n",
              "  .colab-df-quickchart-complete:disabled,\n",
              "  .colab-df-quickchart-complete:disabled:hover {\n",
              "    background-color: var(--disabled-bg-color);\n",
              "    fill: var(--disabled-fill-color);\n",
              "    box-shadow: none;\n",
              "  }\n",
              "\n",
              "  .colab-df-spinner {\n",
              "    border: 2px solid var(--fill-color);\n",
              "    border-color: transparent;\n",
              "    border-bottom-color: var(--fill-color);\n",
              "    animation:\n",
              "      spin 1s steps(1) infinite;\n",
              "  }\n",
              "\n",
              "  @keyframes spin {\n",
              "    0% {\n",
              "      border-color: transparent;\n",
              "      border-bottom-color: var(--fill-color);\n",
              "      border-left-color: var(--fill-color);\n",
              "    }\n",
              "    20% {\n",
              "      border-color: transparent;\n",
              "      border-left-color: var(--fill-color);\n",
              "      border-top-color: var(--fill-color);\n",
              "    }\n",
              "    30% {\n",
              "      border-color: transparent;\n",
              "      border-left-color: var(--fill-color);\n",
              "      border-top-color: var(--fill-color);\n",
              "      border-right-color: var(--fill-color);\n",
              "    }\n",
              "    40% {\n",
              "      border-color: transparent;\n",
              "      border-right-color: var(--fill-color);\n",
              "      border-top-color: var(--fill-color);\n",
              "    }\n",
              "    60% {\n",
              "      border-color: transparent;\n",
              "      border-right-color: var(--fill-color);\n",
              "    }\n",
              "    80% {\n",
              "      border-color: transparent;\n",
              "      border-right-color: var(--fill-color);\n",
              "      border-bottom-color: var(--fill-color);\n",
              "    }\n",
              "    90% {\n",
              "      border-color: transparent;\n",
              "      border-bottom-color: var(--fill-color);\n",
              "    }\n",
              "  }\n",
              "</style>\n",
              "\n",
              "  <script>\n",
              "    async function quickchart(key) {\n",
              "      const quickchartButtonEl =\n",
              "        document.querySelector('#' + key + ' button');\n",
              "      quickchartButtonEl.disabled = true;  // To prevent multiple clicks.\n",
              "      quickchartButtonEl.classList.add('colab-df-spinner');\n",
              "      try {\n",
              "        const charts = await google.colab.kernel.invokeFunction(\n",
              "            'suggestCharts', [key], {});\n",
              "      } catch (error) {\n",
              "        console.error('Error during call to suggestCharts:', error);\n",
              "      }\n",
              "      quickchartButtonEl.classList.remove('colab-df-spinner');\n",
              "      quickchartButtonEl.classList.add('colab-df-quickchart-complete');\n",
              "    }\n",
              "    (() => {\n",
              "      let quickchartButtonEl =\n",
              "        document.querySelector('#df-39cb6254-f733-4d8d-a077-22446f4444c4 button');\n",
              "      quickchartButtonEl.style.display =\n",
              "        google.colab.kernel.accessAllowed ? 'block' : 'none';\n",
              "    })();\n",
              "  </script>\n",
              "</div>\n",
              "    </div>\n",
              "  </div>\n"
            ]
          },
          "metadata": {},
          "execution_count": 9
        }
      ]
    },
    {
      "cell_type": "code",
      "source": [
        "dataset.to_csv('/content/drive/MyDrive/NMT-Project/data.csv' , index = False )"
      ],
      "metadata": {
        "id": "cG7j82LkBDuJ"
      },
      "execution_count": null,
      "outputs": []
    },
    {
      "cell_type": "code",
      "source": [
        "dataset = pd.read_csv('/content/drive/MyDrive/NMT-Project/data.csv')\n",
        "dataset.head()"
      ],
      "metadata": {
        "colab": {
          "base_uri": "https://localhost:8080/",
          "height": 206
        },
        "id": "hADUIpxlBaWS",
        "outputId": "b969b503-a1ef-4909-eda2-556db25bc0f3"
      },
      "execution_count": 2,
      "outputs": [
        {
          "output_type": "execute_result",
          "data": {
            "text/plain": [
              "                                             English  \\\n",
              "0     some 14 months later, the second calf is born.   \n",
              "1                         this photo was taken then.   \n",
              "2  so far two rounds of the jwg meeting have been...   \n",
              "3  the life of the world is nothing but play and ...   \n",
              "4  the maximum temperature will be 35 degrees cel...   \n",
              "\n",
              "                                               Tamil  \n",
              "0  சுமார் 14 மாதங்கள் கழித்து, இரண்டாம் கன்றை ஈனு...  \n",
              "1              அதன்போது எடுக்கப்பட்ட புகைப்படம் இது.  \n",
              "2  இதுவரை இணைப் பணிக் குழு இரண்டுகட்ட பேச்சுவார்த...  \n",
              "3  உலக வாழ்க்கை வீணும் விளையாட்டுமேயன்றி வேறில்லை...  \n",
              "4  அதிகபட்ச வெப்பநிலை 35 டிகிரி செல்சியஸாகவும் கு...  "
            ],
            "text/html": [
              "\n",
              "  <div id=\"df-d2592115-c0ed-4cec-aa67-798e25e1aab6\" class=\"colab-df-container\">\n",
              "    <div>\n",
              "<style scoped>\n",
              "    .dataframe tbody tr th:only-of-type {\n",
              "        vertical-align: middle;\n",
              "    }\n",
              "\n",
              "    .dataframe tbody tr th {\n",
              "        vertical-align: top;\n",
              "    }\n",
              "\n",
              "    .dataframe thead th {\n",
              "        text-align: right;\n",
              "    }\n",
              "</style>\n",
              "<table border=\"1\" class=\"dataframe\">\n",
              "  <thead>\n",
              "    <tr style=\"text-align: right;\">\n",
              "      <th></th>\n",
              "      <th>English</th>\n",
              "      <th>Tamil</th>\n",
              "    </tr>\n",
              "  </thead>\n",
              "  <tbody>\n",
              "    <tr>\n",
              "      <th>0</th>\n",
              "      <td>some 14 months later, the second calf is born.</td>\n",
              "      <td>சுமார் 14 மாதங்கள் கழித்து, இரண்டாம் கன்றை ஈனு...</td>\n",
              "    </tr>\n",
              "    <tr>\n",
              "      <th>1</th>\n",
              "      <td>this photo was taken then.</td>\n",
              "      <td>அதன்போது எடுக்கப்பட்ட புகைப்படம் இது.</td>\n",
              "    </tr>\n",
              "    <tr>\n",
              "      <th>2</th>\n",
              "      <td>so far two rounds of the jwg meeting have been...</td>\n",
              "      <td>இதுவரை இணைப் பணிக் குழு இரண்டுகட்ட பேச்சுவார்த...</td>\n",
              "    </tr>\n",
              "    <tr>\n",
              "      <th>3</th>\n",
              "      <td>the life of the world is nothing but play and ...</td>\n",
              "      <td>உலக வாழ்க்கை வீணும் விளையாட்டுமேயன்றி வேறில்லை...</td>\n",
              "    </tr>\n",
              "    <tr>\n",
              "      <th>4</th>\n",
              "      <td>the maximum temperature will be 35 degrees cel...</td>\n",
              "      <td>அதிகபட்ச வெப்பநிலை 35 டிகிரி செல்சியஸாகவும் கு...</td>\n",
              "    </tr>\n",
              "  </tbody>\n",
              "</table>\n",
              "</div>\n",
              "    <div class=\"colab-df-buttons\">\n",
              "\n",
              "  <div class=\"colab-df-container\">\n",
              "    <button class=\"colab-df-convert\" onclick=\"convertToInteractive('df-d2592115-c0ed-4cec-aa67-798e25e1aab6')\"\n",
              "            title=\"Convert this dataframe to an interactive table.\"\n",
              "            style=\"display:none;\">\n",
              "\n",
              "  <svg xmlns=\"http://www.w3.org/2000/svg\" height=\"24px\" viewBox=\"0 -960 960 960\">\n",
              "    <path d=\"M120-120v-720h720v720H120Zm60-500h600v-160H180v160Zm220 220h160v-160H400v160Zm0 220h160v-160H400v160ZM180-400h160v-160H180v160Zm440 0h160v-160H620v160ZM180-180h160v-160H180v160Zm440 0h160v-160H620v160Z\"/>\n",
              "  </svg>\n",
              "    </button>\n",
              "\n",
              "  <style>\n",
              "    .colab-df-container {\n",
              "      display:flex;\n",
              "      gap: 12px;\n",
              "    }\n",
              "\n",
              "    .colab-df-convert {\n",
              "      background-color: #E8F0FE;\n",
              "      border: none;\n",
              "      border-radius: 50%;\n",
              "      cursor: pointer;\n",
              "      display: none;\n",
              "      fill: #1967D2;\n",
              "      height: 32px;\n",
              "      padding: 0 0 0 0;\n",
              "      width: 32px;\n",
              "    }\n",
              "\n",
              "    .colab-df-convert:hover {\n",
              "      background-color: #E2EBFA;\n",
              "      box-shadow: 0px 1px 2px rgba(60, 64, 67, 0.3), 0px 1px 3px 1px rgba(60, 64, 67, 0.15);\n",
              "      fill: #174EA6;\n",
              "    }\n",
              "\n",
              "    .colab-df-buttons div {\n",
              "      margin-bottom: 4px;\n",
              "    }\n",
              "\n",
              "    [theme=dark] .colab-df-convert {\n",
              "      background-color: #3B4455;\n",
              "      fill: #D2E3FC;\n",
              "    }\n",
              "\n",
              "    [theme=dark] .colab-df-convert:hover {\n",
              "      background-color: #434B5C;\n",
              "      box-shadow: 0px 1px 3px 1px rgba(0, 0, 0, 0.15);\n",
              "      filter: drop-shadow(0px 1px 2px rgba(0, 0, 0, 0.3));\n",
              "      fill: #FFFFFF;\n",
              "    }\n",
              "  </style>\n",
              "\n",
              "    <script>\n",
              "      const buttonEl =\n",
              "        document.querySelector('#df-d2592115-c0ed-4cec-aa67-798e25e1aab6 button.colab-df-convert');\n",
              "      buttonEl.style.display =\n",
              "        google.colab.kernel.accessAllowed ? 'block' : 'none';\n",
              "\n",
              "      async function convertToInteractive(key) {\n",
              "        const element = document.querySelector('#df-d2592115-c0ed-4cec-aa67-798e25e1aab6');\n",
              "        const dataTable =\n",
              "          await google.colab.kernel.invokeFunction('convertToInteractive',\n",
              "                                                    [key], {});\n",
              "        if (!dataTable) return;\n",
              "\n",
              "        const docLinkHtml = 'Like what you see? Visit the ' +\n",
              "          '<a target=\"_blank\" href=https://colab.research.google.com/notebooks/data_table.ipynb>data table notebook</a>'\n",
              "          + ' to learn more about interactive tables.';\n",
              "        element.innerHTML = '';\n",
              "        dataTable['output_type'] = 'display_data';\n",
              "        await google.colab.output.renderOutput(dataTable, element);\n",
              "        const docLink = document.createElement('div');\n",
              "        docLink.innerHTML = docLinkHtml;\n",
              "        element.appendChild(docLink);\n",
              "      }\n",
              "    </script>\n",
              "  </div>\n",
              "\n",
              "\n",
              "<div id=\"df-fbc0abbb-7404-4151-bb09-da3a20b2e963\">\n",
              "  <button class=\"colab-df-quickchart\" onclick=\"quickchart('df-fbc0abbb-7404-4151-bb09-da3a20b2e963')\"\n",
              "            title=\"Suggest charts.\"\n",
              "            style=\"display:none;\">\n",
              "\n",
              "<svg xmlns=\"http://www.w3.org/2000/svg\" height=\"24px\"viewBox=\"0 0 24 24\"\n",
              "     width=\"24px\">\n",
              "    <g>\n",
              "        <path d=\"M19 3H5c-1.1 0-2 .9-2 2v14c0 1.1.9 2 2 2h14c1.1 0 2-.9 2-2V5c0-1.1-.9-2-2-2zM9 17H7v-7h2v7zm4 0h-2V7h2v10zm4 0h-2v-4h2v4z\"/>\n",
              "    </g>\n",
              "</svg>\n",
              "  </button>\n",
              "\n",
              "<style>\n",
              "  .colab-df-quickchart {\n",
              "      --bg-color: #E8F0FE;\n",
              "      --fill-color: #1967D2;\n",
              "      --hover-bg-color: #E2EBFA;\n",
              "      --hover-fill-color: #174EA6;\n",
              "      --disabled-fill-color: #AAA;\n",
              "      --disabled-bg-color: #DDD;\n",
              "  }\n",
              "\n",
              "  [theme=dark] .colab-df-quickchart {\n",
              "      --bg-color: #3B4455;\n",
              "      --fill-color: #D2E3FC;\n",
              "      --hover-bg-color: #434B5C;\n",
              "      --hover-fill-color: #FFFFFF;\n",
              "      --disabled-bg-color: #3B4455;\n",
              "      --disabled-fill-color: #666;\n",
              "  }\n",
              "\n",
              "  .colab-df-quickchart {\n",
              "    background-color: var(--bg-color);\n",
              "    border: none;\n",
              "    border-radius: 50%;\n",
              "    cursor: pointer;\n",
              "    display: none;\n",
              "    fill: var(--fill-color);\n",
              "    height: 32px;\n",
              "    padding: 0;\n",
              "    width: 32px;\n",
              "  }\n",
              "\n",
              "  .colab-df-quickchart:hover {\n",
              "    background-color: var(--hover-bg-color);\n",
              "    box-shadow: 0 1px 2px rgba(60, 64, 67, 0.3), 0 1px 3px 1px rgba(60, 64, 67, 0.15);\n",
              "    fill: var(--button-hover-fill-color);\n",
              "  }\n",
              "\n",
              "  .colab-df-quickchart-complete:disabled,\n",
              "  .colab-df-quickchart-complete:disabled:hover {\n",
              "    background-color: var(--disabled-bg-color);\n",
              "    fill: var(--disabled-fill-color);\n",
              "    box-shadow: none;\n",
              "  }\n",
              "\n",
              "  .colab-df-spinner {\n",
              "    border: 2px solid var(--fill-color);\n",
              "    border-color: transparent;\n",
              "    border-bottom-color: var(--fill-color);\n",
              "    animation:\n",
              "      spin 1s steps(1) infinite;\n",
              "  }\n",
              "\n",
              "  @keyframes spin {\n",
              "    0% {\n",
              "      border-color: transparent;\n",
              "      border-bottom-color: var(--fill-color);\n",
              "      border-left-color: var(--fill-color);\n",
              "    }\n",
              "    20% {\n",
              "      border-color: transparent;\n",
              "      border-left-color: var(--fill-color);\n",
              "      border-top-color: var(--fill-color);\n",
              "    }\n",
              "    30% {\n",
              "      border-color: transparent;\n",
              "      border-left-color: var(--fill-color);\n",
              "      border-top-color: var(--fill-color);\n",
              "      border-right-color: var(--fill-color);\n",
              "    }\n",
              "    40% {\n",
              "      border-color: transparent;\n",
              "      border-right-color: var(--fill-color);\n",
              "      border-top-color: var(--fill-color);\n",
              "    }\n",
              "    60% {\n",
              "      border-color: transparent;\n",
              "      border-right-color: var(--fill-color);\n",
              "    }\n",
              "    80% {\n",
              "      border-color: transparent;\n",
              "      border-right-color: var(--fill-color);\n",
              "      border-bottom-color: var(--fill-color);\n",
              "    }\n",
              "    90% {\n",
              "      border-color: transparent;\n",
              "      border-bottom-color: var(--fill-color);\n",
              "    }\n",
              "  }\n",
              "</style>\n",
              "\n",
              "  <script>\n",
              "    async function quickchart(key) {\n",
              "      const quickchartButtonEl =\n",
              "        document.querySelector('#' + key + ' button');\n",
              "      quickchartButtonEl.disabled = true;  // To prevent multiple clicks.\n",
              "      quickchartButtonEl.classList.add('colab-df-spinner');\n",
              "      try {\n",
              "        const charts = await google.colab.kernel.invokeFunction(\n",
              "            'suggestCharts', [key], {});\n",
              "      } catch (error) {\n",
              "        console.error('Error during call to suggestCharts:', error);\n",
              "      }\n",
              "      quickchartButtonEl.classList.remove('colab-df-spinner');\n",
              "      quickchartButtonEl.classList.add('colab-df-quickchart-complete');\n",
              "    }\n",
              "    (() => {\n",
              "      let quickchartButtonEl =\n",
              "        document.querySelector('#df-fbc0abbb-7404-4151-bb09-da3a20b2e963 button');\n",
              "      quickchartButtonEl.style.display =\n",
              "        google.colab.kernel.accessAllowed ? 'block' : 'none';\n",
              "    })();\n",
              "  </script>\n",
              "</div>\n",
              "    </div>\n",
              "  </div>\n"
            ]
          },
          "metadata": {},
          "execution_count": 2
        }
      ]
    },
    {
      "cell_type": "code",
      "source": [
        "text_pairs = []\n",
        "\n",
        "for i in range(dataset.shape[0]) :\n",
        "    eng = str(dataset[\"English\"][i])\n",
        "    tam = \"[start] \" + str(dataset[\"Tamil\"][i]) + \" [end]\"\n",
        "    text_pairs.append((eng,tam))"
      ],
      "metadata": {
        "id": "zQN83ZIYQ7VB"
      },
      "execution_count": 3,
      "outputs": []
    },
    {
      "cell_type": "code",
      "source": [
        "len(text_pairs)\n"
      ],
      "metadata": {
        "colab": {
          "base_uri": "https://localhost:8080/"
        },
        "id": "4wJmhIASVF5U",
        "outputId": "aaca871c-b7a9-4d5b-bd58-83e7961ebf99"
      },
      "execution_count": 4,
      "outputs": [
        {
          "output_type": "execute_result",
          "data": {
            "text/plain": [
              "200000"
            ]
          },
          "metadata": {},
          "execution_count": 4
        }
      ]
    },
    {
      "cell_type": "code",
      "source": [
        "train_sample_size = len(text_pairs) - int(0.1*len(text_pairs))\n",
        "train_pairs = text_pairs[:train_sample_size]\n",
        "test_pairs = text_pairs[train_sample_size:]"
      ],
      "metadata": {
        "id": "fqJLqUwqVOFa"
      },
      "execution_count": 5,
      "outputs": []
    },
    {
      "cell_type": "code",
      "source": [
        "print(\"Total pairs :\", len(text_pairs))\n",
        "print(\"Train pairs :\", len(train_pairs))\n",
        "print(\"Test pairs :\", len(test_pairs))"
      ],
      "metadata": {
        "colab": {
          "base_uri": "https://localhost:8080/"
        },
        "id": "uZePVpMOZigz",
        "outputId": "72bc61a8-db43-4dcf-d36c-cdda4fd16621"
      },
      "execution_count": 6,
      "outputs": [
        {
          "output_type": "stream",
          "name": "stdout",
          "text": [
            "Total pairs : 200000\n",
            "Train pairs : 180000\n",
            "Test pairs : 20000\n"
          ]
        }
      ]
    },
    {
      "cell_type": "code",
      "source": [
        "strip_chars = string.punctuation + \"|\"\n",
        "strip_chars = strip_chars.replace(\"[\", \"\")\n",
        "strip_chars = strip_chars.replace(\"]\", \"\")\n",
        "strip_chars = strip_chars.replace('\"\"', \"\")\n",
        "\n",
        "vocab_size = 50000\n",
        "sequence_length = 30\n",
        "batch_size = 128"
      ],
      "metadata": {
        "id": "HlFE96z5aGOH"
      },
      "execution_count": 7,
      "outputs": []
    },
    {
      "cell_type": "code",
      "source": [
        "def custom_standardization(input_string):\n",
        "    lowercase = tf.strings.lower(input_string)\n",
        "    return tf.strings.regex_replace(lowercase, \"[%s]\" % re.escape(strip_chars), \"\")"
      ],
      "metadata": {
        "id": "GVsTtwd-aQX9"
      },
      "execution_count": 8,
      "outputs": []
    },
    {
      "cell_type": "markdown",
      "source": [
        "---"
      ],
      "metadata": {
        "id": "Eka8ur6zAdx4"
      }
    },
    {
      "cell_type": "code",
      "source": [
        "eng_vectorization = TextVectorization(\n",
        "    max_tokens=vocab_size, output_mode=\"int\", output_sequence_length=sequence_length,\n",
        ")\n",
        "\n",
        "tam_vectorization = TextVectorization(\n",
        "    max_tokens=vocab_size,\n",
        "    output_mode=\"int\",\n",
        "    output_sequence_length=sequence_length + 1,\n",
        "    standardize=custom_standardization,\n",
        ")"
      ],
      "metadata": {
        "id": "gWK93ztIaXCU"
      },
      "execution_count": null,
      "outputs": []
    },
    {
      "cell_type": "code",
      "source": [
        "train_eng_texts = [pair[0] for pair in train_pairs]\n",
        "train_tam_texts = [pair[1] for pair in train_pairs]\n",
        "eng_vectorization.adapt(train_eng_texts)\n",
        "tam_vectorization.adapt(train_tam_texts)"
      ],
      "metadata": {
        "id": "fTsq6xqqacUT"
      },
      "execution_count": null,
      "outputs": []
    },
    {
      "cell_type": "code",
      "source": [
        "import json\n",
        "\n",
        "# Get the vocabulary\n",
        "eng_vocab = eng_vectorization.get_vocabulary()\n",
        "tam_vocab = tam_vectorization.get_vocabulary()\n",
        "\n",
        "\n",
        "# Save the vocabulary\n",
        "with open('/content/drive/MyDrive/NMT-Project/vectorizers/eng_vocab.json', 'w') as f:\n",
        "    json.dump(eng_vocab, f)\n",
        "with open('/content/drive/MyDrive/NMT-Project/vectorizers/tam_vocab.json', 'w') as f:\n",
        "    json.dump(tam_vocab, f)"
      ],
      "metadata": {
        "id": "XKwC7ligNnEg"
      },
      "execution_count": null,
      "outputs": []
    },
    {
      "cell_type": "code",
      "source": [
        "import json\n",
        "\n",
        "\n",
        "vocab_size = 50000\n",
        "sequence_length = 30\n",
        "batch_size = 128\n",
        "\n",
        "\n",
        "# Load the vocabulary\n",
        "with open('/content/drive/MyDrive/NMT-Project/vectorizers/eng_vocab.json', 'r') as f:\n",
        "    eng_vocab = json.load(f)\n",
        "with open('/content/drive/MyDrive/NMT-Project/vectorizers/tam_vocab.json', 'r') as f:\n",
        "    tam_vocab = json.load(f)\n",
        "\n",
        "# Create a TextVectorization layer with the loaded vocabulary\n",
        "eng_vectorization = TextVectorization(vocabulary=eng_vocab,output_mode=\"int\", output_sequence_length=sequence_length)\n",
        "tam_vectorization = TextVectorization(vocabulary=tam_vocab,output_mode=\"int\",\n",
        "    output_sequence_length=sequence_length + 1,\n",
        "    standardize=custom_standardization)"
      ],
      "metadata": {
        "id": "1j1MTJz_OG3L"
      },
      "execution_count": 9,
      "outputs": []
    },
    {
      "cell_type": "code",
      "source": [
        "def format_dataset(eng, tam):\n",
        "    eng = eng_vectorization(eng)\n",
        "    tam = tam_vectorization(tam)\n",
        "    return ({\"encoder_inputs\": eng, \"decoder_inputs\": tam[:, :-1],}, tam[:, 1:])"
      ],
      "metadata": {
        "id": "2kofnF7fagxf"
      },
      "execution_count": 10,
      "outputs": []
    },
    {
      "cell_type": "code",
      "source": [
        "def make_dataset(pairs):\n",
        "    eng_texts, tam_texts = zip(*pairs)\n",
        "    eng_texts = list(eng_texts)\n",
        "    tam_texts = list(tam_texts)\n",
        "    dataset = tf.data.Dataset.from_tensor_slices((eng_texts, tam_texts))\n",
        "    dataset = dataset.batch(batch_size)\n",
        "    dataset = dataset.map(format_dataset)\n",
        "    return dataset.shuffle(2048).prefetch(16).cache()"
      ],
      "metadata": {
        "id": "mcQhwuqdauKg"
      },
      "execution_count": 11,
      "outputs": []
    },
    {
      "cell_type": "code",
      "source": [
        "train_ds = make_dataset(train_pairs)\n",
        "test_ds = make_dataset(test_pairs)"
      ],
      "metadata": {
        "id": "3rvJJMvTbPAm"
      },
      "execution_count": 12,
      "outputs": []
    },
    {
      "cell_type": "code",
      "source": [
        "for inputs, targets in train_ds.take(2):\n",
        "    print(f'inputs[\"encoder_inputs\"].shape: {inputs[\"encoder_inputs\"].shape}')\n",
        "    print(f'inputs[\"decoder_inputs\"].shape: {inputs[\"decoder_inputs\"].shape}')\n",
        "    print(f\"targets.shape: {targets.shape}\")"
      ],
      "metadata": {
        "colab": {
          "base_uri": "https://localhost:8080/"
        },
        "id": "ihbcYj-SaxLH",
        "outputId": "9e4f3f96-c877-4e2e-be7d-c9713fb6a96c"
      },
      "execution_count": 13,
      "outputs": [
        {
          "output_type": "stream",
          "name": "stdout",
          "text": [
            "inputs[\"encoder_inputs\"].shape: (128, 30)\n",
            "inputs[\"decoder_inputs\"].shape: (128, 30)\n",
            "targets.shape: (128, 30)\n",
            "inputs[\"encoder_inputs\"].shape: (128, 30)\n",
            "inputs[\"decoder_inputs\"].shape: (128, 30)\n",
            "targets.shape: (128, 30)\n"
          ]
        }
      ]
    },
    {
      "cell_type": "code",
      "source": [
        "class TransformerEncoder(layers.Layer):\n",
        "    def __init__(self, embed_dim, dense_dim, num_heads, **kwargs):\n",
        "        super().__init__(**kwargs)\n",
        "        self.embed_dim = embed_dim\n",
        "        self.dense_dim = dense_dim\n",
        "        self.num_heads = num_heads\n",
        "        self.attention = layers.MultiHeadAttention(\n",
        "            num_heads=num_heads, key_dim=embed_dim\n",
        "        )\n",
        "        self.dense_proj = keras.Sequential(\n",
        "            [layers.Dense(dense_dim, activation=\"relu\"), layers.Dense(embed_dim),]\n",
        "        )\n",
        "        self.layernorm_1 = layers.LayerNormalization()\n",
        "        self.layernorm_2 = layers.LayerNormalization()\n",
        "        self.supports_masking = True\n",
        "\n",
        "    def call(self, inputs, mask=None):\n",
        "        if mask is not None:\n",
        "            padding_mask = tf.cast(mask[:, tf.newaxis, :], dtype=\"int32\")\n",
        "        attention_output = self.attention(\n",
        "            query=inputs, value=inputs, key=inputs, attention_mask=padding_mask\n",
        "        )\n",
        "        proj_input = self.layernorm_1(inputs + attention_output)\n",
        "        proj_output = self.dense_proj(proj_input)\n",
        "        return self.layernorm_2(proj_input + proj_output)"
      ],
      "metadata": {
        "id": "J1ELfsDzbJ8Z"
      },
      "execution_count": 14,
      "outputs": []
    },
    {
      "cell_type": "code",
      "source": [
        "class PositionalEmbedding(layers.Layer):\n",
        "    def __init__(self, sequence_length, vocab_size, embed_dim, **kwargs):\n",
        "        super().__init__(**kwargs)\n",
        "        self.token_embeddings = layers.Embedding(\n",
        "            input_dim=vocab_size, output_dim=embed_dim\n",
        "        )\n",
        "        self.position_embeddings = layers.Embedding(\n",
        "            input_dim=sequence_length, output_dim=embed_dim\n",
        "        )\n",
        "        self.sequence_length = sequence_length\n",
        "        self.vocab_size = vocab_size\n",
        "        self.embed_dim = embed_dim\n",
        "\n",
        "    def call(self, inputs):\n",
        "        length = tf.shape(inputs)[-1]\n",
        "        positions = tf.range(start=0, limit=length, delta=1)\n",
        "        embedded_tokens = self.token_embeddings(inputs)\n",
        "        embedded_positions = self.position_embeddings(positions)\n",
        "        return embedded_tokens + embedded_positions\n",
        "\n",
        "    def compute_mask(self, inputs, mask=None):\n",
        "        return tf.math.not_equal(inputs, 0)"
      ],
      "metadata": {
        "id": "zK62TVskbi0I"
      },
      "execution_count": 15,
      "outputs": []
    },
    {
      "cell_type": "code",
      "source": [
        "class TransformerDecoder(layers.Layer):\n",
        "    def __init__(self, embed_dim, latent_dim, num_heads, **kwargs):\n",
        "        super().__init__(**kwargs)\n",
        "        self.embed_dim = embed_dim\n",
        "        self.latent_dim = latent_dim\n",
        "        self.num_heads = num_heads\n",
        "        self.attention_1 = layers.MultiHeadAttention(\n",
        "            num_heads=num_heads, key_dim=embed_dim\n",
        "        )\n",
        "        self.attention_2 = layers.MultiHeadAttention(\n",
        "            num_heads=num_heads, key_dim=embed_dim\n",
        "        )\n",
        "        self.dense_proj = keras.Sequential(\n",
        "            [layers.Dense(latent_dim, activation=\"relu\"), layers.Dense(embed_dim),]\n",
        "        )\n",
        "        self.layernorm_1 = layers.LayerNormalization()\n",
        "        self.layernorm_2 = layers.LayerNormalization()\n",
        "        self.layernorm_3 = layers.LayerNormalization()\n",
        "        self.supports_masking = True\n",
        "\n",
        "    def call(self, inputs, encoder_outputs, mask=None):\n",
        "        causal_mask = self.get_causal_attention_mask(inputs)\n",
        "        if mask is not None:\n",
        "            padding_mask = tf.cast(mask[:, tf.newaxis, :], dtype=\"int32\")\n",
        "            padding_mask = tf.minimum(padding_mask, causal_mask)\n",
        "\n",
        "        attention_output_1 = self.attention_1(\n",
        "            query=inputs, value=inputs, key=inputs, attention_mask=causal_mask\n",
        "        )\n",
        "        out_1 = self.layernorm_1(inputs + attention_output_1)\n",
        "\n",
        "        attention_output_2  = self.attention_2(\n",
        "            query=out_1,\n",
        "            value=encoder_outputs,\n",
        "            key=encoder_outputs,\n",
        "            attention_mask=padding_mask,\n",
        "        )\n",
        "\n",
        "        out_2 = self.layernorm_2(out_1 + attention_output_2)\n",
        "\n",
        "        proj_output = self.dense_proj(out_2)\n",
        "        return self.layernorm_3(out_2 + proj_output)\n",
        "\n",
        "    def get_causal_attention_mask(self, inputs):\n",
        "        input_shape = tf.shape(inputs)\n",
        "        batch_size, sequence_length = input_shape[0], input_shape[1]\n",
        "        i = tf.range(sequence_length)[:, tf.newaxis]\n",
        "        j = tf.range(sequence_length)\n",
        "        mask = tf.cast(i >= j, dtype=\"int32\")\n",
        "        mask = tf.reshape(mask, (1, input_shape[1], input_shape[1]))\n",
        "        mult = tf.concat(\n",
        "            [tf.expand_dims(batch_size, -1), tf.constant([1, 1], dtype=tf.int32)],\n",
        "            axis=0,\n",
        "        )\n",
        "        return tf.tile(mask, mult)"
      ],
      "metadata": {
        "id": "Q7Icj1RNbk77"
      },
      "execution_count": 16,
      "outputs": []
    },
    {
      "cell_type": "code",
      "source": [
        "embed_dim = 512\n",
        "latent_dim = 1024\n",
        "num_heads = 8\n",
        "\n",
        "encoder_inputs = keras.Input(shape=(None,), dtype=\"int64\", name=\"encoder_inputs\")\n",
        "x = PositionalEmbedding(sequence_length, vocab_size, embed_dim)(encoder_inputs)\n",
        "encoder_outputs = TransformerEncoder(embed_dim, latent_dim, num_heads)(x)\n",
        "encoder = keras.Model(encoder_inputs, encoder_outputs)"
      ],
      "metadata": {
        "id": "4Ksz9gGNbzS6"
      },
      "execution_count": 17,
      "outputs": []
    },
    {
      "cell_type": "code",
      "source": [
        "decoder_inputs = keras.Input(shape=(None,), dtype=\"int64\", name=\"decoder_inputs\")\n",
        "encoded_seq_inputs = keras.Input(shape=(None, embed_dim), name=\"decoder_state_inputs\")\n",
        "x = PositionalEmbedding(sequence_length, vocab_size, embed_dim)(decoder_inputs)\n",
        "x = TransformerDecoder(embed_dim, latent_dim, num_heads)(x, encoded_seq_inputs)\n",
        "x = layers.Dropout(0.5)(x)\n",
        "decoder_outputs = layers.Dense(vocab_size, activation=\"softmax\")(x)\n",
        "decoder = keras.Model([decoder_inputs, encoded_seq_inputs], decoder_outputs)"
      ],
      "metadata": {
        "id": "Ct_pBX3eb19n"
      },
      "execution_count": 18,
      "outputs": []
    },
    {
      "cell_type": "code",
      "source": [
        "decoder_outputs = decoder([decoder_inputs, encoder_outputs])\n",
        "transformer = keras.Model(\n",
        "    [encoder_inputs, decoder_inputs], decoder_outputs, name=\"transformer\"\n",
        ")\n"
      ],
      "metadata": {
        "id": "JaXNIpDMb4UG"
      },
      "execution_count": 19,
      "outputs": []
    },
    {
      "cell_type": "code",
      "source": [
        "transformer.summary()"
      ],
      "metadata": {
        "colab": {
          "base_uri": "https://localhost:8080/"
        },
        "id": "Iuslbfhfb6N7",
        "outputId": "0e1a3239-b5d8-43f1-beb6-dfa3fc2837b9"
      },
      "execution_count": 20,
      "outputs": [
        {
          "output_type": "stream",
          "name": "stdout",
          "text": [
            "Model: \"transformer\"\n",
            "__________________________________________________________________________________________________\n",
            " Layer (type)                Output Shape                 Param #   Connected to                  \n",
            "==================================================================================================\n",
            " encoder_inputs (InputLayer  [(None, None)]               0         []                            \n",
            " )                                                                                                \n",
            "                                                                                                  \n",
            " positional_embedding (Posi  (None, None, 512)            2561536   ['encoder_inputs[0][0]']      \n",
            " tionalEmbedding)                                         0                                       \n",
            "                                                                                                  \n",
            " decoder_inputs (InputLayer  [(None, None)]               0         []                            \n",
            " )                                                                                                \n",
            "                                                                                                  \n",
            " transformer_encoder (Trans  (None, None, 512)            9453568   ['positional_embedding[0][0]']\n",
            " formerEncoder)                                                                                   \n",
            "                                                                                                  \n",
            " model_1 (Functional)        (None, None, 50000)          6912136   ['decoder_inputs[0][0]',      \n",
            "                                                          0          'transformer_encoder[0][0]'] \n",
            "                                                                                                  \n",
            "==================================================================================================\n",
            "Total params: 104190288 (397.45 MB)\n",
            "Trainable params: 104190288 (397.45 MB)\n",
            "Non-trainable params: 0 (0.00 Byte)\n",
            "__________________________________________________________________________________________________\n"
          ]
        }
      ]
    },
    {
      "cell_type": "code",
      "source": [
        "class CustomSchedule(tf.keras.optimizers.schedules.LearningRateSchedule):\n",
        "  def __init__(self, d_model, warmup_steps=4000):\n",
        "    super().__init__()\n",
        "\n",
        "    self.d_model = d_model\n",
        "    self.d_model = tf.cast(self.d_model, tf.float32)\n",
        "\n",
        "    self.warmup_steps = warmup_steps\n",
        "\n",
        "  def __call__(self, step):\n",
        "    step = tf.cast(step, dtype=tf.float32)\n",
        "    arg1 = tf.math.rsqrt(step)\n",
        "    arg2 = step * (self.warmup_steps ** -1.5)\n",
        "\n",
        "    return tf.math.rsqrt(self.d_model) * tf.math.minimum(arg1, arg2)\n",
        "\n",
        "  def get_config(self):\n",
        "    return {\"d_model\": self.d_model.numpy(), \"warmup_steps\": self.warmup_steps}"
      ],
      "metadata": {
        "id": "rDRJZ6Od8k7O"
      },
      "execution_count": 21,
      "outputs": []
    },
    {
      "cell_type": "code",
      "source": [
        "\n",
        "learning_rate = CustomSchedule(latent_dim)\n",
        "\n",
        "optimizer = tf.keras.optimizers.Adam(learning_rate, beta_1=0.9, beta_2=0.98,\n",
        "                                     epsilon=1e-9)"
      ],
      "metadata": {
        "id": "yxYNhrB18s1V"
      },
      "execution_count": 22,
      "outputs": []
    },
    {
      "cell_type": "code",
      "source": [
        "plt.plot(learning_rate(tf.range(40000, dtype=tf.float32)))\n",
        "plt.ylabel('Learning Rate')\n",
        "plt.xlabel('Train Step')"
      ],
      "metadata": {
        "colab": {
          "base_uri": "https://localhost:8080/",
          "height": 466
        },
        "id": "QbU5_Miv8zzQ",
        "outputId": "72d52ccd-d99a-4ed6-ec38-af0d38aee3f8"
      },
      "execution_count": 23,
      "outputs": [
        {
          "output_type": "execute_result",
          "data": {
            "text/plain": [
              "Text(0.5, 0, 'Train Step')"
            ]
          },
          "metadata": {},
          "execution_count": 23
        },
        {
          "output_type": "display_data",
          "data": {
            "text/plain": [
              "<Figure size 640x480 with 1 Axes>"
            ],
            "image/png": "[encoded data removed]"
          },
          "metadata": {}
        }
      ]
    },
    {
      "cell_type": "code",
      "source": [
        "## call backs\n",
        "early_stopping = callbacks.EarlyStopping(\n",
        "    monitor='val_loss',\n",
        "    patience=10,\n",
        "    restore_best_weights=True\n",
        ")\n",
        "\n",
        "checkpoint_filepath = '/content/drive/MyDrive/NMT-Project/checkpoint'\n",
        "model_checkpoint_callback = callbacks.ModelCheckpoint(\n",
        "    filepath=checkpoint_filepath,\n",
        "    save_weights_only=False,\n",
        "    monitor='val_accuracy',\n",
        "    mode='max',\n",
        "    save_best_only=True)\n",
        "\n",
        "csv_logger = callbacks.CSVLogger('/content/drive/MyDrive/NMT-Project/training_log.csv' , append=True)\n",
        "\n",
        "\n",
        "backup_callback = callbacks.BackupAndRestore(backup_dir=\"/content/drive/MyDrive/NMT-Project/backup\" ,\n",
        "                                             delete_checkpoint=False)"
      ],
      "metadata": {
        "id": "Ew4UXJG7gULL"
      },
      "execution_count": 24,
      "outputs": []
    },
    {
      "cell_type": "code",
      "source": [
        "epochs = 30\n",
        "transformer.compile(\n",
        "    optimizer=optimizer,\n",
        "    loss=\"sparse_categorical_crossentropy\",\n",
        "    metrics=[\"accuracy\"]\n",
        ")"
      ],
      "metadata": {
        "id": "njReIjF2cIUk"
      },
      "execution_count": 25,
      "outputs": []
    },
    {
      "cell_type": "code",
      "source": [
        "# tf.config.run_functions_eagerly(True)"
      ],
      "metadata": {
        "id": "RrqJcDAGPUZm"
      },
      "execution_count": null,
      "outputs": []
    },
    {
      "cell_type": "code",
      "source": [
        "history = transformer.fit(train_ds,\n",
        "                epochs=epochs,\n",
        "                validation_data=test_ds ,\n",
        "                callbacks=[\n",
        "                      early_stopping ,\n",
        "                      model_checkpoint_callback ,\n",
        "                      csv_logger ,\n",
        "                      backup_callback ] )"
      ],
      "metadata": {
        "colab": {
          "base_uri": "https://localhost:8080/"
        },
        "id": "CDF5Iadd9TqO",
        "outputId": "57354526-52b5-4b5e-e091-168e3ab9c5de"
      },
      "execution_count": 29,
      "outputs": [
        {
          "output_type": "stream",
          "name": "stdout",
          "text": [
            "Epoch 1/30\n",
            "1407/1407 [==============================] - 750s 532ms/step - loss: 6.8777 - accuracy: 0.2729 - val_loss: 6.2177 - val_accuracy: 0.3025\n",
            "Epoch 2/30\n",
            "1407/1407 [==============================] - 744s 529ms/step - loss: 6.0646 - accuracy: 0.3047 - val_loss: 5.7225 - val_accuracy: 0.3244\n",
            "Epoch 3/30\n",
            "1407/1407 [==============================] - 739s 526ms/step - loss: 5.7221 - accuracy: 0.3232 - val_loss: 5.4949 - val_accuracy: 0.3390\n",
            "Epoch 4/30\n",
            "1407/1407 [==============================] - 747s 531ms/step - loss: 5.4075 - accuracy: 0.3429 - val_loss: 5.2972 - val_accuracy: 0.3506\n",
            "Epoch 5/30\n",
            "1407/1407 [==============================] - 740s 526ms/step - loss: 5.1014 - accuracy: 0.3628 - val_loss: 5.1886 - val_accuracy: 0.3573\n",
            "Epoch 6/30\n",
            "1407/1407 [==============================] - 731s 520ms/step - loss: 4.8687 - accuracy: 0.3798 - val_loss: 5.1709 - val_accuracy: 0.3562\n",
            "Epoch 7/30\n",
            "1407/1407 [==============================] - 728s 517ms/step - loss: 4.6874 - accuracy: 0.3944 - val_loss: 5.1379 - val_accuracy: 0.3569\n",
            "Epoch 8/30\n",
            "1407/1407 [==============================] - 728s 517ms/step - loss: 4.5287 - accuracy: 0.4080 - val_loss: 5.1896 - val_accuracy: 0.3557\n",
            "Epoch 9/30\n",
            "1407/1407 [==============================] - 731s 520ms/step - loss: 4.3815 - accuracy: 0.4211 - val_loss: 5.2997 - val_accuracy: 0.3555\n",
            "Epoch 10/30\n",
            "1407/1407 [==============================] - 729s 518ms/step - loss: 4.2478 - accuracy: 0.4335 - val_loss: 5.2768 - val_accuracy: 0.3470\n",
            "Epoch 11/30\n",
            "1407/1407 [==============================] - 736s 523ms/step - loss: 4.1222 - accuracy: 0.4450 - val_loss: 5.3278 - val_accuracy: 0.3416\n",
            "Epoch 12/30\n",
            "1407/1407 [==============================] - 731s 520ms/step - loss: 3.9960 - accuracy: 0.4570 - val_loss: 5.4279 - val_accuracy: 0.3375\n",
            "Epoch 13/30\n",
            "1407/1407 [==============================] - 731s 520ms/step - loss: 3.8741 - accuracy: 0.4691 - val_loss: 5.4465 - val_accuracy: 0.3427\n",
            "Epoch 14/30\n",
            "1407/1407 [==============================] - 728s 518ms/step - loss: 3.7576 - accuracy: 0.4805 - val_loss: 5.4750 - val_accuracy: 0.3396\n",
            "Epoch 15/30\n",
            "1407/1407 [==============================] - 733s 521ms/step - loss: 3.6530 - accuracy: 0.4922 - val_loss: 5.5337 - val_accuracy: 0.3288\n",
            "Epoch 16/30\n",
            "1407/1407 [==============================] - 733s 521ms/step - loss: 3.5695 - accuracy: 0.5030 - val_loss: 5.4905 - val_accuracy: 0.3332\n",
            "Epoch 17/30\n",
            "1407/1407 [==============================] - 732s 520ms/step - loss: 3.5056 - accuracy: 0.5128 - val_loss: 5.5362 - val_accuracy: 0.3349\n"
          ]
        }
      ]
    },
    {
      "cell_type": "code",
      "source": [
        "transformer.save('/content/drive/MyDrive/NMT-Project/V1-50k-106M.h5')\n"
      ],
      "metadata": {
        "colab": {
          "base_uri": "https://localhost:8080/"
        },
        "id": "V3aBvgB-yFYx",
        "outputId": "3a8d6f95-6e44-4302-f85b-54e52afccb74"
      },
      "execution_count": 30,
      "outputs": [
        {
          "output_type": "stream",
          "name": "stderr",
          "text": [
            "/usr/local/lib/python3.10/dist-packages/keras/src/engine/training.py:3079: UserWarning: You are saving your model as an HDF5 file via `model.save()`. This file format is considered legacy. We recommend using instead the native Keras format, e.g. `model.save('my_model.keras')`.\n",
            "  saving_api.save_model(\n"
          ]
        }
      ]
    },
    {
      "cell_type": "code",
      "source": [
        "import os\n",
        "def plot_loss_and_accuracy(history, save_dir=None, filename=None):\n",
        "    # Extract the loss and accuracy values from the history object\n",
        "    loss = history.history['loss']\n",
        "    val_loss = history.history['val_loss']\n",
        "    accuracy = history.history['accuracy']\n",
        "    val_accuracy = history.history['val_accuracy']\n",
        "\n",
        "    # Get the number of epochs\n",
        "    epochs = range(1, len(loss) + 1)\n",
        "\n",
        "    # Plot training and validation loss\n",
        "    plt.figure(figsize=(12, 5))\n",
        "    plt.subplot(1, 2, 1)\n",
        "    plt.plot(epochs, loss, 'bo-', label='Training Loss')\n",
        "    plt.plot(epochs, val_loss, 'ro-', label='Validation Loss')\n",
        "    plt.title('Training and Validation Loss')\n",
        "    plt.xlabel('Epochs')\n",
        "    plt.ylabel('Loss')\n",
        "    plt.legend()\n",
        "\n",
        "    # Plot training and validation accuracy\n",
        "    plt.subplot(1, 2, 2)\n",
        "    plt.plot(epochs, accuracy, 'bo-', label='Training Accuracy')\n",
        "    plt.plot(epochs, val_accuracy, 'ro-', label='Validation Accuracy')\n",
        "    plt.title('Training and Validation Accuracy')\n",
        "    plt.xlabel('Epochs')\n",
        "    plt.ylabel('Accuracy')\n",
        "    plt.legend()\n",
        "\n",
        "    plt.tight_layout()\n",
        "\n",
        "    # Save the figure if save_dir and filename are provided\n",
        "    if save_dir and filename:\n",
        "        os.makedirs(save_dir, exist_ok=True)\n",
        "        save_path = os.path.join(save_dir, filename)\n",
        "        plt.savefig(save_path)\n",
        "        print(f\"Plots saved as '{save_path}'\")\n",
        "\n",
        "    plt.show()\n",
        "plot_loss_and_accuracy(history ,\"/content/drive/MyDrive/NMT-Project\", \"V1-50k-106M_trainloss.png\" )"
      ],
      "metadata": {
        "colab": {
          "base_uri": "https://localhost:8080/",
          "height": 524
        },
        "id": "92V01oYBxxDx",
        "outputId": "3a0fa319-7310-4e8f-afd3-45555cab7dc7"
      },
      "execution_count": 31,
      "outputs": [
        {
          "output_type": "stream",
          "name": "stdout",
          "text": [
            "Plots saved as '/content/drive/MyDrive/NMT-Project/V1-50k-106M_trainloss.png'\n"
          ]
        },
        {
          "output_type": "display_data",
          "data": {
            "text/plain": [
              "<Figure size 1200x500 with 2 Axes>"
            ],
            "image/png": "[encoded data removed]"
          },
          "metadata": {}
        }
      ]
    },
    {
      "cell_type": "code",
      "source": [
        "tam_vocab = tam_vectorization.get_vocabulary()\n",
        "tam_index_lookup = dict(zip(range(len(tam_vocab)), tam_vocab))\n",
        "max_decoded_sentence_length = 20"
      ],
      "metadata": {
        "id": "x4qe0ttVc2mI"
      },
      "execution_count": 32,
      "outputs": []
    },
    {
      "cell_type": "code",
      "source": [
        "def decode_sequence(input_sentence):\n",
        "    tokenized_input_sentence = eng_vectorization([input_sentence])\n",
        "    decoded_sentence = \"[start]\"\n",
        "    for i in range(max_decoded_sentence_length):\n",
        "        tokenized_target_sentence = tam_vectorization([decoded_sentence])[:, :-1]\n",
        "        predictions = transformer([tokenized_input_sentence, tokenized_target_sentence])\n",
        "\n",
        "        sampled_token_index = np.argmax(predictions[0, i, :])\n",
        "        sampled_token = tam_index_lookup[sampled_token_index]\n",
        "        decoded_sentence += \" \" + sampled_token\n",
        "\n",
        "        if sampled_token == \"[end]\":\n",
        "            break\n",
        "    return decoded_sentence"
      ],
      "metadata": {
        "id": "_0jL02Brex6k"
      },
      "execution_count": 33,
      "outputs": []
    },
    {
      "cell_type": "markdown",
      "source": [
        "### Testing on Random Train Samples"
      ],
      "metadata": {
        "id": "48uwpDWYw0LA"
      }
    },
    {
      "cell_type": "code",
      "source": [
        "# 1\n",
        "sample  = random.choice(train_pairs)\n",
        "input_sentence = sample[0]\n",
        "translated = decode_sequence(input_sentence)\n",
        "print('English - ' , input_sentence )\n",
        "print('Tamil' )\n",
        "print('Ground Truth : ', sample[1])\n",
        "print('Machine Translation : ' , translated )"
      ],
      "metadata": {
        "id": "tf0EipyJfGZX",
        "colab": {
          "base_uri": "https://localhost:8080/"
        },
        "outputId": "9b661003-223a-45f3-e197-c738daeb3d1d"
      },
      "execution_count": 35,
      "outputs": [
        {
          "output_type": "stream",
          "name": "stdout",
          "text": [
            "English -  green chillies, chopped - 1 tbsp\n",
            "Tamil\n",
            "Ground Truth :  [start] பொடியாக நறுக்கிய பச்சை மிளகாய், கறிவேப்பிலை - தலா 1 டீஸ்பூன், [end]\n",
            "Machine Translation :  [start] பச்சை மிளகாய் 1 டீஸ்பூன் [end]\n"
          ]
        }
      ]
    },
    {
      "cell_type": "code",
      "source": [
        "# 2\n",
        "sample  = random.choice(train_pairs)\n",
        "input_sentence = sample[0]\n",
        "translated = decode_sequence(input_sentence)\n",
        "print('English - ' , input_sentence )\n",
        "print('Tamil' )\n",
        "print('Ground Truth : ', sample[1])\n",
        "print('Machine Translation : ' , translated )"
      ],
      "metadata": {
        "colab": {
          "base_uri": "https://localhost:8080/"
        },
        "id": "rJ8Hv9Qvy7mu",
        "outputId": "d73e8a1a-7581-4faa-d6d4-62a82e7c423d"
      },
      "execution_count": 38,
      "outputs": [
        {
          "output_type": "stream",
          "name": "stdout",
          "text": [
            "English -  potassium carbonate is mainly used in the production of soap and glass.\n",
            "Tamil\n",
            "Ground Truth :  [start] பொட்டாசியம் கார்பனேட் ,சோப்பு மற்றும் கண்ணாடி உற்பத்தி செய்யப் பயன்படுத்தப்படுகிறது. [end]\n",
            "Machine Translation :  [start] பொட்டாசியம் கால்சியம் பாஸ்பரஸ் இரும்பு மற்றும் பொட்டாசியம் [UNK] போன்ற [UNK] உள்ளன [end]\n"
          ]
        }
      ]
    },
    {
      "cell_type": "code",
      "source": [
        "# 3\n",
        "sample  = random.choice(train_pairs)\n",
        "input_sentence = sample[0]\n",
        "translated = decode_sequence(input_sentence)\n",
        "print('English - ' , input_sentence )\n",
        "print('Tamil' )\n",
        "print('Ground Truth : ', sample[1])\n",
        "print('Machine Translation : ' , translated )"
      ],
      "metadata": {
        "colab": {
          "base_uri": "https://localhost:8080/"
        },
        "id": "KBIfrd-Yt13o",
        "outputId": "370c1f57-adc0-4cab-af3b-30115655fbb3"
      },
      "execution_count": 41,
      "outputs": [
        {
          "output_type": "stream",
          "name": "stdout",
          "text": [
            "English -  these 11...\n",
            "Tamil\n",
            "Ground Truth :  [start] இந்த 11 கெத்து குணங்கள்தாம் . [end]\n",
            "Machine Translation :  [start] இந்த 11 [end]\n"
          ]
        }
      ]
    },
    {
      "cell_type": "markdown",
      "source": [
        "### Testing on Random Test samples"
      ],
      "metadata": {
        "id": "W4KV5PbIzZgs"
      }
    },
    {
      "cell_type": "code",
      "source": [
        "# 1\n",
        "sample  = random.choice(test_pairs)\n",
        "input_sentence = sample[0]\n",
        "translated = decode_sequence(input_sentence)\n",
        "print('English - ' , input_sentence )\n",
        "print('Tamil' )\n",
        "print('Ground Truth : ', sample[1])\n",
        "print('Machine Translation : ' , translated )"
      ],
      "metadata": {
        "colab": {
          "base_uri": "https://localhost:8080/"
        },
        "id": "u0V7qFjmzZH-",
        "outputId": "44932fe2-4922-46ac-9143-4854ee1eff23"
      },
      "execution_count": 44,
      "outputs": [
        {
          "output_type": "stream",
          "name": "stdout",
          "text": [
            "English -  quarters for additional mahila judge and special judges at cuddalore in cuddalore district\n",
            "Tamil\n",
            "Ground Truth :  [start] கடலூர் மாவட்டம் கடலூரில் ஒருங்கிணைந்த நீதிமன்ற வளாகத்தில் இருசக்கர வாகனம் நிறுத்துமிடம் அமைத்தல் [end]\n",
            "Machine Translation :  [start] மாவட்ட ஆட்சியர் அலுவலக வளாகம் மற்றும் சென்னை [UNK] [end]\n"
          ]
        }
      ]
    },
    {
      "cell_type": "code",
      "source": [
        "# 2\n",
        "sample  = random.choice(test_pairs)\n",
        "input_sentence = sample[0]\n",
        "translated = decode_sequence(input_sentence)\n",
        "print('English - ' , input_sentence )\n",
        "print('Tamil' )\n",
        "print('Ground Truth : ', sample[1])\n",
        "print('Machine Translation : ' , translated )"
      ],
      "metadata": {
        "colab": {
          "base_uri": "https://localhost:8080/"
        },
        "id": "cB9NtIaxzjC9",
        "outputId": "3f5eb19c-1070-4b3b-fb7b-19ba90628253"
      },
      "execution_count": 45,
      "outputs": [
        {
          "output_type": "stream",
          "name": "stdout",
          "text": [
            "English -  his car window was broken .\n",
            "Tamil\n",
            "Ground Truth :  [start] இதில் அவரது கார் கண்ணாடிகள் உடைந்தன. [end]\n",
            "Machine Translation :  [start] அந்த கார் [UNK] [UNK] [end]\n"
          ]
        }
      ]
    },
    {
      "cell_type": "code",
      "source": [
        "# 3\n",
        "sample  = random.choice(test_pairs)\n",
        "input_sentence = sample[0]\n",
        "translated = decode_sequence(input_sentence)\n",
        "print('English - ' , input_sentence )\n",
        "print('Tamil' )\n",
        "print('Ground Truth : ', sample[1])\n",
        "print('Machine Translation : ' , translated )"
      ],
      "metadata": {
        "colab": {
          "base_uri": "https://localhost:8080/"
        },
        "id": "1PgwLW6jzp46",
        "outputId": "3d923548-c9c9-46bb-c32c-52fa4b08987a"
      },
      "execution_count": 46,
      "outputs": [
        {
          "output_type": "stream",
          "name": "stdout",
          "text": [
            "English -  the film was loved by fans.\n",
            "Tamil\n",
            "Ground Truth :  [start] ரசிகர்களுக்கு படம் பிடித்துவிட்டது. [end]\n",
            "Machine Translation :  [start] இந்த படம் ரசிகர்கள் மத்தியில் பெரும் வரவேற்பை பெற்றுள்ளது [end]\n"
          ]
        }
      ]
    },
    {
      "cell_type": "markdown",
      "source": [
        "### Testing on custom input"
      ],
      "metadata": {
        "id": "9v2hWFgm07NJ"
      }
    },
    {
      "cell_type": "code",
      "source": [
        "input_sentence = \"My name is Hrithik\"\n",
        "translated = decode_sequence(input_sentence)\n",
        "print('English - ' , input_sentence )\n",
        "print('Tamil' )\n",
        "print('Machine Translation : ' , translated )"
      ],
      "metadata": {
        "colab": {
          "base_uri": "https://localhost:8080/"
        },
        "id": "b_DVf4Kh061Q",
        "outputId": "5c15be91-c17c-405e-eaef-0506c28c16f6"
      },
      "execution_count": 47,
      "outputs": [
        {
          "output_type": "stream",
          "name": "stdout",
          "text": [
            "English -  My name is Hrithik\n",
            "Tamil\n",
            "Machine Translation :  [start] என் பெயர் [UNK] [end]\n"
          ]
        }
      ]
    },
    {
      "cell_type": "code",
      "source": [
        "input_sentence = \"I will buy milk later\"\n",
        "translated = decode_sequence(input_sentence)\n",
        "print('English - ' , input_sentence )\n",
        "print('Tamil' )\n",
        "print('Machine Translation : ' , translated )"
      ],
      "metadata": {
        "colab": {
          "base_uri": "https://localhost:8080/"
        },
        "id": "NI6nn8WSzvVP",
        "outputId": "e65e2a5d-cfa4-4bab-a7f6-f4c514b409eb"
      },
      "execution_count": 55,
      "outputs": [
        {
          "output_type": "stream",
          "name": "stdout",
          "text": [
            "English -  I will buy milk later\n",
            "Tamil\n",
            "Machine Translation :  [start] பின்னர் பால் [UNK] [end]\n"
          ]
        }
      ]
    },
    {
      "cell_type": "markdown",
      "source": [
        "---"
      ],
      "metadata": {
        "id": "toB5M_9u1rHx"
      }
    }
  ]
}