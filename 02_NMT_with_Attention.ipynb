{
  "nbformat": 4,
  "nbformat_minor": 0,
  "metadata": {
    "colab": {
      "provenance": [],
      "mount_file_id": "1J-eDWMZhgOVfjd7TPI6pTQvbinhiKMJm",
      "authorship_tag": "ABX9TyPM1BqR8A+WD76Cfx5r1klL",
      "include_colab_link": true
    },
    "kernelspec": {
      "name": "python3",
      "display_name": "Python 3"
    },
    "language_info": {
      "name": "python"
    },
    "widgets": {
      "application/vnd.jupyter.widget-state+json": {
        "d053e68d66e244dc930978fc1a51005e": {
          "model_module": "@jupyter-widgets/controls",
          "model_name": "HBoxModel",
          "model_module_version": "1.5.0",
          "state": {
            "_dom_classes": [],
            "_model_module": "@jupyter-widgets/controls",
            "_model_module_version": "1.5.0",
            "_model_name": "HBoxModel",
            "_view_count": null,
            "_view_module": "@jupyter-widgets/controls",
            "_view_module_version": "1.5.0",
            "_view_name": "HBoxView",
            "box_style": "",
            "children": [
              "IPY_MODEL_fe2a5f35be88430cbf1153c2ca9eeca3",
              "IPY_MODEL_fbafa25c652348c387e910d82a7b3fc2",
              "IPY_MODEL_4a9c47480ec549a294f7f665046ee13b"
            ],
            "layout": "IPY_MODEL_5721017a263544baae17ae7fbfb8be83"
          }
        },
        "fe2a5f35be88430cbf1153c2ca9eeca3": {
          "model_module": "@jupyter-widgets/controls",
          "model_name": "HTMLModel",
          "model_module_version": "1.5.0",
          "state": {
            "_dom_classes": [],
            "_model_module": "@jupyter-widgets/controls",
            "_model_module_version": "1.5.0",
            "_model_name": "HTMLModel",
            "_view_count": null,
            "_view_module": "@jupyter-widgets/controls",
            "_view_module_version": "1.5.0",
            "_view_name": "HTMLView",
            "description": "",
            "description_tooltip": null,
            "layout": "IPY_MODEL_90bb8678400f442dacbf91d28043fdaf",
            "placeholder": "​",
            "style": "IPY_MODEL_c7213f7e80a14139b2b41d2013d97ba3",
            "value": "Downloading https://raw.githubusercontent.com/stanfordnlp/stanza-resources/main/resources_1.6.0.json: "
          }
        },
        "fbafa25c652348c387e910d82a7b3fc2": {
          "model_module": "@jupyter-widgets/controls",
          "model_name": "FloatProgressModel",
          "model_module_version": "1.5.0",
          "state": {
            "_dom_classes": [],
            "_model_module": "@jupyter-widgets/controls",
            "_model_module_version": "1.5.0",
            "_model_name": "FloatProgressModel",
            "_view_count": null,
            "_view_module": "@jupyter-widgets/controls",
            "_view_module_version": "1.5.0",
            "_view_name": "ProgressView",
            "bar_style": "success",
            "description": "",
            "description_tooltip": null,
            "layout": "IPY_MODEL_55e0c22b08e94924a94ca36aa88baf2f",
            "max": 45749,
            "min": 0,
            "orientation": "horizontal",
            "style": "IPY_MODEL_f3c94a9feea04a3f8d28eb9ac8c7f81b",
            "value": 45749
          }
        },
        "4a9c47480ec549a294f7f665046ee13b": {
          "model_module": "@jupyter-widgets/controls",
          "model_name": "HTMLModel",
          "model_module_version": "1.5.0",
          "state": {
            "_dom_classes": [],
            "_model_module": "@jupyter-widgets/controls",
            "_model_module_version": "1.5.0",
            "_model_name": "HTMLModel",
            "_view_count": null,
            "_view_module": "@jupyter-widgets/controls",
            "_view_module_version": "1.5.0",
            "_view_name": "HTMLView",
            "description": "",
            "description_tooltip": null,
            "layout": "IPY_MODEL_66b07b5e432a45ee90d614a7fe1cac00",
            "placeholder": "​",
            "style": "IPY_MODEL_e802e381ae184992baf1a19844286d02",
            "value": " 367k/? [00:00&lt;00:00, 12.4MB/s]"
          }
        },
        "5721017a263544baae17ae7fbfb8be83": {
          "model_module": "@jupyter-widgets/base",
          "model_name": "LayoutModel",
          "model_module_version": "1.2.0",
          "state": {
            "_model_module": "@jupyter-widgets/base",
            "_model_module_version": "1.2.0",
            "_model_name": "LayoutModel",
            "_view_count": null,
            "_view_module": "@jupyter-widgets/base",
            "_view_module_version": "1.2.0",
            "_view_name": "LayoutView",
            "align_content": null,
            "align_items": null,
            "align_self": null,
            "border": null,
            "bottom": null,
            "display": null,
            "flex": null,
            "flex_flow": null,
            "grid_area": null,
            "grid_auto_columns": null,
            "grid_auto_flow": null,
            "grid_auto_rows": null,
            "grid_column": null,
            "grid_gap": null,
            "grid_row": null,
            "grid_template_areas": null,
            "grid_template_columns": null,
            "grid_template_rows": null,
            "height": null,
            "justify_content": null,
            "justify_items": null,
            "left": null,
            "margin": null,
            "max_height": null,
            "max_width": null,
            "min_height": null,
            "min_width": null,
            "object_fit": null,
            "object_position": null,
            "order": null,
            "overflow": null,
            "overflow_x": null,
            "overflow_y": null,
            "padding": null,
            "right": null,
            "top": null,
            "visibility": null,
            "width": null
          }
        },
        "90bb8678400f442dacbf91d28043fdaf": {
          "model_module": "@jupyter-widgets/base",
          "model_name": "LayoutModel",
          "model_module_version": "1.2.0",
          "state": {
            "_model_module": "@jupyter-widgets/base",
            "_model_module_version": "1.2.0",
            "_model_name": "LayoutModel",
            "_view_count": null,
            "_view_module": "@jupyter-widgets/base",
            "_view_module_version": "1.2.0",
            "_view_name": "LayoutView",
            "align_content": null,
            "align_items": null,
            "align_self": null,
            "border": null,
            "bottom": null,
            "display": null,
            "flex": null,
            "flex_flow": null,
            "grid_area": null,
            "grid_auto_columns": null,
            "grid_auto_flow": null,
            "grid_auto_rows": null,
            "grid_column": null,
            "grid_gap": null,
            "grid_row": null,
            "grid_template_areas": null,
            "grid_template_columns": null,
            "grid_template_rows": null,
            "height": null,
            "justify_content": null,
            "justify_items": null,
            "left": null,
            "margin": null,
            "max_height": null,
            "max_width": null,
            "min_height": null,
            "min_width": null,
            "object_fit": null,
            "object_position": null,
            "order": null,
            "overflow": null,
            "overflow_x": null,
            "overflow_y": null,
            "padding": null,
            "right": null,
            "top": null,
            "visibility": null,
            "width": null
          }
        },
        "c7213f7e80a14139b2b41d2013d97ba3": {
          "model_module": "@jupyter-widgets/controls",
          "model_name": "DescriptionStyleModel",
          "model_module_version": "1.5.0",
          "state": {
            "_model_module": "@jupyter-widgets/controls",
            "_model_module_version": "1.5.0",
            "_model_name": "DescriptionStyleModel",
            "_view_count": null,
            "_view_module": "@jupyter-widgets/base",
            "_view_module_version": "1.2.0",
            "_view_name": "StyleView",
            "description_width": ""
          }
        },
        "55e0c22b08e94924a94ca36aa88baf2f": {
          "model_module": "@jupyter-widgets/base",
          "model_name": "LayoutModel",
          "model_module_version": "1.2.0",
          "state": {
            "_model_module": "@jupyter-widgets/base",
            "_model_module_version": "1.2.0",
            "_model_name": "LayoutModel",
            "_view_count": null,
            "_view_module": "@jupyter-widgets/base",
            "_view_module_version": "1.2.0",
            "_view_name": "LayoutView",
            "align_content": null,
            "align_items": null,
            "align_self": null,
            "border": null,
            "bottom": null,
            "display": null,
            "flex": null,
            "flex_flow": null,
            "grid_area": null,
            "grid_auto_columns": null,
            "grid_auto_flow": null,
            "grid_auto_rows": null,
            "grid_column": null,
            "grid_gap": null,
            "grid_row": null,
            "grid_template_areas": null,
            "grid_template_columns": null,
            "grid_template_rows": null,
            "height": null,
            "justify_content": null,
            "justify_items": null,
            "left": null,
            "margin": null,
            "max_height": null,
            "max_width": null,
            "min_height": null,
            "min_width": null,
            "object_fit": null,
            "object_position": null,
            "order": null,
            "overflow": null,
            "overflow_x": null,
            "overflow_y": null,
            "padding": null,
            "right": null,
            "top": null,
            "visibility": null,
            "width": null
          }
        },
        "f3c94a9feea04a3f8d28eb9ac8c7f81b": {
          "model_module": "@jupyter-widgets/controls",
          "model_name": "ProgressStyleModel",
          "model_module_version": "1.5.0",
          "state": {
            "_model_module": "@jupyter-widgets/controls",
            "_model_module_version": "1.5.0",
            "_model_name": "ProgressStyleModel",
            "_view_count": null,
            "_view_module": "@jupyter-widgets/base",
            "_view_module_version": "1.2.0",
            "_view_name": "StyleView",
            "bar_color": null,
            "description_width": ""
          }
        },
        "66b07b5e432a45ee90d614a7fe1cac00": {
          "model_module": "@jupyter-widgets/base",
          "model_name": "LayoutModel",
          "model_module_version": "1.2.0",
          "state": {
            "_model_module": "@jupyter-widgets/base",
            "_model_module_version": "1.2.0",
            "_model_name": "LayoutModel",
            "_view_count": null,
            "_view_module": "@jupyter-widgets/base",
            "_view_module_version": "1.2.0",
            "_view_name": "LayoutView",
            "align_content": null,
            "align_items": null,
            "align_self": null,
            "border": null,
            "bottom": null,
            "display": null,
            "flex": null,
            "flex_flow": null,
            "grid_area": null,
            "grid_auto_columns": null,
            "grid_auto_flow": null,
            "grid_auto_rows": null,
            "grid_column": null,
            "grid_gap": null,
            "grid_row": null,
            "grid_template_areas": null,
            "grid_template_columns": null,
            "grid_template_rows": null,
            "height": null,
            "justify_content": null,
            "justify_items": null,
            "left": null,
            "margin": null,
            "max_height": null,
            "max_width": null,
            "min_height": null,
            "min_width": null,
            "object_fit": null,
            "object_position": null,
            "order": null,
            "overflow": null,
            "overflow_x": null,
            "overflow_y": null,
            "padding": null,
            "right": null,
            "top": null,
            "visibility": null,
            "width": null
          }
        },
        "e802e381ae184992baf1a19844286d02": {
          "model_module": "@jupyter-widgets/controls",
          "model_name": "DescriptionStyleModel",
          "model_module_version": "1.5.0",
          "state": {
            "_model_module": "@jupyter-widgets/controls",
            "_model_module_version": "1.5.0",
            "_model_name": "DescriptionStyleModel",
            "_view_count": null,
            "_view_module": "@jupyter-widgets/base",
            "_view_module_version": "1.2.0",
            "_view_name": "StyleView",
            "description_width": ""
          }
        },
        "d95e29a7f1004b23b7dd3d35d8e1c86c": {
          "model_module": "@jupyter-widgets/controls",
          "model_name": "HBoxModel",
          "model_module_version": "1.5.0",
          "state": {
            "_dom_classes": [],
            "_model_module": "@jupyter-widgets/controls",
            "_model_module_version": "1.5.0",
            "_model_name": "HBoxModel",
            "_view_count": null,
            "_view_module": "@jupyter-widgets/controls",
            "_view_module_version": "1.5.0",
            "_view_name": "HBoxView",
            "box_style": "",
            "children": [
              "IPY_MODEL_a0f0516d1bca4b4f8c45e376031c84ef",
              "IPY_MODEL_71ea19be9fc54b1580bce5237d8b9f65",
              "IPY_MODEL_4d7fd55a3beb4b9db12d87ef07e73fa0"
            ],
            "layout": "IPY_MODEL_3ceb5513445543aeb460ceeca7be1419"
          }
        },
        "a0f0516d1bca4b4f8c45e376031c84ef": {
          "model_module": "@jupyter-widgets/controls",
          "model_name": "HTMLModel",
          "model_module_version": "1.5.0",
          "state": {
            "_dom_classes": [],
            "_model_module": "@jupyter-widgets/controls",
            "_model_module_version": "1.5.0",
            "_model_name": "HTMLModel",
            "_view_count": null,
            "_view_module": "@jupyter-widgets/controls",
            "_view_module_version": "1.5.0",
            "_view_name": "HTMLView",
            "description": "",
            "description_tooltip": null,
            "layout": "IPY_MODEL_c2e2cac2490a4e83851942a2c3e0ba71",
            "placeholder": "​",
            "style": "IPY_MODEL_dfcfe67cb2e94b758805c0a5c4638cb0",
            "value": "Downloading https://raw.githubusercontent.com/stanfordnlp/stanza-resources/main/resources_1.6.0.json: "
          }
        },
        "71ea19be9fc54b1580bce5237d8b9f65": {
          "model_module": "@jupyter-widgets/controls",
          "model_name": "FloatProgressModel",
          "model_module_version": "1.5.0",
          "state": {
            "_dom_classes": [],
            "_model_module": "@jupyter-widgets/controls",
            "_model_module_version": "1.5.0",
            "_model_name": "FloatProgressModel",
            "_view_count": null,
            "_view_module": "@jupyter-widgets/controls",
            "_view_module_version": "1.5.0",
            "_view_name": "ProgressView",
            "bar_style": "success",
            "description": "",
            "description_tooltip": null,
            "layout": "IPY_MODEL_d9fa9cfa817b4ea888d94c9f611b320d",
            "max": 45749,
            "min": 0,
            "orientation": "horizontal",
            "style": "IPY_MODEL_38e8d20a8eb9425bba7c5aedf1b73371",
            "value": 45749
          }
        },
        "4d7fd55a3beb4b9db12d87ef07e73fa0": {
          "model_module": "@jupyter-widgets/controls",
          "model_name": "HTMLModel",
          "model_module_version": "1.5.0",
          "state": {
            "_dom_classes": [],
            "_model_module": "@jupyter-widgets/controls",
            "_model_module_version": "1.5.0",
            "_model_name": "HTMLModel",
            "_view_count": null,
            "_view_module": "@jupyter-widgets/controls",
            "_view_module_version": "1.5.0",
            "_view_name": "HTMLView",
            "description": "",
            "description_tooltip": null,
            "layout": "IPY_MODEL_7d82e96f47474b0c9f41fe78fa4910d0",
            "placeholder": "​",
            "style": "IPY_MODEL_b3503e0114404b4f896101cba1e0ddf4",
            "value": " 367k/? [00:00&lt;00:00, 10.3MB/s]"
          }
        },
        "3ceb5513445543aeb460ceeca7be1419": {
          "model_module": "@jupyter-widgets/base",
          "model_name": "LayoutModel",
          "model_module_version": "1.2.0",
          "state": {
            "_model_module": "@jupyter-widgets/base",
            "_model_module_version": "1.2.0",
            "_model_name": "LayoutModel",
            "_view_count": null,
            "_view_module": "@jupyter-widgets/base",
            "_view_module_version": "1.2.0",
            "_view_name": "LayoutView",
            "align_content": null,
            "align_items": null,
            "align_self": null,
            "border": null,
            "bottom": null,
            "display": null,
            "flex": null,
            "flex_flow": null,
            "grid_area": null,
            "grid_auto_columns": null,
            "grid_auto_flow": null,
            "grid_auto_rows": null,
            "grid_column": null,
            "grid_gap": null,
            "grid_row": null,
            "grid_template_areas": null,
            "grid_template_columns": null,
            "grid_template_rows": null,
            "height": null,
            "justify_content": null,
            "justify_items": null,
            "left": null,
            "margin": null,
            "max_height": null,
            "max_width": null,
            "min_height": null,
            "min_width": null,
            "object_fit": null,
            "object_position": null,
            "order": null,
            "overflow": null,
            "overflow_x": null,
            "overflow_y": null,
            "padding": null,
            "right": null,
            "top": null,
            "visibility": null,
            "width": null
          }
        },
        "c2e2cac2490a4e83851942a2c3e0ba71": {
          "model_module": "@jupyter-widgets/base",
          "model_name": "LayoutModel",
          "model_module_version": "1.2.0",
          "state": {
            "_model_module": "@jupyter-widgets/base",
            "_model_module_version": "1.2.0",
            "_model_name": "LayoutModel",
            "_view_count": null,
            "_view_module": "@jupyter-widgets/base",
            "_view_module_version": "1.2.0",
            "_view_name": "LayoutView",
            "align_content": null,
            "align_items": null,
            "align_self": null,
            "border": null,
            "bottom": null,
            "display": null,
            "flex": null,
            "flex_flow": null,
            "grid_area": null,
            "grid_auto_columns": null,
            "grid_auto_flow": null,
            "grid_auto_rows": null,
            "grid_column": null,
            "grid_gap": null,
            "grid_row": null,
            "grid_template_areas": null,
            "grid_template_columns": null,
            "grid_template_rows": null,
            "height": null,
            "justify_content": null,
            "justify_items": null,
            "left": null,
            "margin": null,
            "max_height": null,
            "max_width": null,
            "min_height": null,
            "min_width": null,
            "object_fit": null,
            "object_position": null,
            "order": null,
            "overflow": null,
            "overflow_x": null,
            "overflow_y": null,
            "padding": null,
            "right": null,
            "top": null,
            "visibility": null,
            "width": null
          }
        },
        "dfcfe67cb2e94b758805c0a5c4638cb0": {
          "model_module": "@jupyter-widgets/controls",
          "model_name": "DescriptionStyleModel",
          "model_module_version": "1.5.0",
          "state": {
            "_model_module": "@jupyter-widgets/controls",
            "_model_module_version": "1.5.0",
            "_model_name": "DescriptionStyleModel",
            "_view_count": null,
            "_view_module": "@jupyter-widgets/base",
            "_view_module_version": "1.2.0",
            "_view_name": "StyleView",
            "description_width": ""
          }
        },
        "d9fa9cfa817b4ea888d94c9f611b320d": {
          "model_module": "@jupyter-widgets/base",
          "model_name": "LayoutModel",
          "model_module_version": "1.2.0",
          "state": {
            "_model_module": "@jupyter-widgets/base",
            "_model_module_version": "1.2.0",
            "_model_name": "LayoutModel",
            "_view_count": null,
            "_view_module": "@jupyter-widgets/base",
            "_view_module_version": "1.2.0",
            "_view_name": "LayoutView",
            "align_content": null,
            "align_items": null,
            "align_self": null,
            "border": null,
            "bottom": null,
            "display": null,
            "flex": null,
            "flex_flow": null,
            "grid_area": null,
            "grid_auto_columns": null,
            "grid_auto_flow": null,
            "grid_auto_rows": null,
            "grid_column": null,
            "grid_gap": null,
            "grid_row": null,
            "grid_template_areas": null,
            "grid_template_columns": null,
            "grid_template_rows": null,
            "height": null,
            "justify_content": null,
            "justify_items": null,
            "left": null,
            "margin": null,
            "max_height": null,
            "max_width": null,
            "min_height": null,
            "min_width": null,
            "object_fit": null,
            "object_position": null,
            "order": null,
            "overflow": null,
            "overflow_x": null,
            "overflow_y": null,
            "padding": null,
            "right": null,
            "top": null,
            "visibility": null,
            "width": null
          }
        },
        "38e8d20a8eb9425bba7c5aedf1b73371": {
          "model_module": "@jupyter-widgets/controls",
          "model_name": "ProgressStyleModel",
          "model_module_version": "1.5.0",
          "state": {
            "_model_module": "@jupyter-widgets/controls",
            "_model_module_version": "1.5.0",
            "_model_name": "ProgressStyleModel",
            "_view_count": null,
            "_view_module": "@jupyter-widgets/base",
            "_view_module_version": "1.2.0",
            "_view_name": "StyleView",
            "bar_color": null,
            "description_width": ""
          }
        },
        "7d82e96f47474b0c9f41fe78fa4910d0": {
          "model_module": "@jupyter-widgets/base",
          "model_name": "LayoutModel",
          "model_module_version": "1.2.0",
          "state": {
            "_model_module": "@jupyter-widgets/base",
            "_model_module_version": "1.2.0",
            "_model_name": "LayoutModel",
            "_view_count": null,
            "_view_module": "@jupyter-widgets/base",
            "_view_module_version": "1.2.0",
            "_view_name": "LayoutView",
            "align_content": null,
            "align_items": null,
            "align_self": null,
            "border": null,
            "bottom": null,
            "display": null,
            "flex": null,
            "flex_flow": null,
            "grid_area": null,
            "grid_auto_columns": null,
            "grid_auto_flow": null,
            "grid_auto_rows": null,
            "grid_column": null,
            "grid_gap": null,
            "grid_row": null,
            "grid_template_areas": null,
            "grid_template_columns": null,
            "grid_template_rows": null,
            "height": null,
            "justify_content": null,
            "justify_items": null,
            "left": null,
            "margin": null,
            "max_height": null,
            "max_width": null,
            "min_height": null,
            "min_width": null,
            "object_fit": null,
            "object_position": null,
            "order": null,
            "overflow": null,
            "overflow_x": null,
            "overflow_y": null,
            "padding": null,
            "right": null,
            "top": null,
            "visibility": null,
            "width": null
          }
        },
        "b3503e0114404b4f896101cba1e0ddf4": {
          "model_module": "@jupyter-widgets/controls",
          "model_name": "DescriptionStyleModel",
          "model_module_version": "1.5.0",
          "state": {
            "_model_module": "@jupyter-widgets/controls",
            "_model_module_version": "1.5.0",
            "_model_name": "DescriptionStyleModel",
            "_view_count": null,
            "_view_module": "@jupyter-widgets/base",
            "_view_module_version": "1.2.0",
            "_view_name": "StyleView",
            "description_width": ""
          }
        },
        "c0062bd2b0f347df937c72c3729d0706": {
          "model_module": "@jupyter-widgets/controls",
          "model_name": "HBoxModel",
          "model_module_version": "1.5.0",
          "state": {
            "_dom_classes": [],
            "_model_module": "@jupyter-widgets/controls",
            "_model_module_version": "1.5.0",
            "_model_name": "HBoxModel",
            "_view_count": null,
            "_view_module": "@jupyter-widgets/controls",
            "_view_module_version": "1.5.0",
            "_view_name": "HBoxView",
            "box_style": "",
            "children": [
              "IPY_MODEL_6933c799a2034eb995722eaa95cc3cb8",
              "IPY_MODEL_356ac96104a841eb9d05b4daf2041772",
              "IPY_MODEL_8f7c441cdf664f9390dfa9b28408d2b7"
            ],
            "layout": "IPY_MODEL_974eb0a0905b4ae0b0a91f3694a0dda1"
          }
        },
        "6933c799a2034eb995722eaa95cc3cb8": {
          "model_module": "@jupyter-widgets/controls",
          "model_name": "HTMLModel",
          "model_module_version": "1.5.0",
          "state": {
            "_dom_classes": [],
            "_model_module": "@jupyter-widgets/controls",
            "_model_module_version": "1.5.0",
            "_model_name": "HTMLModel",
            "_view_count": null,
            "_view_module": "@jupyter-widgets/controls",
            "_view_module_version": "1.5.0",
            "_view_name": "HTMLView",
            "description": "",
            "description_tooltip": null,
            "layout": "IPY_MODEL_d7f6f802c0e447c8a97ce0f46832096f",
            "placeholder": "​",
            "style": "IPY_MODEL_a6e41eefeda64cd5b099a2b966803d0d",
            "value": "Map: 100%"
          }
        },
        "356ac96104a841eb9d05b4daf2041772": {
          "model_module": "@jupyter-widgets/controls",
          "model_name": "FloatProgressModel",
          "model_module_version": "1.5.0",
          "state": {
            "_dom_classes": [],
            "_model_module": "@jupyter-widgets/controls",
            "_model_module_version": "1.5.0",
            "_model_name": "FloatProgressModel",
            "_view_count": null,
            "_view_module": "@jupyter-widgets/controls",
            "_view_module_version": "1.5.0",
            "_view_name": "ProgressView",
            "bar_style": "success",
            "description": "",
            "description_tooltip": null,
            "layout": "IPY_MODEL_38477b0ff33d483598f1a8f245c26877",
            "max": 50000,
            "min": 0,
            "orientation": "horizontal",
            "style": "IPY_MODEL_114c81e92bd145a5824544e3abc05b47",
            "value": 50000
          }
        },
        "8f7c441cdf664f9390dfa9b28408d2b7": {
          "model_module": "@jupyter-widgets/controls",
          "model_name": "HTMLModel",
          "model_module_version": "1.5.0",
          "state": {
            "_dom_classes": [],
            "_model_module": "@jupyter-widgets/controls",
            "_model_module_version": "1.5.0",
            "_model_name": "HTMLModel",
            "_view_count": null,
            "_view_module": "@jupyter-widgets/controls",
            "_view_module_version": "1.5.0",
            "_view_name": "HTMLView",
            "description": "",
            "description_tooltip": null,
            "layout": "IPY_MODEL_f488d7bdf82c49019177c105239f6f9a",
            "placeholder": "​",
            "style": "IPY_MODEL_2b8a1fd73c68476cabe8b8509db49f7b",
            "value": " 50000/50000 [00:15&lt;00:00, 4216.19 examples/s]"
          }
        },
        "974eb0a0905b4ae0b0a91f3694a0dda1": {
          "model_module": "@jupyter-widgets/base",
          "model_name": "LayoutModel",
          "model_module_version": "1.2.0",
          "state": {
            "_model_module": "@jupyter-widgets/base",
            "_model_module_version": "1.2.0",
            "_model_name": "LayoutModel",
            "_view_count": null,
            "_view_module": "@jupyter-widgets/base",
            "_view_module_version": "1.2.0",
            "_view_name": "LayoutView",
            "align_content": null,
            "align_items": null,
            "align_self": null,
            "border": null,
            "bottom": null,
            "display": null,
            "flex": null,
            "flex_flow": null,
            "grid_area": null,
            "grid_auto_columns": null,
            "grid_auto_flow": null,
            "grid_auto_rows": null,
            "grid_column": null,
            "grid_gap": null,
            "grid_row": null,
            "grid_template_areas": null,
            "grid_template_columns": null,
            "grid_template_rows": null,
            "height": null,
            "justify_content": null,
            "justify_items": null,
            "left": null,
            "margin": null,
            "max_height": null,
            "max_width": null,
            "min_height": null,
            "min_width": null,
            "object_fit": null,
            "object_position": null,
            "order": null,
            "overflow": null,
            "overflow_x": null,
            "overflow_y": null,
            "padding": null,
            "right": null,
            "top": null,
            "visibility": null,
            "width": null
          }
        },
        "d7f6f802c0e447c8a97ce0f46832096f": {
          "model_module": "@jupyter-widgets/base",
          "model_name": "LayoutModel",
          "model_module_version": "1.2.0",
          "state": {
            "_model_module": "@jupyter-widgets/base",
            "_model_module_version": "1.2.0",
            "_model_name": "LayoutModel",
            "_view_count": null,
            "_view_module": "@jupyter-widgets/base",
            "_view_module_version": "1.2.0",
            "_view_name": "LayoutView",
            "align_content": null,
            "align_items": null,
            "align_self": null,
            "border": null,
            "bottom": null,
            "display": null,
            "flex": null,
            "flex_flow": null,
            "grid_area": null,
            "grid_auto_columns": null,
            "grid_auto_flow": null,
            "grid_auto_rows": null,
            "grid_column": null,
            "grid_gap": null,
            "grid_row": null,
            "grid_template_areas": null,
            "grid_template_columns": null,
            "grid_template_rows": null,
            "height": null,
            "justify_content": null,
            "justify_items": null,
            "left": null,
            "margin": null,
            "max_height": null,
            "max_width": null,
            "min_height": null,
            "min_width": null,
            "object_fit": null,
            "object_position": null,
            "order": null,
            "overflow": null,
            "overflow_x": null,
            "overflow_y": null,
            "padding": null,
            "right": null,
            "top": null,
            "visibility": null,
            "width": null
          }
        },
        "a6e41eefeda64cd5b099a2b966803d0d": {
          "model_module": "@jupyter-widgets/controls",
          "model_name": "DescriptionStyleModel",
          "model_module_version": "1.5.0",
          "state": {
            "_model_module": "@jupyter-widgets/controls",
            "_model_module_version": "1.5.0",
            "_model_name": "DescriptionStyleModel",
            "_view_count": null,
            "_view_module": "@jupyter-widgets/base",
            "_view_module_version": "1.2.0",
            "_view_name": "StyleView",
            "description_width": ""
          }
        },
        "38477b0ff33d483598f1a8f245c26877": {
          "model_module": "@jupyter-widgets/base",
          "model_name": "LayoutModel",
          "model_module_version": "1.2.0",
          "state": {
            "_model_module": "@jupyter-widgets/base",
            "_model_module_version": "1.2.0",
            "_model_name": "LayoutModel",
            "_view_count": null,
            "_view_module": "@jupyter-widgets/base",
            "_view_module_version": "1.2.0",
            "_view_name": "LayoutView",
            "align_content": null,
            "align_items": null,
            "align_self": null,
            "border": null,
            "bottom": null,
            "display": null,
            "flex": null,
            "flex_flow": null,
            "grid_area": null,
            "grid_auto_columns": null,
            "grid_auto_flow": null,
            "grid_auto_rows": null,
            "grid_column": null,
            "grid_gap": null,
            "grid_row": null,
            "grid_template_areas": null,
            "grid_template_columns": null,
            "grid_template_rows": null,
            "height": null,
            "justify_content": null,
            "justify_items": null,
            "left": null,
            "margin": null,
            "max_height": null,
            "max_width": null,
            "min_height": null,
            "min_width": null,
            "object_fit": null,
            "object_position": null,
            "order": null,
            "overflow": null,
            "overflow_x": null,
            "overflow_y": null,
            "padding": null,
            "right": null,
            "top": null,
            "visibility": null,
            "width": null
          }
        },
        "114c81e92bd145a5824544e3abc05b47": {
          "model_module": "@jupyter-widgets/controls",
          "model_name": "ProgressStyleModel",
          "model_module_version": "1.5.0",
          "state": {
            "_model_module": "@jupyter-widgets/controls",
            "_model_module_version": "1.5.0",
            "_model_name": "ProgressStyleModel",
            "_view_count": null,
            "_view_module": "@jupyter-widgets/base",
            "_view_module_version": "1.2.0",
            "_view_name": "StyleView",
            "bar_color": null,
            "description_width": ""
          }
        },
        "f488d7bdf82c49019177c105239f6f9a": {
          "model_module": "@jupyter-widgets/base",
          "model_name": "LayoutModel",
          "model_module_version": "1.2.0",
          "state": {
            "_model_module": "@jupyter-widgets/base",
            "_model_module_version": "1.2.0",
            "_model_name": "LayoutModel",
            "_view_count": null,
            "_view_module": "@jupyter-widgets/base",
            "_view_module_version": "1.2.0",
            "_view_name": "LayoutView",
            "align_content": null,
            "align_items": null,
            "align_self": null,
            "border": null,
            "bottom": null,
            "display": null,
            "flex": null,
            "flex_flow": null,
            "grid_area": null,
            "grid_auto_columns": null,
            "grid_auto_flow": null,
            "grid_auto_rows": null,
            "grid_column": null,
            "grid_gap": null,
            "grid_row": null,
            "grid_template_areas": null,
            "grid_template_columns": null,
            "grid_template_rows": null,
            "height": null,
            "justify_content": null,
            "justify_items": null,
            "left": null,
            "margin": null,
            "max_height": null,
            "max_width": null,
            "min_height": null,
            "min_width": null,
            "object_fit": null,
            "object_position": null,
            "order": null,
            "overflow": null,
            "overflow_x": null,
            "overflow_y": null,
            "padding": null,
            "right": null,
            "top": null,
            "visibility": null,
            "width": null
          }
        },
        "2b8a1fd73c68476cabe8b8509db49f7b": {
          "model_module": "@jupyter-widgets/controls",
          "model_name": "DescriptionStyleModel",
          "model_module_version": "1.5.0",
          "state": {
            "_model_module": "@jupyter-widgets/controls",
            "_model_module_version": "1.5.0",
            "_model_name": "DescriptionStyleModel",
            "_view_count": null,
            "_view_module": "@jupyter-widgets/base",
            "_view_module_version": "1.2.0",
            "_view_name": "StyleView",
            "description_width": ""
          }
        },
        "ac1d0521ab474388896ffe74b30a7f46": {
          "model_module": "@jupyter-widgets/controls",
          "model_name": "HBoxModel",
          "model_module_version": "1.5.0",
          "state": {
            "_dom_classes": [],
            "_model_module": "@jupyter-widgets/controls",
            "_model_module_version": "1.5.0",
            "_model_name": "HBoxModel",
            "_view_count": null,
            "_view_module": "@jupyter-widgets/controls",
            "_view_module_version": "1.5.0",
            "_view_name": "HBoxView",
            "box_style": "",
            "children": [
              "IPY_MODEL_5d89711bf7bf4c98b61dd8058a008ae0",
              "IPY_MODEL_48686089a92b47abb6d4b94883bd0177",
              "IPY_MODEL_09d17849f5fd4fbbaa6a98d3828a4274"
            ],
            "layout": "IPY_MODEL_e48d33ef41cf4ff4b71515846382bac3"
          }
        },
        "5d89711bf7bf4c98b61dd8058a008ae0": {
          "model_module": "@jupyter-widgets/controls",
          "model_name": "HTMLModel",
          "model_module_version": "1.5.0",
          "state": {
            "_dom_classes": [],
            "_model_module": "@jupyter-widgets/controls",
            "_model_module_version": "1.5.0",
            "_model_name": "HTMLModel",
            "_view_count": null,
            "_view_module": "@jupyter-widgets/controls",
            "_view_module_version": "1.5.0",
            "_view_name": "HTMLView",
            "description": "",
            "description_tooltip": null,
            "layout": "IPY_MODEL_1664d8f53dc44bf9ba55865ef2eda386",
            "placeholder": "​",
            "style": "IPY_MODEL_8cb34020d86440f3831276c44fd9e2f9",
            "value": "Map: 100%"
          }
        },
        "48686089a92b47abb6d4b94883bd0177": {
          "model_module": "@jupyter-widgets/controls",
          "model_name": "FloatProgressModel",
          "model_module_version": "1.5.0",
          "state": {
            "_dom_classes": [],
            "_model_module": "@jupyter-widgets/controls",
            "_model_module_version": "1.5.0",
            "_model_name": "FloatProgressModel",
            "_view_count": null,
            "_view_module": "@jupyter-widgets/controls",
            "_view_module_version": "1.5.0",
            "_view_name": "ProgressView",
            "bar_style": "success",
            "description": "",
            "description_tooltip": null,
            "layout": "IPY_MODEL_d21b4b7e89034af092d1e63832c7d9fb",
            "max": 50000,
            "min": 0,
            "orientation": "horizontal",
            "style": "IPY_MODEL_2fe4f0fb70894cd096185758f04df1b5",
            "value": 50000
          }
        },
        "09d17849f5fd4fbbaa6a98d3828a4274": {
          "model_module": "@jupyter-widgets/controls",
          "model_name": "HTMLModel",
          "model_module_version": "1.5.0",
          "state": {
            "_dom_classes": [],
            "_model_module": "@jupyter-widgets/controls",
            "_model_module_version": "1.5.0",
            "_model_name": "HTMLModel",
            "_view_count": null,
            "_view_module": "@jupyter-widgets/controls",
            "_view_module_version": "1.5.0",
            "_view_name": "HTMLView",
            "description": "",
            "description_tooltip": null,
            "layout": "IPY_MODEL_2ce271ca8c8d455c890e035fba0e7413",
            "placeholder": "​",
            "style": "IPY_MODEL_d60f9f0df4a04bb08b2f9cb546914d10",
            "value": " 50000/50000 [00:00&lt;00:00, 133802.18 examples/s]"
          }
        },
        "e48d33ef41cf4ff4b71515846382bac3": {
          "model_module": "@jupyter-widgets/base",
          "model_name": "LayoutModel",
          "model_module_version": "1.2.0",
          "state": {
            "_model_module": "@jupyter-widgets/base",
            "_model_module_version": "1.2.0",
            "_model_name": "LayoutModel",
            "_view_count": null,
            "_view_module": "@jupyter-widgets/base",
            "_view_module_version": "1.2.0",
            "_view_name": "LayoutView",
            "align_content": null,
            "align_items": null,
            "align_self": null,
            "border": null,
            "bottom": null,
            "display": null,
            "flex": null,
            "flex_flow": null,
            "grid_area": null,
            "grid_auto_columns": null,
            "grid_auto_flow": null,
            "grid_auto_rows": null,
            "grid_column": null,
            "grid_gap": null,
            "grid_row": null,
            "grid_template_areas": null,
            "grid_template_columns": null,
            "grid_template_rows": null,
            "height": null,
            "justify_content": null,
            "justify_items": null,
            "left": null,
            "margin": null,
            "max_height": null,
            "max_width": null,
            "min_height": null,
            "min_width": null,
            "object_fit": null,
            "object_position": null,
            "order": null,
            "overflow": null,
            "overflow_x": null,
            "overflow_y": null,
            "padding": null,
            "right": null,
            "top": null,
            "visibility": null,
            "width": null
          }
        },
        "1664d8f53dc44bf9ba55865ef2eda386": {
          "model_module": "@jupyter-widgets/base",
          "model_name": "LayoutModel",
          "model_module_version": "1.2.0",
          "state": {
            "_model_module": "@jupyter-widgets/base",
            "_model_module_version": "1.2.0",
            "_model_name": "LayoutModel",
            "_view_count": null,
            "_view_module": "@jupyter-widgets/base",
            "_view_module_version": "1.2.0",
            "_view_name": "LayoutView",
            "align_content": null,
            "align_items": null,
            "align_self": null,
            "border": null,
            "bottom": null,
            "display": null,
            "flex": null,
            "flex_flow": null,
            "grid_area": null,
            "grid_auto_columns": null,
            "grid_auto_flow": null,
            "grid_auto_rows": null,
            "grid_column": null,
            "grid_gap": null,
            "grid_row": null,
            "grid_template_areas": null,
            "grid_template_columns": null,
            "grid_template_rows": null,
            "height": null,
            "justify_content": null,
            "justify_items": null,
            "left": null,
            "margin": null,
            "max_height": null,
            "max_width": null,
            "min_height": null,
            "min_width": null,
            "object_fit": null,
            "object_position": null,
            "order": null,
            "overflow": null,
            "overflow_x": null,
            "overflow_y": null,
            "padding": null,
            "right": null,
            "top": null,
            "visibility": null,
            "width": null
          }
        },
        "8cb34020d86440f3831276c44fd9e2f9": {
          "model_module": "@jupyter-widgets/controls",
          "model_name": "DescriptionStyleModel",
          "model_module_version": "1.5.0",
          "state": {
            "_model_module": "@jupyter-widgets/controls",
            "_model_module_version": "1.5.0",
            "_model_name": "DescriptionStyleModel",
            "_view_count": null,
            "_view_module": "@jupyter-widgets/base",
            "_view_module_version": "1.2.0",
            "_view_name": "StyleView",
            "description_width": ""
          }
        },
        "d21b4b7e89034af092d1e63832c7d9fb": {
          "model_module": "@jupyter-widgets/base",
          "model_name": "LayoutModel",
          "model_module_version": "1.2.0",
          "state": {
            "_model_module": "@jupyter-widgets/base",
            "_model_module_version": "1.2.0",
            "_model_name": "LayoutModel",
            "_view_count": null,
            "_view_module": "@jupyter-widgets/base",
            "_view_module_version": "1.2.0",
            "_view_name": "LayoutView",
            "align_content": null,
            "align_items": null,
            "align_self": null,
            "border": null,
            "bottom": null,
            "display": null,
            "flex": null,
            "flex_flow": null,
            "grid_area": null,
            "grid_auto_columns": null,
            "grid_auto_flow": null,
            "grid_auto_rows": null,
            "grid_column": null,
            "grid_gap": null,
            "grid_row": null,
            "grid_template_areas": null,
            "grid_template_columns": null,
            "grid_template_rows": null,
            "height": null,
            "justify_content": null,
            "justify_items": null,
            "left": null,
            "margin": null,
            "max_height": null,
            "max_width": null,
            "min_height": null,
            "min_width": null,
            "object_fit": null,
            "object_position": null,
            "order": null,
            "overflow": null,
            "overflow_x": null,
            "overflow_y": null,
            "padding": null,
            "right": null,
            "top": null,
            "visibility": null,
            "width": null
          }
        },
        "2fe4f0fb70894cd096185758f04df1b5": {
          "model_module": "@jupyter-widgets/controls",
          "model_name": "ProgressStyleModel",
          "model_module_version": "1.5.0",
          "state": {
            "_model_module": "@jupyter-widgets/controls",
            "_model_module_version": "1.5.0",
            "_model_name": "ProgressStyleModel",
            "_view_count": null,
            "_view_module": "@jupyter-widgets/base",
            "_view_module_version": "1.2.0",
            "_view_name": "StyleView",
            "bar_color": null,
            "description_width": ""
          }
        },
        "2ce271ca8c8d455c890e035fba0e7413": {
          "model_module": "@jupyter-widgets/base",
          "model_name": "LayoutModel",
          "model_module_version": "1.2.0",
          "state": {
            "_model_module": "@jupyter-widgets/base",
            "_model_module_version": "1.2.0",
            "_model_name": "LayoutModel",
            "_view_count": null,
            "_view_module": "@jupyter-widgets/base",
            "_view_module_version": "1.2.0",
            "_view_name": "LayoutView",
            "align_content": null,
            "align_items": null,
            "align_self": null,
            "border": null,
            "bottom": null,
            "display": null,
            "flex": null,
            "flex_flow": null,
            "grid_area": null,
            "grid_auto_columns": null,
            "grid_auto_flow": null,
            "grid_auto_rows": null,
            "grid_column": null,
            "grid_gap": null,
            "grid_row": null,
            "grid_template_areas": null,
            "grid_template_columns": null,
            "grid_template_rows": null,
            "height": null,
            "justify_content": null,
            "justify_items": null,
            "left": null,
            "margin": null,
            "max_height": null,
            "max_width": null,
            "min_height": null,
            "min_width": null,
            "object_fit": null,
            "object_position": null,
            "order": null,
            "overflow": null,
            "overflow_x": null,
            "overflow_y": null,
            "padding": null,
            "right": null,
            "top": null,
            "visibility": null,
            "width": null
          }
        },
        "d60f9f0df4a04bb08b2f9cb546914d10": {
          "model_module": "@jupyter-widgets/controls",
          "model_name": "DescriptionStyleModel",
          "model_module_version": "1.5.0",
          "state": {
            "_model_module": "@jupyter-widgets/controls",
            "_model_module_version": "1.5.0",
            "_model_name": "DescriptionStyleModel",
            "_view_count": null,
            "_view_module": "@jupyter-widgets/base",
            "_view_module_version": "1.2.0",
            "_view_name": "StyleView",
            "description_width": ""
          }
        },
        "c2f76812ede24cc88de351b10f275264": {
          "model_module": "@jupyter-widgets/controls",
          "model_name": "HBoxModel",
          "model_module_version": "1.5.0",
          "state": {
            "_dom_classes": [],
            "_model_module": "@jupyter-widgets/controls",
            "_model_module_version": "1.5.0",
            "_model_name": "HBoxModel",
            "_view_count": null,
            "_view_module": "@jupyter-widgets/controls",
            "_view_module_version": "1.5.0",
            "_view_name": "HBoxView",
            "box_style": "",
            "children": [
              "IPY_MODEL_d3cbb33133d7453ca088201035c19efe",
              "IPY_MODEL_8bca784797534a729c270c82e8fdf92c",
              "IPY_MODEL_2494e25be9364517aa3926b4105e3685"
            ],
            "layout": "IPY_MODEL_8e73f7400c8042e694ed2a29a0ed5774"
          }
        },
        "d3cbb33133d7453ca088201035c19efe": {
          "model_module": "@jupyter-widgets/controls",
          "model_name": "HTMLModel",
          "model_module_version": "1.5.0",
          "state": {
            "_dom_classes": [],
            "_model_module": "@jupyter-widgets/controls",
            "_model_module_version": "1.5.0",
            "_model_name": "HTMLModel",
            "_view_count": null,
            "_view_module": "@jupyter-widgets/controls",
            "_view_module_version": "1.5.0",
            "_view_name": "HTMLView",
            "description": "",
            "description_tooltip": null,
            "layout": "IPY_MODEL_d1bb58fcef974d12927234f55541c38e",
            "placeholder": "​",
            "style": "IPY_MODEL_54705ba750104a279c3398ed1875248e",
            "value": "Filter: 100%"
          }
        },
        "8bca784797534a729c270c82e8fdf92c": {
          "model_module": "@jupyter-widgets/controls",
          "model_name": "FloatProgressModel",
          "model_module_version": "1.5.0",
          "state": {
            "_dom_classes": [],
            "_model_module": "@jupyter-widgets/controls",
            "_model_module_version": "1.5.0",
            "_model_name": "FloatProgressModel",
            "_view_count": null,
            "_view_module": "@jupyter-widgets/controls",
            "_view_module_version": "1.5.0",
            "_view_name": "ProgressView",
            "bar_style": "success",
            "description": "",
            "description_tooltip": null,
            "layout": "IPY_MODEL_f7e85f84ae94408fa4b88e7646673090",
            "max": 50000,
            "min": 0,
            "orientation": "horizontal",
            "style": "IPY_MODEL_bb3eb6c0f3d34563bbf0b9fb0fa8a439",
            "value": 50000
          }
        },
        "2494e25be9364517aa3926b4105e3685": {
          "model_module": "@jupyter-widgets/controls",
          "model_name": "HTMLModel",
          "model_module_version": "1.5.0",
          "state": {
            "_dom_classes": [],
            "_model_module": "@jupyter-widgets/controls",
            "_model_module_version": "1.5.0",
            "_model_name": "HTMLModel",
            "_view_count": null,
            "_view_module": "@jupyter-widgets/controls",
            "_view_module_version": "1.5.0",
            "_view_name": "HTMLView",
            "description": "",
            "description_tooltip": null,
            "layout": "IPY_MODEL_f41af972d87d41d2beaa2b6b02bd3962",
            "placeholder": "​",
            "style": "IPY_MODEL_1a3c0f4dcef8493990e7ea69aa517077",
            "value": " 50000/50000 [00:01&lt;00:00, 40940.13 examples/s]"
          }
        },
        "8e73f7400c8042e694ed2a29a0ed5774": {
          "model_module": "@jupyter-widgets/base",
          "model_name": "LayoutModel",
          "model_module_version": "1.2.0",
          "state": {
            "_model_module": "@jupyter-widgets/base",
            "_model_module_version": "1.2.0",
            "_model_name": "LayoutModel",
            "_view_count": null,
            "_view_module": "@jupyter-widgets/base",
            "_view_module_version": "1.2.0",
            "_view_name": "LayoutView",
            "align_content": null,
            "align_items": null,
            "align_self": null,
            "border": null,
            "bottom": null,
            "display": null,
            "flex": null,
            "flex_flow": null,
            "grid_area": null,
            "grid_auto_columns": null,
            "grid_auto_flow": null,
            "grid_auto_rows": null,
            "grid_column": null,
            "grid_gap": null,
            "grid_row": null,
            "grid_template_areas": null,
            "grid_template_columns": null,
            "grid_template_rows": null,
            "height": null,
            "justify_content": null,
            "justify_items": null,
            "left": null,
            "margin": null,
            "max_height": null,
            "max_width": null,
            "min_height": null,
            "min_width": null,
            "object_fit": null,
            "object_position": null,
            "order": null,
            "overflow": null,
            "overflow_x": null,
            "overflow_y": null,
            "padding": null,
            "right": null,
            "top": null,
            "visibility": null,
            "width": null
          }
        },
        "d1bb58fcef974d12927234f55541c38e": {
          "model_module": "@jupyter-widgets/base",
          "model_name": "LayoutModel",
          "model_module_version": "1.2.0",
          "state": {
            "_model_module": "@jupyter-widgets/base",
            "_model_module_version": "1.2.0",
            "_model_name": "LayoutModel",
            "_view_count": null,
            "_view_module": "@jupyter-widgets/base",
            "_view_module_version": "1.2.0",
            "_view_name": "LayoutView",
            "align_content": null,
            "align_items": null,
            "align_self": null,
            "border": null,
            "bottom": null,
            "display": null,
            "flex": null,
            "flex_flow": null,
            "grid_area": null,
            "grid_auto_columns": null,
            "grid_auto_flow": null,
            "grid_auto_rows": null,
            "grid_column": null,
            "grid_gap": null,
            "grid_row": null,
            "grid_template_areas": null,
            "grid_template_columns": null,
            "grid_template_rows": null,
            "height": null,
            "justify_content": null,
            "justify_items": null,
            "left": null,
            "margin": null,
            "max_height": null,
            "max_width": null,
            "min_height": null,
            "min_width": null,
            "object_fit": null,
            "object_position": null,
            "order": null,
            "overflow": null,
            "overflow_x": null,
            "overflow_y": null,
            "padding": null,
            "right": null,
            "top": null,
            "visibility": null,
            "width": null
          }
        },
        "54705ba750104a279c3398ed1875248e": {
          "model_module": "@jupyter-widgets/controls",
          "model_name": "DescriptionStyleModel",
          "model_module_version": "1.5.0",
          "state": {
            "_model_module": "@jupyter-widgets/controls",
            "_model_module_version": "1.5.0",
            "_model_name": "DescriptionStyleModel",
            "_view_count": null,
            "_view_module": "@jupyter-widgets/base",
            "_view_module_version": "1.2.0",
            "_view_name": "StyleView",
            "description_width": ""
          }
        },
        "f7e85f84ae94408fa4b88e7646673090": {
          "model_module": "@jupyter-widgets/base",
          "model_name": "LayoutModel",
          "model_module_version": "1.2.0",
          "state": {
            "_model_module": "@jupyter-widgets/base",
            "_model_module_version": "1.2.0",
            "_model_name": "LayoutModel",
            "_view_count": null,
            "_view_module": "@jupyter-widgets/base",
            "_view_module_version": "1.2.0",
            "_view_name": "LayoutView",
            "align_content": null,
            "align_items": null,
            "align_self": null,
            "border": null,
            "bottom": null,
            "display": null,
            "flex": null,
            "flex_flow": null,
            "grid_area": null,
            "grid_auto_columns": null,
            "grid_auto_flow": null,
            "grid_auto_rows": null,
            "grid_column": null,
            "grid_gap": null,
            "grid_row": null,
            "grid_template_areas": null,
            "grid_template_columns": null,
            "grid_template_rows": null,
            "height": null,
            "justify_content": null,
            "justify_items": null,
            "left": null,
            "margin": null,
            "max_height": null,
            "max_width": null,
            "min_height": null,
            "min_width": null,
            "object_fit": null,
            "object_position": null,
            "order": null,
            "overflow": null,
            "overflow_x": null,
            "overflow_y": null,
            "padding": null,
            "right": null,
            "top": null,
            "visibility": null,
            "width": null
          }
        },
        "bb3eb6c0f3d34563bbf0b9fb0fa8a439": {
          "model_module": "@jupyter-widgets/controls",
          "model_name": "ProgressStyleModel",
          "model_module_version": "1.5.0",
          "state": {
            "_model_module": "@jupyter-widgets/controls",
            "_model_module_version": "1.5.0",
            "_model_name": "ProgressStyleModel",
            "_view_count": null,
            "_view_module": "@jupyter-widgets/base",
            "_view_module_version": "1.2.0",
            "_view_name": "StyleView",
            "bar_color": null,
            "description_width": ""
          }
        },
        "f41af972d87d41d2beaa2b6b02bd3962": {
          "model_module": "@jupyter-widgets/base",
          "model_name": "LayoutModel",
          "model_module_version": "1.2.0",
          "state": {
            "_model_module": "@jupyter-widgets/base",
            "_model_module_version": "1.2.0",
            "_model_name": "LayoutModel",
            "_view_count": null,
            "_view_module": "@jupyter-widgets/base",
            "_view_module_version": "1.2.0",
            "_view_name": "LayoutView",
            "align_content": null,
            "align_items": null,
            "align_self": null,
            "border": null,
            "bottom": null,
            "display": null,
            "flex": null,
            "flex_flow": null,
            "grid_area": null,
            "grid_auto_columns": null,
            "grid_auto_flow": null,
            "grid_auto_rows": null,
            "grid_column": null,
            "grid_gap": null,
            "grid_row": null,
            "grid_template_areas": null,
            "grid_template_columns": null,
            "grid_template_rows": null,
            "height": null,
            "justify_content": null,
            "justify_items": null,
            "left": null,
            "margin": null,
            "max_height": null,
            "max_width": null,
            "min_height": null,
            "min_width": null,
            "object_fit": null,
            "object_position": null,
            "order": null,
            "overflow": null,
            "overflow_x": null,
            "overflow_y": null,
            "padding": null,
            "right": null,
            "top": null,
            "visibility": null,
            "width": null
          }
        },
        "1a3c0f4dcef8493990e7ea69aa517077": {
          "model_module": "@jupyter-widgets/controls",
          "model_name": "DescriptionStyleModel",
          "model_module_version": "1.5.0",
          "state": {
            "_model_module": "@jupyter-widgets/controls",
            "_model_module_version": "1.5.0",
            "_model_name": "DescriptionStyleModel",
            "_view_count": null,
            "_view_module": "@jupyter-widgets/base",
            "_view_module_version": "1.2.0",
            "_view_name": "StyleView",
            "description_width": ""
          }
        }
      }
    }
  },
  "cells": [
    {
      "cell_type": "markdown",
      "metadata": {
        "id": "view-in-github",
        "colab_type": "text"
      },
      "source": [
        "<a href=\"https://colab.research.google.com/github/Hrithik2212/Neural-Machine-Translation--English-to-Tamil/blob/main/02_NMT_with_Attention.ipynb\" target=\"_parent\"><img src=\"https://colab.research.google.com/assets/colab-badge.svg\" alt=\"Open In Colab\"/></a>"
      ]
    },
    {
      "cell_type": "code",
      "source": [
        "!pip install -q datasets\n",
        "!pip install -q tokenizers\n",
        "!pip install -q stanza"
      ],
      "metadata": {
        "id": "8xu0iQFhgTDn"
      },
      "execution_count": 1,
      "outputs": []
    },
    {
      "cell_type": "code",
      "execution_count": 105,
      "metadata": {
        "id": "1_UOSNg5gDod"
      },
      "outputs": [],
      "source": [
        "import torch\n",
        "import torch.nn as nn\n",
        "import torch.optim as optim\n",
        "from torch.utils.data import Dataset, DataLoader\n",
        "from torch.utils.data.sampler import Sampler\n",
        "from torch.nn.utils.rnn import pad_sequence\n",
        "from torchtext.vocab import vocab\n",
        "\n",
        "import random\n",
        "import math\n",
        "\n",
        "from datasets import load_dataset\n",
        "\n",
        "from tokenizers import Tokenizer\n",
        "from tokenizers.processors import TemplateProcessing\n",
        "from tokenizers import normalizers\n",
        "from tokenizers.normalizers import Lowercase, NFD, StripAccents\n",
        "from tokenizers.trainers import BpeTrainer, WordLevelTrainer\n",
        "from tokenizers.models import WordLevel, BPE\n",
        "from tokenizers.pre_tokenizers import Whitespace,WhitespaceSplit"
      ]
    },
    {
      "cell_type": "code",
      "source": [
        "256 % 6"
      ],
      "metadata": {
        "colab": {
          "base_uri": "https://localhost:8080/"
        },
        "id": "i3QggIi7Q--3",
        "outputId": "bb98f62d-4809-4956-95ea-57b7b8c58bb9"
      },
      "execution_count": 208,
      "outputs": [
        {
          "output_type": "execute_result",
          "data": {
            "text/plain": [
              "4"
            ]
          },
          "metadata": {},
          "execution_count": 208
        }
      ]
    },
    {
      "cell_type": "code",
      "source": [
        "config=dict(\n",
        "    # RUN CONFIG:\n",
        "    RUN_NAME='single_gpu_run',\n",
        "    RUN_DESCRIPTION='No description',\n",
        "    RUNS_FOLDER_PTH='../runs',\n",
        "    # DATA CONFIG:\n",
        "    DATASET_SIZE=30000, # WARN: This is too small but makes it easy to go through the notebook fast\n",
        "    TEST_PROPORTION=0.01,\n",
        "    MAX_SEQ_LEN=40,\n",
        "    VOCAB_SIZE=50000,\n",
        "    TOKENIZER_TYPE='wordlevel',\n",
        "    # TRAINING CONFIG:\n",
        "    BATCH_SIZE=128,\n",
        "    GRAD_ACCUMULATION_STEPS=2048//48,\n",
        "    WORKER_COUNT=2,\n",
        "    EPOCHS=50,\n",
        "    # OPTIMIZER CONFIG:\n",
        "    BETAS=(0.9, 0.98),\n",
        "    EPS=1e-9,\n",
        "    # SCHEDULER CONFIG:\n",
        "    N_WARMUP_STEPS=4000,\n",
        "    # MODEL CONFIG:\n",
        "    D_MODEL=256,\n",
        "    N_BLOCKS=4,\n",
        "    N_HEADS=4,\n",
        "    D_FF=2048,\n",
        "    DROPOUT_PROBA=0.1,\n",
        "    # OTHER:\n",
        "    MODEL_SAVE_EPOCH_CNT=10,\n",
        "    DEVICE='gpu',\n",
        "    LABEL_SMOOTHING=0.1,\n",
        ")"
      ],
      "metadata": {
        "id": "VWFpRHfWopqF"
      },
      "execution_count": 209,
      "outputs": []
    },
    {
      "cell_type": "code",
      "source": [
        "eng_file = '/content/drive/MyDrive/en-ta/train.en'\n",
        "tamil_file = '/content/drive/MyDrive/en-ta/train.ta'"
      ],
      "metadata": {
        "id": "a9-3_zIHgNU7"
      },
      "execution_count": 4,
      "outputs": []
    },
    {
      "cell_type": "code",
      "source": [
        "with open(eng_file, 'r') as file:\n",
        "    english_sentences = file.readlines()\n",
        "with open(tamil_file, 'r') as file:\n",
        "    tamil_sentences = file.readlines()\n",
        "\n",
        "\n",
        "english_sentences = [sentence.rstrip('\\n').lower() for sentence in english_sentences]\n",
        "tamil_sentences = [sentence.rstrip('\\n') for sentence in tamil_sentences]"
      ],
      "metadata": {
        "id": "YUTNEESlgkL5"
      },
      "execution_count": 5,
      "outputs": []
    },
    {
      "cell_type": "code",
      "source": [
        "# filter out sentences which contains letters other than whats listed below\n",
        "tamil_vocabulary = [ ' ', '!', '\"', '#', '$', '%', '&', \"'\", '(', ')', '*', '+', ',', '-', '.', '/',\n",
        "                      '0', '1', '2', '3', '4', '5', '6', '7', '8', '9', ':', '<', '=', '>', '?', 'ˌ',\n",
        "                      \"ஃ\", \"அ\", \"ஆ\", \"இ\", \"ஈ\", \"உ\", \"ஊ\", \"எ\", \"ஏ\", \"ஐ\", \"ஒ\", \"ஓ\", \"ஔ\",\n",
        "                      \"க\", \"ங\", \"ச\", \"ஜ\", \"ஞ\", \"ட\", \"ண\",\n",
        "                      \"த\", \"ந\", \"ன\", \"ப\", \"ம\", \"ய\", \"ர\",\n",
        "                      \"ற\", \"ல\", \"ள\", \"ழ\", \"வ\", \"ஶ\", \"ஷ\", \"ஸ\", \"ஹ\",\n",
        "                      \"ா\", \"ி\", \"ீ\", \"ு\", \"ூ\", \"ெ\", \"ே\", \"ை\", \"ொ\", \"ோ\", \"ௌ\", \"்\", \"ௗ\",\n",
        "                      \"௦\", \"௧\", \"௨\", \"௫\", \"௬\", \"௲\", \"௳\"\n",
        "                      ]\n",
        "\n",
        "english_vocabulary = [' ', '!', '\"', '#', '$', '%', '&', \"'\", '(', ')', '*', '+', ',', '-', '.', '/',\n",
        "                        '0', '1', '2', '3', '4', '5', '6', '7', '8', '9',\n",
        "                        ':', '<', '=', '>', '?', '@',\n",
        "                        '[', '\\\\', ']', '^', '_', '`',\n",
        "                        'a', 'b', 'c', 'd', 'e', 'f', 'g', 'h', 'i', 'j', 'k', 'l',\n",
        "                        'm', 'n', 'o', 'p', 'q', 'r', 's', 't', 'u', 'v', 'w', 'x',\n",
        "                        'y', 'z',\n",
        "                        '{', '|', '}', '~']"
      ],
      "metadata": {
        "id": "UJZBVd7agl2e"
      },
      "execution_count": 6,
      "outputs": []
    },
    {
      "cell_type": "code",
      "source": [
        "def is_valid_tokens(sentence , vocab):\n",
        "    for token in list(set(sentence)):\n",
        "        if token not in vocab:\n",
        "            return False\n",
        "    return True\n",
        "\n",
        "valid_sentence_indicies = []\n",
        "for index in range(len(english_sentences[:500000])):\n",
        "    tamil_sentence, english_sentence = tamil_sentences[index], english_sentences[index]\n",
        "    if is_valid_tokens(tamil_sentence, tamil_vocabulary) \\\n",
        "      and is_valid_tokens(english_sentence , english_vocabulary):\n",
        "        valid_sentence_indicies.append(index)"
      ],
      "metadata": {
        "id": "A-k9xa6Eo6-t"
      },
      "execution_count": 7,
      "outputs": []
    },
    {
      "cell_type": "code",
      "source": [
        "TOTAL_SENTENCES = 100000 # lets take 50000 valid sentences to train the model\n",
        "x = [english_sentences[i] for i in valid_sentence_indicies[:TOTAL_SENTENCES]]\n",
        "y = [tamil_sentences[i] for i in valid_sentence_indicies[:TOTAL_SENTENCES]]"
      ],
      "metadata": {
        "id": "h8SQscX9o8qq"
      },
      "execution_count": 8,
      "outputs": []
    },
    {
      "cell_type": "code",
      "source": [
        "import stanza\n",
        "\n",
        "stanza.download('ta')\n",
        "nlp_ta = stanza.Pipeline('ta', processors='tokenize')\n",
        "def tokenize_ta(text):\n",
        "    \"\"\"\n",
        "    Tokenizes Tamil text from a string into a list of strings\n",
        "    \"\"\"\n",
        "    doc = nlp_ta(text)\n",
        "    return [word.text for sent in doc.sentences for word in sent.words]\n"
      ],
      "metadata": {
        "colab": {
          "base_uri": "https://localhost:8080/",
          "height": 467,
          "referenced_widgets": [
            "d053e68d66e244dc930978fc1a51005e",
            "fe2a5f35be88430cbf1153c2ca9eeca3",
            "fbafa25c652348c387e910d82a7b3fc2",
            "4a9c47480ec549a294f7f665046ee13b",
            "5721017a263544baae17ae7fbfb8be83",
            "90bb8678400f442dacbf91d28043fdaf",
            "c7213f7e80a14139b2b41d2013d97ba3",
            "55e0c22b08e94924a94ca36aa88baf2f",
            "f3c94a9feea04a3f8d28eb9ac8c7f81b",
            "66b07b5e432a45ee90d614a7fe1cac00",
            "e802e381ae184992baf1a19844286d02",
            "d95e29a7f1004b23b7dd3d35d8e1c86c",
            "a0f0516d1bca4b4f8c45e376031c84ef",
            "71ea19be9fc54b1580bce5237d8b9f65",
            "4d7fd55a3beb4b9db12d87ef07e73fa0",
            "3ceb5513445543aeb460ceeca7be1419",
            "c2e2cac2490a4e83851942a2c3e0ba71",
            "dfcfe67cb2e94b758805c0a5c4638cb0",
            "d9fa9cfa817b4ea888d94c9f611b320d",
            "38e8d20a8eb9425bba7c5aedf1b73371",
            "7d82e96f47474b0c9f41fe78fa4910d0",
            "b3503e0114404b4f896101cba1e0ddf4"
          ]
        },
        "id": "4uIIX9ZkqWoB",
        "outputId": "edf9c2b7-367d-4f59-e1e3-a44db27f9ff6"
      },
      "execution_count": 10,
      "outputs": [
        {
          "output_type": "display_data",
          "data": {
            "text/plain": [
              "Downloading https://raw.githubusercontent.com/stanfordnlp/stanza-resources/main/resources_1.6.0.json:   0%|   …"
            ],
            "application/vnd.jupyter.widget-view+json": {
              "version_major": 2,
              "version_minor": 0,
              "model_id": "d053e68d66e244dc930978fc1a51005e"
            }
          },
          "metadata": {}
        },
        {
          "output_type": "stream",
          "name": "stderr",
          "text": [
            "INFO:stanza:Downloading default packages for language: ta (Tamil) ...\n",
            "INFO:stanza:File exists: /root/stanza_resources/ta/default.zip\n",
            "INFO:stanza:Finished downloading models and saved to /root/stanza_resources.\n",
            "INFO:stanza:Checking for updates to resources.json in case models have been updated.  Note: this behavior can be turned off with download_method=None or download_method=DownloadMethod.REUSE_RESOURCES\n"
          ]
        },
        {
          "output_type": "display_data",
          "data": {
            "text/plain": [
              "Downloading https://raw.githubusercontent.com/stanfordnlp/stanza-resources/main/resources_1.6.0.json:   0%|   …"
            ],
            "application/vnd.jupyter.widget-view+json": {
              "version_major": 2,
              "version_minor": 0,
              "model_id": "d95e29a7f1004b23b7dd3d35d8e1c86c"
            }
          },
          "metadata": {}
        },
        {
          "output_type": "stream",
          "name": "stderr",
          "text": [
            "WARNING:stanza:Language ta package default expects mwt, which has been added\n",
            "INFO:stanza:Loading these models for language: ta (Tamil):\n",
            "=======================\n",
            "| Processor | Package |\n",
            "-----------------------\n",
            "| tokenize  | ttb     |\n",
            "| mwt       | ttb     |\n",
            "=======================\n",
            "\n",
            "INFO:stanza:Using device: cpu\n",
            "INFO:stanza:Loading: tokenize\n",
            "INFO:stanza:Loading: mwt\n",
            "INFO:stanza:Done loading processors!\n"
          ]
        }
      ]
    },
    {
      "cell_type": "code",
      "source": [
        "import collections\n",
        "tamil_words_counter = collections.Counter([word for sentence in y for word in sentence.split()])\n",
        "tamil_words_counter.most_common(10)\n",
        "ta_vocab = vocab(tamil_words_counter, min_freq=1 , specials=(\"[PAD]\", \"[UNK]\", \"[BOS]\", \"[EOS]\"))\n",
        "ta_vocab.set_default_index(ta_vocab[\"[UNK]\"])"
      ],
      "metadata": {
        "id": "2KTZvYP-rEh2"
      },
      "execution_count": 24,
      "outputs": []
    },
    {
      "cell_type": "code",
      "source": [
        "english_words_counter = collections.Counter([word for sentence in x for word in sentence.split()])\n",
        "en_vocab = vocab(english_words_counter, min_freq=1, specials=(\"[PAD]\", \"[UNK]\", \"[BOS]\", \"[EOS]\"))\n",
        "ta_vocab.set_default_index(en_vocab[\"[UNK]\"])"
      ],
      "metadata": {
        "id": "KV93NeBn05tD"
      },
      "execution_count": 89,
      "outputs": []
    },
    {
      "cell_type": "code",
      "source": [
        "len(ta_vocab)"
      ],
      "metadata": {
        "colab": {
          "base_uri": "https://localhost:8080/"
        },
        "id": "_ak_jObtsN7h",
        "outputId": "59d92c32-727d-4558-ea58-58ac5d9d61f4"
      },
      "execution_count": 25,
      "outputs": [
        {
          "output_type": "execute_result",
          "data": {
            "text/plain": [
              "106379"
            ]
          },
          "metadata": {},
          "execution_count": 25
        }
      ]
    },
    {
      "cell_type": "code",
      "source": [
        "import pandas as pd\n",
        "data =  pd.DataFrame({\"English\":x , \"Tamil\":y })\n",
        "data.info()\n"
      ],
      "metadata": {
        "colab": {
          "base_uri": "https://localhost:8080/"
        },
        "id": "MtOJj6jLvRyz",
        "outputId": "fd5591ba-2ed9-4072-eb3a-79149d065a1e"
      },
      "execution_count": 91,
      "outputs": [
        {
          "output_type": "stream",
          "name": "stdout",
          "text": [
            "<class 'pandas.core.frame.DataFrame'>\n",
            "RangeIndex: 50000 entries, 0 to 49999\n",
            "Data columns (total 2 columns):\n",
            " #   Column   Non-Null Count  Dtype \n",
            "---  ------   --------------  ----- \n",
            " 0   English  50000 non-null  object\n",
            " 1   Tamil    50000 non-null  object\n",
            "dtypes: object(2)\n",
            "memory usage: 781.4+ KB\n"
          ]
        }
      ]
    },
    {
      "cell_type": "code",
      "source": [
        "data.sample(5)"
      ],
      "metadata": {
        "colab": {
          "base_uri": "https://localhost:8080/",
          "height": 206
        },
        "id": "0R5GSQ9Pvif9",
        "outputId": "dc5e8bdb-4bce-4882-d202-80fc61cdac84"
      },
      "execution_count": 92,
      "outputs": [
        {
          "output_type": "execute_result",
          "data": {
            "text/plain": [
              "                                                 English  \\\n",
              "27632  the ip/trr ratio and debt/gsdp ratio based on ...   \n",
              "48769                                   in it he states:   \n",
              "27769  facebook ceo mark zuckerberg made the announce...   \n",
              "14538  verily we created man out of a drop of intermi...   \n",
              "23158                                   they choose you.   \n",
              "\n",
              "                                                   Tamil  \n",
              "27632  ஆ) இரண்டாண்டுகளுக்கு முந்தைய நிதிக் கணக்கின் ப...  \n",
              "48769                அப்புகாரில் அவர் கூறியிருப்பதாவது:-  \n",
              "27769  ஃபேஸ்புக் நிறுவனர் மார்க், நடந்த பிழைக்கு பகிர...  \n",
              "14538  (பின்னர் ஆண், பெண்) கலப்பான இந்திரியத்துளியிலி...  \n",
              "23158          உங்களிலிருந்து உங்களை தேர்வு செய்வீர்கள்.  "
            ],
            "text/html": [
              "\n",
              "  <div id=\"df-451288fb-d3b3-460a-b2e3-090c39cdeea3\" class=\"colab-df-container\">\n",
              "    <div>\n",
              "<style scoped>\n",
              "    .dataframe tbody tr th:only-of-type {\n",
              "        vertical-align: middle;\n",
              "    }\n",
              "\n",
              "    .dataframe tbody tr th {\n",
              "        vertical-align: top;\n",
              "    }\n",
              "\n",
              "    .dataframe thead th {\n",
              "        text-align: right;\n",
              "    }\n",
              "</style>\n",
              "<table border=\"1\" class=\"dataframe\">\n",
              "  <thead>\n",
              "    <tr style=\"text-align: right;\">\n",
              "      <th></th>\n",
              "      <th>English</th>\n",
              "      <th>Tamil</th>\n",
              "    </tr>\n",
              "  </thead>\n",
              "  <tbody>\n",
              "    <tr>\n",
              "      <th>27632</th>\n",
              "      <td>the ip/trr ratio and debt/gsdp ratio based on ...</td>\n",
              "      <td>ஆ) இரண்டாண்டுகளுக்கு முந்தைய நிதிக் கணக்கின் ப...</td>\n",
              "    </tr>\n",
              "    <tr>\n",
              "      <th>48769</th>\n",
              "      <td>in it he states:</td>\n",
              "      <td>அப்புகாரில் அவர் கூறியிருப்பதாவது:-</td>\n",
              "    </tr>\n",
              "    <tr>\n",
              "      <th>27769</th>\n",
              "      <td>facebook ceo mark zuckerberg made the announce...</td>\n",
              "      <td>ஃபேஸ்புக் நிறுவனர் மார்க், நடந்த பிழைக்கு பகிர...</td>\n",
              "    </tr>\n",
              "    <tr>\n",
              "      <th>14538</th>\n",
              "      <td>verily we created man out of a drop of intermi...</td>\n",
              "      <td>(பின்னர் ஆண், பெண்) கலப்பான இந்திரியத்துளியிலி...</td>\n",
              "    </tr>\n",
              "    <tr>\n",
              "      <th>23158</th>\n",
              "      <td>they choose you.</td>\n",
              "      <td>உங்களிலிருந்து உங்களை தேர்வு செய்வீர்கள்.</td>\n",
              "    </tr>\n",
              "  </tbody>\n",
              "</table>\n",
              "</div>\n",
              "    <div class=\"colab-df-buttons\">\n",
              "\n",
              "  <div class=\"colab-df-container\">\n",
              "    <button class=\"colab-df-convert\" onclick=\"convertToInteractive('df-451288fb-d3b3-460a-b2e3-090c39cdeea3')\"\n",
              "            title=\"Convert this dataframe to an interactive table.\"\n",
              "            style=\"display:none;\">\n",
              "\n",
              "  <svg xmlns=\"http://www.w3.org/2000/svg\" height=\"24px\" viewBox=\"0 -960 960 960\">\n",
              "    <path d=\"M120-120v-720h720v720H120Zm60-500h600v-160H180v160Zm220 220h160v-160H400v160Zm0 220h160v-160H400v160ZM180-400h160v-160H180v160Zm440 0h160v-160H620v160ZM180-180h160v-160H180v160Zm440 0h160v-160H620v160Z\"/>\n",
              "  </svg>\n",
              "    </button>\n",
              "\n",
              "  <style>\n",
              "    .colab-df-container {\n",
              "      display:flex;\n",
              "      gap: 12px;\n",
              "    }\n",
              "\n",
              "    .colab-df-convert {\n",
              "      background-color: #E8F0FE;\n",
              "      border: none;\n",
              "      border-radius: 50%;\n",
              "      cursor: pointer;\n",
              "      display: none;\n",
              "      fill: #1967D2;\n",
              "      height: 32px;\n",
              "      padding: 0 0 0 0;\n",
              "      width: 32px;\n",
              "    }\n",
              "\n",
              "    .colab-df-convert:hover {\n",
              "      background-color: #E2EBFA;\n",
              "      box-shadow: 0px 1px 2px rgba(60, 64, 67, 0.3), 0px 1px 3px 1px rgba(60, 64, 67, 0.15);\n",
              "      fill: #174EA6;\n",
              "    }\n",
              "\n",
              "    .colab-df-buttons div {\n",
              "      margin-bottom: 4px;\n",
              "    }\n",
              "\n",
              "    [theme=dark] .colab-df-convert {\n",
              "      background-color: #3B4455;\n",
              "      fill: #D2E3FC;\n",
              "    }\n",
              "\n",
              "    [theme=dark] .colab-df-convert:hover {\n",
              "      background-color: #434B5C;\n",
              "      box-shadow: 0px 1px 3px 1px rgba(0, 0, 0, 0.15);\n",
              "      filter: drop-shadow(0px 1px 2px rgba(0, 0, 0, 0.3));\n",
              "      fill: #FFFFFF;\n",
              "    }\n",
              "  </style>\n",
              "\n",
              "    <script>\n",
              "      const buttonEl =\n",
              "        document.querySelector('#df-451288fb-d3b3-460a-b2e3-090c39cdeea3 button.colab-df-convert');\n",
              "      buttonEl.style.display =\n",
              "        google.colab.kernel.accessAllowed ? 'block' : 'none';\n",
              "\n",
              "      async function convertToInteractive(key) {\n",
              "        const element = document.querySelector('#df-451288fb-d3b3-460a-b2e3-090c39cdeea3');\n",
              "        const dataTable =\n",
              "          await google.colab.kernel.invokeFunction('convertToInteractive',\n",
              "                                                    [key], {});\n",
              "        if (!dataTable) return;\n",
              "\n",
              "        const docLinkHtml = 'Like what you see? Visit the ' +\n",
              "          '<a target=\"_blank\" href=https://colab.research.google.com/notebooks/data_table.ipynb>data table notebook</a>'\n",
              "          + ' to learn more about interactive tables.';\n",
              "        element.innerHTML = '';\n",
              "        dataTable['output_type'] = 'display_data';\n",
              "        await google.colab.output.renderOutput(dataTable, element);\n",
              "        const docLink = document.createElement('div');\n",
              "        docLink.innerHTML = docLinkHtml;\n",
              "        element.appendChild(docLink);\n",
              "      }\n",
              "    </script>\n",
              "  </div>\n",
              "\n",
              "\n",
              "<div id=\"df-62958879-c1e0-41ba-adcd-a6087d6430ee\">\n",
              "  <button class=\"colab-df-quickchart\" onclick=\"quickchart('df-62958879-c1e0-41ba-adcd-a6087d6430ee')\"\n",
              "            title=\"Suggest charts.\"\n",
              "            style=\"display:none;\">\n",
              "\n",
              "<svg xmlns=\"http://www.w3.org/2000/svg\" height=\"24px\"viewBox=\"0 0 24 24\"\n",
              "     width=\"24px\">\n",
              "    <g>\n",
              "        <path d=\"M19 3H5c-1.1 0-2 .9-2 2v14c0 1.1.9 2 2 2h14c1.1 0 2-.9 2-2V5c0-1.1-.9-2-2-2zM9 17H7v-7h2v7zm4 0h-2V7h2v10zm4 0h-2v-4h2v4z\"/>\n",
              "    </g>\n",
              "</svg>\n",
              "  </button>\n",
              "\n",
              "<style>\n",
              "  .colab-df-quickchart {\n",
              "      --bg-color: #E8F0FE;\n",
              "      --fill-color: #1967D2;\n",
              "      --hover-bg-color: #E2EBFA;\n",
              "      --hover-fill-color: #174EA6;\n",
              "      --disabled-fill-color: #AAA;\n",
              "      --disabled-bg-color: #DDD;\n",
              "  }\n",
              "\n",
              "  [theme=dark] .colab-df-quickchart {\n",
              "      --bg-color: #3B4455;\n",
              "      --fill-color: #D2E3FC;\n",
              "      --hover-bg-color: #434B5C;\n",
              "      --hover-fill-color: #FFFFFF;\n",
              "      --disabled-bg-color: #3B4455;\n",
              "      --disabled-fill-color: #666;\n",
              "  }\n",
              "\n",
              "  .colab-df-quickchart {\n",
              "    background-color: var(--bg-color);\n",
              "    border: none;\n",
              "    border-radius: 50%;\n",
              "    cursor: pointer;\n",
              "    display: none;\n",
              "    fill: var(--fill-color);\n",
              "    height: 32px;\n",
              "    padding: 0;\n",
              "    width: 32px;\n",
              "  }\n",
              "\n",
              "  .colab-df-quickchart:hover {\n",
              "    background-color: var(--hover-bg-color);\n",
              "    box-shadow: 0 1px 2px rgba(60, 64, 67, 0.3), 0 1px 3px 1px rgba(60, 64, 67, 0.15);\n",
              "    fill: var(--button-hover-fill-color);\n",
              "  }\n",
              "\n",
              "  .colab-df-quickchart-complete:disabled,\n",
              "  .colab-df-quickchart-complete:disabled:hover {\n",
              "    background-color: var(--disabled-bg-color);\n",
              "    fill: var(--disabled-fill-color);\n",
              "    box-shadow: none;\n",
              "  }\n",
              "\n",
              "  .colab-df-spinner {\n",
              "    border: 2px solid var(--fill-color);\n",
              "    border-color: transparent;\n",
              "    border-bottom-color: var(--fill-color);\n",
              "    animation:\n",
              "      spin 1s steps(1) infinite;\n",
              "  }\n",
              "\n",
              "  @keyframes spin {\n",
              "    0% {\n",
              "      border-color: transparent;\n",
              "      border-bottom-color: var(--fill-color);\n",
              "      border-left-color: var(--fill-color);\n",
              "    }\n",
              "    20% {\n",
              "      border-color: transparent;\n",
              "      border-left-color: var(--fill-color);\n",
              "      border-top-color: var(--fill-color);\n",
              "    }\n",
              "    30% {\n",
              "      border-color: transparent;\n",
              "      border-left-color: var(--fill-color);\n",
              "      border-top-color: var(--fill-color);\n",
              "      border-right-color: var(--fill-color);\n",
              "    }\n",
              "    40% {\n",
              "      border-color: transparent;\n",
              "      border-right-color: var(--fill-color);\n",
              "      border-top-color: var(--fill-color);\n",
              "    }\n",
              "    60% {\n",
              "      border-color: transparent;\n",
              "      border-right-color: var(--fill-color);\n",
              "    }\n",
              "    80% {\n",
              "      border-color: transparent;\n",
              "      border-right-color: var(--fill-color);\n",
              "      border-bottom-color: var(--fill-color);\n",
              "    }\n",
              "    90% {\n",
              "      border-color: transparent;\n",
              "      border-bottom-color: var(--fill-color);\n",
              "    }\n",
              "  }\n",
              "</style>\n",
              "\n",
              "  <script>\n",
              "    async function quickchart(key) {\n",
              "      const quickchartButtonEl =\n",
              "        document.querySelector('#' + key + ' button');\n",
              "      quickchartButtonEl.disabled = true;  // To prevent multiple clicks.\n",
              "      quickchartButtonEl.classList.add('colab-df-spinner');\n",
              "      try {\n",
              "        const charts = await google.colab.kernel.invokeFunction(\n",
              "            'suggestCharts', [key], {});\n",
              "      } catch (error) {\n",
              "        console.error('Error during call to suggestCharts:', error);\n",
              "      }\n",
              "      quickchartButtonEl.classList.remove('colab-df-spinner');\n",
              "      quickchartButtonEl.classList.add('colab-df-quickchart-complete');\n",
              "    }\n",
              "    (() => {\n",
              "      let quickchartButtonEl =\n",
              "        document.querySelector('#df-62958879-c1e0-41ba-adcd-a6087d6430ee button');\n",
              "      quickchartButtonEl.style.display =\n",
              "        google.colab.kernel.accessAllowed ? 'block' : 'none';\n",
              "    })();\n",
              "  </script>\n",
              "</div>\n",
              "    </div>\n",
              "  </div>\n"
            ]
          },
          "metadata": {},
          "execution_count": 92
        }
      ]
    },
    {
      "cell_type": "code",
      "source": [
        "ta_tokenizer = Tokenizer(WordLevel(vocab=ta_vocab.get_stoi() ,unk_token=\"[UNK]\"))\n",
        "ta_tokenizer.pre_tokenizer = WhitespaceSplit()\n",
        "trainer_src = WordLevelTrainer(vocab_size=100000, special_tokens=[\"[PAD]\", \"[UNK]\", \"[BOS]\", \"[EOS]\"])\n",
        "\n",
        "# Configure batch iterators to train tokenizers from memory\n",
        "def batch_iterator_src(batch_size=10000):\n",
        "    for i in range(0, len(data), batch_size):\n",
        "        yield data[i : i + batch_size]['Tamil']\n",
        "\n",
        "# Train tokenizers\n",
        "ta_tokenizer.train_from_iterator(batch_iterator_src(), trainer=trainer_src, length=len(data))\n",
        "\n",
        "# Configure postprocessing to add [BOS] and [EOS] tokens to trg sequence\n",
        "ta_tokenizer.post_processor = TemplateProcessing(\n",
        "    single=\"[BOS] $A [EOS]\",\n",
        "    special_tokens=[\n",
        "        (\"[BOS]\", 2),\n",
        "        (\"[EOS]\", 3),\n",
        "    ],\n",
        ")"
      ],
      "metadata": {
        "id": "2qitdoXsrIBY"
      },
      "execution_count": 53,
      "outputs": []
    },
    {
      "cell_type": "code",
      "source": [
        "ta_tokenizer.get_vocab_size()"
      ],
      "metadata": {
        "colab": {
          "base_uri": "https://localhost:8080/"
        },
        "id": "nUXGvFDVuWGP",
        "outputId": "5d590b97-355c-4c57-c11d-3bac6db3ac7a"
      },
      "execution_count": 54,
      "outputs": [
        {
          "output_type": "execute_result",
          "data": {
            "text/plain": [
              "100000"
            ]
          },
          "metadata": {},
          "execution_count": 54
        }
      ]
    },
    {
      "cell_type": "code",
      "source": [
        "encoding = ta_tokenizer.encode(y[5])\n",
        "print(encoding.tokens)\n",
        "print(encoding.ids)"
      ],
      "metadata": {
        "colab": {
          "base_uri": "https://localhost:8080/"
        },
        "id": "SiCkFI6XtWc7",
        "outputId": "b5a5f200-6eef-4b55-d0f2-5674562fbc38"
      },
      "execution_count": 55,
      "outputs": [
        {
          "output_type": "stream",
          "name": "stdout",
          "text": [
            "['[BOS]', 'இந்த', 'எல்லா', 'உயிர்களிலும்', 'நீங்கள்', 'கண்டுபிடிக்கப்', 'போவது', 'இதுதான்', 'என்று', 'நான்', 'நினைக்கிறேன்', 'உங்கள்', 'சொந்த', 'அனுபவம்', 'நீங்கள்', 'தேர்ந்தெடுக்கும்', 'ஒரு', 'நல்ல', 'ஒப்பந்தத்தை', 'வண்ணமயமாக்குகிறது', 'மேலே', 'நெருக்கமாக', 'அல்லது', 'கீழே', 'நெருக்கமாக', 'மற்றும்', 'யோசனை', 'ஒரு', 'உடன்பிறப்பு', 'அல்லது', 'இனி', 'சம்பந்தப்படாத', 'குழந்தை', 'உங்கள்', 'அனுபவம்', 'மிகவும்', 'வேதனையாக', 'இருந்தால்', 'குடும்பத்துடன்,', 'பின்னர்', 'நீங்கள்', 'அதை', 'கீழே', 'தள்ளும்', 'வாய்ப்புகள்', 'உள்ளன.', '[EOS]']\n",
            "[2, 5, 317, 48624, 23, 54667, 5791, 656, 7, 10, 27436, 74, 670, 2270, 23, 26835, 6, 113, 4204, 99119, 1886, 3216, 28, 686, 3216, 4, 5842, 6, 47434, 28, 657, 64058, 445, 74, 2270, 63, 32055, 1391, 58701, 65, 23, 57, 686, 72362, 1084, 122, 3]\n"
          ]
        }
      ]
    },
    {
      "cell_type": "code",
      "source": [
        "en_tokenizer = Tokenizer(WordLevel(vocab=en_vocab.get_stoi() ,unk_token=\"[UNK]\"))\n",
        "en_tokenizer.pre_tokenizer = WhitespaceSplit()\n",
        "en_tokenizer.normalizer=normalizers.Sequence([NFD(),StripAccents(), Lowercase()])\n",
        "en_tokenizer.pre_tokenizer = WhitespaceSplit()\n",
        "\n",
        "trainer_src = WordLevelTrainer(vocab_size=100000, special_tokens=[\"[PAD]\", \"[UNK]\", \"[BOS]\", \"[EOS]\"])\n",
        "\n",
        "# Configure batch iterators to train tokenizers from memory\n",
        "def batch_iterator_src(batch_size=10000):\n",
        "    for i in range(0, len(data), batch_size):\n",
        "        yield data[i : i + batch_size]['English']\n",
        "\n",
        "# Train tokenizers\n",
        "en_tokenizer.train_from_iterator(batch_iterator_src(), trainer=trainer_src, length=len(data))\n",
        "\n",
        "# Configure postprocessing to add [BOS] and [EOS] tokens to trg sequence\n",
        "en_tokenizer.post_processor = TemplateProcessing(\n",
        "    single=\"[BOS] $A [EOS]\",\n",
        "    special_tokens=[\n",
        "        (\"[BOS]\", 2),\n",
        "        (\"[EOS]\", 3),\n",
        "    ],\n",
        ")"
      ],
      "metadata": {
        "id": "fyOIN3LotgeU"
      },
      "execution_count": 93,
      "outputs": []
    },
    {
      "cell_type": "code",
      "source": [
        "en_tokenizer.get_vocab_size()"
      ],
      "metadata": {
        "colab": {
          "base_uri": "https://localhost:8080/"
        },
        "id": "2wy1y5SEOxeS",
        "outputId": "31cb9baf-30e6-4fb4-9f31-9ad8d171eb21"
      },
      "execution_count": 194,
      "outputs": [
        {
          "output_type": "execute_result",
          "data": {
            "text/plain": [
              "53671"
            ]
          },
          "metadata": {},
          "execution_count": 194
        }
      ]
    },
    {
      "cell_type": "code",
      "source": [
        "encoding = en_tokenizer.encode(x[5])\n",
        "print(encoding.tokens)\n",
        "print(encoding.ids)"
      ],
      "metadata": {
        "colab": {
          "base_uri": "https://localhost:8080/"
        },
        "id": "5V_0zpZsxDDc",
        "outputId": "180e168b-f907-48e2-ab58-7d3f1fae9b59"
      },
      "execution_count": 94,
      "outputs": [
        {
          "output_type": "stream",
          "name": "stdout",
          "text": [
            "['[BOS]', 'i', 'think', 'with', 'all', 'these', 'lives', 'what', \"you're\", 'going', 'to', 'find', 'is', 'that', 'your', 'own', 'experience', 'tends', 'to', 'color', 'a', 'good', 'deal', 'which', 'one', 'you', 'pick', 'as', 'closer', 'to', 'the', 'top', 'or', 'closer', 'to', 'the', 'bottom', 'and', 'the', 'idea', 'of', 'a', 'sibling', 'or', 'a', 'child', \"that's\", 'no', 'longer', 'involved', 'with', 'the', 'family', 'if', 'your', 'experience', 'with', 'that', 'is', 'very', 'painful,', 'then', 'the', 'chances', 'are', 'that', \"you'll\", 'kind', 'of', 'push', 'that', 'one', 'to', 'the', 'bottom.', '[EOS]']\n",
            "[2, 25, 269, 22, 43, 94, 431, 38, 5443, 157, 7, 352, 10, 12, 57, 302, 1052, 21735, 7, 3399, 9, 127, 1203, 68, 47, 29, 4485, 27, 3398, 7, 4, 675, 50, 3398, 7, 4, 3805, 6, 4, 1733, 5, 9, 21236, 50, 9, 372, 732, 42, 1292, 844, 22, 4, 171, 85, 57, 1052, 22, 12, 10, 105, 43471, 95, 4, 5087, 15, 12, 9820, 1014, 5, 5330, 12, 47, 7, 4, 29444, 3]\n"
          ]
        }
      ]
    },
    {
      "cell_type": "code",
      "source": [
        "from datasets import Dataset\n",
        "\n",
        "data = Dataset.from_pandas(data)\n"
      ],
      "metadata": {
        "id": "HxSAaXsZypZN"
      },
      "execution_count": 96,
      "outputs": []
    },
    {
      "cell_type": "code",
      "source": [
        "def preprocess_data(data, en_tokenizer,ta_tokenizer, max_seq_len , test_proportion):\n",
        "\n",
        "    # Tokenize\n",
        "    def tokenize(example):\n",
        "        return {\n",
        "            'translation_src': en_tokenizer.encode(example['English']).ids,\n",
        "            'translation_trg': ta_tokenizer.encode(example['Tamil']).ids,\n",
        "        }\n",
        "    data=data.map(tokenize)\n",
        "\n",
        "    # Compute sequence lengths\n",
        "    def sequence_length(example):\n",
        "        return {\n",
        "            'length_src': [len(item) for item in example['English']],\n",
        "            'length_trg': [len(item) for item in example['Tamil']],\n",
        "        }\n",
        "    data=data.map(sequence_length, batched=True, batch_size=10000)\n",
        "\n",
        "    # Filter by sequence lengths\n",
        "    def filter_long(example):\n",
        "        return example['length_src']<= max_seq_len and example['length_trg']<=max_seq_len\n",
        "    data=data.filter(filter_long)\n",
        "\n",
        "    data=data.train_test_split(test_size=test_proportion)\n",
        "\n",
        "    # Sort each split by length for dynamic batching (see CustomBatchSampler)\n",
        "    data['train']=data['train'].sort('length_src', reverse=True)\n",
        "    data['test']=data['test'].sort('length_src', reverse=True)\n",
        "    return data"
      ],
      "metadata": {
        "id": "3TM4dKE8xHO9"
      },
      "execution_count": 97,
      "outputs": []
    },
    {
      "cell_type": "code",
      "source": [
        "data = preprocess_data(data , en_tokenizer , ta_tokenizer , 65 , 0.2)"
      ],
      "metadata": {
        "colab": {
          "base_uri": "https://localhost:8080/",
          "height": 113,
          "referenced_widgets": [
            "c0062bd2b0f347df937c72c3729d0706",
            "6933c799a2034eb995722eaa95cc3cb8",
            "356ac96104a841eb9d05b4daf2041772",
            "8f7c441cdf664f9390dfa9b28408d2b7",
            "974eb0a0905b4ae0b0a91f3694a0dda1",
            "d7f6f802c0e447c8a97ce0f46832096f",
            "a6e41eefeda64cd5b099a2b966803d0d",
            "38477b0ff33d483598f1a8f245c26877",
            "114c81e92bd145a5824544e3abc05b47",
            "f488d7bdf82c49019177c105239f6f9a",
            "2b8a1fd73c68476cabe8b8509db49f7b",
            "ac1d0521ab474388896ffe74b30a7f46",
            "5d89711bf7bf4c98b61dd8058a008ae0",
            "48686089a92b47abb6d4b94883bd0177",
            "09d17849f5fd4fbbaa6a98d3828a4274",
            "e48d33ef41cf4ff4b71515846382bac3",
            "1664d8f53dc44bf9ba55865ef2eda386",
            "8cb34020d86440f3831276c44fd9e2f9",
            "d21b4b7e89034af092d1e63832c7d9fb",
            "2fe4f0fb70894cd096185758f04df1b5",
            "2ce271ca8c8d455c890e035fba0e7413",
            "d60f9f0df4a04bb08b2f9cb546914d10",
            "c2f76812ede24cc88de351b10f275264",
            "d3cbb33133d7453ca088201035c19efe",
            "8bca784797534a729c270c82e8fdf92c",
            "2494e25be9364517aa3926b4105e3685",
            "8e73f7400c8042e694ed2a29a0ed5774",
            "d1bb58fcef974d12927234f55541c38e",
            "54705ba750104a279c3398ed1875248e",
            "f7e85f84ae94408fa4b88e7646673090",
            "bb3eb6c0f3d34563bbf0b9fb0fa8a439",
            "f41af972d87d41d2beaa2b6b02bd3962",
            "1a3c0f4dcef8493990e7ea69aa517077"
          ]
        },
        "id": "4cAl15VDx9y3",
        "outputId": "20441899-8084-4f80-8e98-1a43376e2c1d"
      },
      "execution_count": 98,
      "outputs": [
        {
          "output_type": "display_data",
          "data": {
            "text/plain": [
              "Map:   0%|          | 0/50000 [00:00<?, ? examples/s]"
            ],
            "application/vnd.jupyter.widget-view+json": {
              "version_major": 2,
              "version_minor": 0,
              "model_id": "c0062bd2b0f347df937c72c3729d0706"
            }
          },
          "metadata": {}
        },
        {
          "output_type": "display_data",
          "data": {
            "text/plain": [
              "Map:   0%|          | 0/50000 [00:00<?, ? examples/s]"
            ],
            "application/vnd.jupyter.widget-view+json": {
              "version_major": 2,
              "version_minor": 0,
              "model_id": "ac1d0521ab474388896ffe74b30a7f46"
            }
          },
          "metadata": {}
        },
        {
          "output_type": "display_data",
          "data": {
            "text/plain": [
              "Filter:   0%|          | 0/50000 [00:00<?, ? examples/s]"
            ],
            "application/vnd.jupyter.widget-view+json": {
              "version_major": 2,
              "version_minor": 0,
              "model_id": "c2f76812ede24cc88de351b10f275264"
            }
          },
          "metadata": {}
        }
      ]
    },
    {
      "cell_type": "code",
      "source": [
        "len(data['train']) , len(data['test'])"
      ],
      "metadata": {
        "colab": {
          "base_uri": "https://localhost:8080/"
        },
        "id": "-tBRnKiTyPpg",
        "outputId": "34c56dab-be1c-443c-f09c-e700efe24b06"
      },
      "execution_count": 99,
      "outputs": [
        {
          "output_type": "execute_result",
          "data": {
            "text/plain": [
              "(22888, 5723)"
            ]
          },
          "metadata": {},
          "execution_count": 99
        }
      ]
    },
    {
      "cell_type": "code",
      "source": [
        "class TranslationDataset(Dataset):\n",
        "    def __init__(self, dataset):\n",
        "        self.dataset = dataset\n",
        "\n",
        "    def __len__(self):\n",
        "        return len(self.dataset)\n",
        "\n",
        "    def __getitem__(self, idx):\n",
        "        src_encoded=self.dataset[idx]['translation_src']\n",
        "        trg_encoded=self.dataset[idx]['translation_trg']\n",
        "\n",
        "        # Determine the maximum sequence length\n",
        "        max_len = max(len(src_encoded), len(trg_encoded))\n",
        "\n",
        "        # Pad the sequences to have the same length\n",
        "        src_encoded = src_encoded + [0]*(max_len - len(src_encoded))\n",
        "        trg_encoded = trg_encoded + [0]*(max_len - len(trg_encoded))\n",
        "        return [\n",
        "            torch.tensor(src_encoded),\n",
        "            torch.tensor(trg_encoded),\n",
        "        ]"
      ],
      "metadata": {
        "id": "lv-kcGGmzgZr"
      },
      "execution_count": 166,
      "outputs": []
    },
    {
      "cell_type": "code",
      "source": [
        "train_ds = TranslationDataset(data['train'])\n",
        "val_ds = TranslationDataset(data['test'])"
      ],
      "metadata": {
        "id": "oiU7fljH0aYQ"
      },
      "execution_count": 167,
      "outputs": []
    },
    {
      "cell_type": "code",
      "source": [
        "train_ds[0]"
      ],
      "metadata": {
        "colab": {
          "base_uri": "https://localhost:8080/"
        },
        "id": "5giwR2wF2fvl",
        "outputId": "74c243d5-d3e8-472f-eaf6-05c66a8aa670"
      },
      "execution_count": 168,
      "outputs": [
        {
          "output_type": "execute_result",
          "data": {
            "text/plain": [
              "[tensor([    2,  2197, 28405,   668,  1568,    16,   272,    20,     4,  2104,\n",
              "          5304,     3]),\n",
              " tensor([    2,   206, 66698, 91130, 68458,   135,  1273,     3,     0,     0,\n",
              "             0,     0])]"
            ]
          },
          "metadata": {},
          "execution_count": 168
        }
      ]
    },
    {
      "cell_type": "code",
      "source": [
        "en_vocab[\"[PAD]\"] , ta_vocab[\"[PAD]\"]"
      ],
      "metadata": {
        "colab": {
          "base_uri": "https://localhost:8080/"
        },
        "id": "dPR4qZRO0kIi",
        "outputId": "4fe3b7f9-d581-4f4e-a91e-03c3fa30e220"
      },
      "execution_count": 169,
      "outputs": [
        {
          "output_type": "execute_result",
          "data": {
            "text/plain": [
              "(0, 0)"
            ]
          },
          "metadata": {},
          "execution_count": 169
        }
      ]
    },
    {
      "cell_type": "code",
      "source": [
        "def pad_collate_fn(batch):\n",
        "    src_sentences,trg_sentences=[],[]\n",
        "    for sample in batch:\n",
        "        src_sentences+=[sample[0]]\n",
        "        trg_sentences+=[sample[1]]\n",
        "\n",
        "    src_sentences = pad_sequence(src_sentences, batch_first=True, padding_value=0)\n",
        "    trg_sentences = pad_sequence(trg_sentences, batch_first=True, padding_value=0)\n",
        "\n",
        "    return src_sentences, trg_sentences"
      ],
      "metadata": {
        "id": "gv5NlbXcCazU"
      },
      "execution_count": 170,
      "outputs": []
    },
    {
      "cell_type": "code",
      "source": [
        "# example-use\n",
        "batch=[\n",
        "    (torch.tensor([1,2,3,4]),torch.tensor([1,2,3,4,5,6,7])), #x's\n",
        "    (torch.tensor([1,2,3,4,5,6]), torch.tensor([1,2]))  # y's\n",
        "]\n",
        "\n",
        "pad_collate_fn(batch)\n"
      ],
      "metadata": {
        "colab": {
          "base_uri": "https://localhost:8080/"
        },
        "id": "pQBktLBw_N1_",
        "outputId": "a75577a6-2486-437c-c519-b6a4766ce4b6"
      },
      "execution_count": 171,
      "outputs": [
        {
          "output_type": "execute_result",
          "data": {
            "text/plain": [
              "(tensor([[1, 2, 3, 4, 0, 0],\n",
              "         [1, 2, 3, 4, 5, 6]]),\n",
              " tensor([[1, 2, 3, 4, 5, 6, 7],\n",
              "         [1, 2, 0, 0, 0, 0, 0]]))"
            ]
          },
          "metadata": {},
          "execution_count": 171
        }
      ]
    },
    {
      "cell_type": "code",
      "source": [
        "\n",
        "def chunk(indices, chunk_size):\n",
        "    return torch.split(torch.tensor(indices), chunk_size)\n",
        "\n",
        "class CustomBatchSampler(Sampler):\n",
        "    def __init__(self, dataset, batch_size):\n",
        "\n",
        "        # Dataset is already sorted so just chunk indices\n",
        "        # into batches of indices for sampling\n",
        "        self.batch_size=batch_size\n",
        "        self.indices=range(len(dataset))\n",
        "        self.batch_of_indices=list(chunk(self.indices, self.batch_size))\n",
        "        self.batch_of_indices = [batch.tolist() for batch in self.batch_of_indices]\n",
        "\n",
        "    def __iter__(self):\n",
        "        random.shuffle(self.batch_of_indices)\n",
        "        return iter(self.batch_of_indices)\n",
        "\n",
        "    def __len__(self):\n",
        "        return len(self.batch_of_indices)"
      ],
      "metadata": {
        "id": "ALbA1iu11tL1"
      },
      "execution_count": 172,
      "outputs": []
    },
    {
      "cell_type": "code",
      "source": [
        "custom_batcher_train = CustomBatchSampler(train_ds, config['BATCH_SIZE'])\n",
        "custom_batcher_val = CustomBatchSampler(val_ds, config['BATCH_SIZE'])\n"
      ],
      "metadata": {
        "id": "4JBOIBnD12SW"
      },
      "execution_count": 173,
      "outputs": []
    },
    {
      "cell_type": "code",
      "source": [
        "# example-use\n",
        "dummy_batcher = CustomBatchSampler(train_ds, 3)\n",
        "dummy_dl=DataLoader(train_ds, collate_fn=pad_collate_fn , batch_sampler=dummy_batcher, pin_memory=True)\n",
        "print(len(dummy_dl))\n",
        "for x ,y  in dummy_dl:\n",
        "    print('Shapes: ')\n",
        "    print('-'*10)\n",
        "    print(x.size())\n",
        "    print(y.size())\n",
        "    print()\n",
        "\n",
        "\n",
        "    print('e.g. src batch (see there is minimal/no padding):')\n",
        "    print('-'*10)\n",
        "    print(x.numpy())\n",
        "\n",
        "    break"
      ],
      "metadata": {
        "colab": {
          "base_uri": "https://localhost:8080/"
        },
        "id": "MYj1Zd8t2DCY",
        "outputId": "66692256-71fc-40b4-9f6d-e2e8fa08ccac"
      },
      "execution_count": 174,
      "outputs": [
        {
          "output_type": "stream",
          "name": "stdout",
          "text": [
            "7630\n",
            "Shapes: \n",
            "----------\n",
            "torch.Size([3, 9])\n",
            "torch.Size([3, 9])\n",
            "\n",
            "e.g. src batch (see there is minimal/no padding):\n",
            "----------\n",
            "[[    2    36    14    13    23  9341     4  5304     3]\n",
            " [    2  3137     6   290    35 20030     3     0     0]\n",
            " [    2    12   524    17    23    30  4894     3     0]]\n"
          ]
        }
      ]
    },
    {
      "cell_type": "code",
      "source": [
        "train_dl=DataLoader(train_ds, collate_fn=pad_collate_fn, batch_sampler=custom_batcher_train, pin_memory=True)\n",
        "val_dl=DataLoader(val_ds, collate_fn=pad_collate_fn, batch_sampler=custom_batcher_val, pin_memory=True)\n"
      ],
      "metadata": {
        "id": "8NSnkUB8M6u9"
      },
      "execution_count": 192,
      "outputs": []
    },
    {
      "cell_type": "markdown",
      "source": [
        "## Transformer Architecture"
      ],
      "metadata": {
        "id": "HijJNnnKLOkQ"
      }
    },
    {
      "cell_type": "code",
      "source": [
        "class PositionalEncoding(nn.Module):\n",
        "    def __init__(self, d_model, max_seq_len=500, dropout_proba=0.1):\n",
        "        super(PositionalEncoding, self).__init__()\n",
        "        self.max_seq_len=max_seq_len\n",
        "        self.d_model=d_model\n",
        "\n",
        "        pe_table=self.get_pe_table()\n",
        "        self.register_buffer('pe_table' , pe_table)\n",
        "\n",
        "        self.dropout=nn.Dropout(dropout_proba)\n",
        "\n",
        "    def get_pe_table(self):\n",
        "        position_idxs=torch.arange(self.max_seq_len).unsqueeze(1)\n",
        "        embedding_idxs=torch.arange(self.d_model).unsqueeze(0)\n",
        "\n",
        "        angle_rads = position_idxs * 1/torch.pow(10000, (2*(embedding_idxs//2))/self.d_model)\n",
        "\n",
        "        angle_rads[:, 0::2] = torch.sin(angle_rads[:, 0::2])\n",
        "        angle_rads[:, 1::2] = torch.cos(angle_rads[:, 1::2])\n",
        "\n",
        "        pe_table = angle_rads.unsqueeze(0) # So we can apply it to a batch\n",
        "\n",
        "        return pe_table\n",
        "\n",
        "    def forward(self, embeddings_batch):\n",
        "        seq_len = embeddings_batch.size(1)\n",
        "        pe_batch = self.pe_table[:, :seq_len].clone().detach()\n",
        "        return self.dropout(embeddings_batch + pe_batch)"
      ],
      "metadata": {
        "id": "JtDML_L2J26Y"
      },
      "execution_count": 175,
      "outputs": []
    },
    {
      "cell_type": "code",
      "source": [
        "# example-use\n",
        "import matplotlib.pyplot as plt\n",
        "\n",
        "positional_encoding=PositionalEncoding(512, 500)\n",
        "pe_table=positional_encoding.get_pe_table()\n",
        "\n",
        "plt.imshow(pe_table.squeeze(0).numpy())"
      ],
      "metadata": {
        "colab": {
          "base_uri": "https://localhost:8080/",
          "height": 453
        },
        "id": "ItLHH7khLT9j",
        "outputId": "5bcec014-2b36-492d-ac09-50e3e79041a7"
      },
      "execution_count": 176,
      "outputs": [
        {
          "output_type": "execute_result",
          "data": {
            "text/plain": [
              "<matplotlib.image.AxesImage at 0x7fdc22175660>"
            ]
          },
          "metadata": {},
          "execution_count": 176
        },
        {
          "output_type": "display_data",
          "data": {
            "text/plain": [
              "<Figure size 640x480 with 1 Axes>"
            ],
            "image/png": "[encoded data removed]"
          },
          "metadata": {}
        }
      ]
    },
    {
      "cell_type": "code",
      "source": [
        "class AddAndNorm(nn.Module):\n",
        "    def __init__(self, d_model):\n",
        "        super(AddAndNorm, self).__init__()\n",
        "\n",
        "        self.layer_norm=nn.LayerNorm(d_model)\n",
        "\n",
        "    def forward(self, x, residual):\n",
        "        return self.layer_norm(x+residual)"
      ],
      "metadata": {
        "id": "lkQJJyoyLYPg"
      },
      "execution_count": 177,
      "outputs": []
    },
    {
      "cell_type": "code",
      "source": [
        "class PositionWiseFeedForwardNet(nn.Module):\n",
        "    def __init__(self, d_model, d_ff):\n",
        "        super(PositionWiseFeedForwardNet, self).__init__()\n",
        "        self.w_1 = nn.Linear(d_model, d_ff)\n",
        "        self.w_2 = nn.Linear(d_ff, d_model)\n",
        "\n",
        "        # Optional Dropout (not mentioned in the paper)\n",
        "        self.dropout = nn.Dropout(0.1)\n",
        "\n",
        "    def forward(self, x):\n",
        "        return self.w_2(self.dropout(torch.relu(self.w_1(x))))"
      ],
      "metadata": {
        "id": "vbf8HopGLbsv"
      },
      "execution_count": 178,
      "outputs": []
    },
    {
      "cell_type": "code",
      "source": [
        "class ScaledDotProductAttention(nn.Module):\n",
        "    def __init__(self, d_head):\n",
        "        super(ScaledDotProductAttention, self).__init__()\n",
        "\n",
        "        self.d_head = d_head\n",
        "\n",
        "        # Optional dropout (not mentioned in the paper)\n",
        "        self.attention_dropout = nn.Dropout(p=0.1)\n",
        "\n",
        "    def forward(self, q, k, v, mask=None):\n",
        "        # q, k, v dims: (batch_size, n_heads, seq_len, d_head)\n",
        "\n",
        "        attention_weights = torch.matmul(q, k.transpose(-2, -1))  # (batch_size, n_heads, seq_len, seq_len)\n",
        "        scaled_attention_weights = attention_weights / math.sqrt(self.d_head)  # (batch_size, n_heads, seq_len, seq_len)\n",
        "\n",
        "        if mask is not None:\n",
        "            scaled_attention_weights = scaled_attention_weights.masked_fill(mask == 0, float('-inf')) # (batch_size, n_heads, seq_len, seq_len)\n",
        "\n",
        "        # Apply softmax over the last dimension which corresponds to attention weights for a key\n",
        "        scaled_attention_weights = nn.functional.softmax(scaled_attention_weights, dim=-1) # (batch_size, n_heads, seq_len, seq_len)\n",
        "\n",
        "        # Optional dropout (not mentioned in the paper)\n",
        "        scaled_attention_weights = self.attention_dropout(scaled_attention_weights) # (batch_size, n_heads, seq_len, seq_len)\n",
        "\n",
        "        weighted_v = torch.matmul(scaled_attention_weights, v) # (batch_size, n_heads, seq_len, d_head)\n",
        "\n",
        "        return weighted_v"
      ],
      "metadata": {
        "id": "wIp34OraLe5C"
      },
      "execution_count": 179,
      "outputs": []
    },
    {
      "cell_type": "code",
      "source": [
        "class MultiHeadAttention(nn.Module):\n",
        "    def __init__(self, d_model, n_heads):\n",
        "        super(MultiHeadAttention, self).__init__()\n",
        "\n",
        "        self.n_heads= n_heads\n",
        "\n",
        "        assert d_model % n_heads == 0\n",
        "        self.d_head = d_model // n_heads\n",
        "\n",
        "        self.dot_product_attention_layer= ScaledDotProductAttention(self.d_head)\n",
        "\n",
        "        self.W_0 = nn.Linear(d_model, d_model)\n",
        "\n",
        "    def _split_into_heads(self, q,k,v):\n",
        "        q= q.view(q.size(0), q.size(1), self.n_heads, self.d_head) # (batch_size, seq_len, n_heads, d_head)\n",
        "        k= k.view(k.size(0), k.size(1), self.n_heads, self.d_head) # (batch_size, seq_len, n_heads, d_head)\n",
        "        v= v.view(v.size(0), v.size(1), self.n_heads, self.d_head) # (batch_size, seq_len, n_heads, d_head)\n",
        "\n",
        "        q= q.transpose(1,2) # (batch_size, n_heads, seq_len, d_head)\n",
        "        k= k.transpose(1,2) # (batch_size, n_heads, seq_len, d_head)\n",
        "        v= v.transpose(1,2) # (batch_size, n_heads, seq_len, d_head)\n",
        "\n",
        "        return q,k,v\n",
        "\n",
        "    def _concatenate_heads(self,attention_output):\n",
        "        attention_output = attention_output.transpose(1,2).contiguous() # (batch_size, seq_len, n_heads, d_head)\n",
        "        attention_output = attention_output.view(attention_output.size(0), attention_output.size(1), -1) # (batch_size, seq_len, n_heads * d_head)\n",
        "\n",
        "        return attention_output\n",
        "\n",
        "    def forward(self, q, k, v, mask=None):\n",
        "        q,k,v= self._split_into_heads(q,k,v) # (batch_size, n_heads, seq_len, d_head)\n",
        "        attention_output = self.dot_product_attention_layer(q, k, v, mask) # (batch_size, n_heads, seq_len, d_head)\n",
        "        attention_output = self._concatenate_heads(attention_output) # (batch_size, seq_len, n_heads * d_head)\n",
        "\n",
        "        attention_output = self.W_0(attention_output) # (batch_size, seq_len, d_model)\n",
        "\n",
        "        return attention_output"
      ],
      "metadata": {
        "id": "I2nB3dGOLinm"
      },
      "execution_count": 180,
      "outputs": []
    },
    {
      "cell_type": "code",
      "source": [
        "class TransformerEncoderBlock(nn.Module):\n",
        "    def __init__(self, d_model, n_heads, d_ff, dropout_proba):\n",
        "        super(TransformerEncoderBlock, self).__init__()\n",
        "\n",
        "        self.W_q = nn.Linear(d_model, d_model)\n",
        "        self.W_k = nn.Linear(d_model, d_model)\n",
        "        self.W_v = nn.Linear(d_model, d_model)\n",
        "\n",
        "        self.mha_layer=MultiHeadAttention(d_model, n_heads)\n",
        "        self.dropout_layer_1=nn.Dropout(dropout_proba)\n",
        "        self.add_and_norm_layer_1 = AddAndNorm(d_model)\n",
        "\n",
        "        self.ffn_layer = PositionWiseFeedForwardNet(d_model, d_ff)\n",
        "        self.dropout_layer_2=nn.Dropout(dropout_proba)\n",
        "        self.add_and_norm_layer_2 = AddAndNorm(d_model)\n",
        "\n",
        "    def forward(self, x, mask):\n",
        "        # x dims: (batch_size, src_seq_len, d_model)\n",
        "        # mask dim: (batch_size, 1, 1, src_seq_len)\n",
        "\n",
        "        q = self.W_q(x) # (batch_size, src_seq_len, d_model)\n",
        "        k = self.W_k(x) # (batch_size, src_seq_len, d_model)\n",
        "        v = self.W_v(x) # (batch_size, src_seq_len, d_model)\n",
        "\n",
        "        mha_out = self.mha_layer(q, k, v, mask) # (batch_size, src_seq_len, d_model)\n",
        "        mha_out= self.dropout_layer_1(mha_out) # (batch_size, src_seq_len, d_model)\n",
        "        mha_out = self.add_and_norm_layer_1(x, mha_out) # (batch_size, src_seq_len, d_model)\n",
        "\n",
        "        ffn_out = self.ffn_layer(mha_out) # (batch_size, src_seq_len, d_model)\n",
        "        ffn_out= self.dropout_layer_2(ffn_out) # (batch_size, src_seq_len, d_model)\n",
        "        ffn_out = self.add_and_norm_layer_2(mha_out, ffn_out)  # (batch_size, src_seq_len, d_model)\n",
        "\n",
        "        return ffn_out"
      ],
      "metadata": {
        "id": "6XpCEJjGLmjG"
      },
      "execution_count": 181,
      "outputs": []
    },
    {
      "cell_type": "code",
      "source": [
        "class TransformerEncoder(nn.Module):\n",
        "    def __init__(self, n_blocks, n_heads, d_model, d_ff, dropout_proba=0.1):\n",
        "        super(TransformerEncoder, self).__init__()\n",
        "\n",
        "        self.encoder_blocks=nn.ModuleList([TransformerEncoderBlock(d_model, n_heads, d_ff, dropout_proba) for _ in range(n_blocks)])\n",
        "\n",
        "    def forward(self, x, mask):\n",
        "        for encoder_block in self.encoder_blocks:\n",
        "            x = encoder_block(x, mask)\n",
        "        return x"
      ],
      "metadata": {
        "id": "TiwLlXA-Lp13"
      },
      "execution_count": 182,
      "outputs": []
    },
    {
      "cell_type": "code",
      "source": [
        "class TransformerDecoderBlock(nn.Module):\n",
        "    def __init__(self, d_model, n_heads, d_ff, dropout_proba):\n",
        "        super(TransformerDecoderBlock, self).__init__()\n",
        "\n",
        "        self.W_q_1 = nn.Linear(d_model, d_model)\n",
        "        self.W_k_1 = nn.Linear(d_model, d_model)\n",
        "        self.W_v_1 = nn.Linear(d_model, d_model)\n",
        "\n",
        "        self.mha_layer_1=MultiHeadAttention(d_model, n_heads)\n",
        "        self.dropout_layer_1=nn.Dropout(dropout_proba)\n",
        "        self.add_and_norm_1 = AddAndNorm(d_model)\n",
        "\n",
        "        self.W_q_2 = nn.Linear(d_model, d_model)\n",
        "        self.W_k_2 = nn.Linear(d_model, d_model)\n",
        "        self.W_v_2 = nn.Linear(d_model, d_model)\n",
        "\n",
        "        self.mha_layer_2=MultiHeadAttention(d_model, n_heads)\n",
        "        self.dropout_layer_2=nn.Dropout(dropout_proba)\n",
        "        self.add_and_norm_2 = AddAndNorm(d_model)\n",
        "\n",
        "        self.ffn_layer = PositionWiseFeedForwardNet(d_model, d_ff)\n",
        "        self.dropout_layer_3=nn.Dropout(dropout_proba)\n",
        "        self.add_and_norm_3 = AddAndNorm(d_model)\n",
        "\n",
        "    def forward(self, x, encoder_output, src_mask, trg_mask):\n",
        "        # x dims: (batch_size, trg_seq_len, d_model)\n",
        "        # encoder_output dims: (batch_size, src_seq_len, d_model)\n",
        "        # src_mask dim: (batch_size, 1, 1, src_seq_len)\n",
        "        # trg_mask dim: (batch_size, 1, trg_seq_len, trg_seq_len)\n",
        "\n",
        "        # 1st attention layer, trg_mask is used here\n",
        "        q_1 = self.W_q_1(x) # (batch_size, trg_seq_len, d_model)\n",
        "        k_1 = self.W_k_1(x) # (batch_size, trg_seq_len, d_model)\n",
        "        v_1 = self.W_v_1(x) # (batch_size, trg_seq_len, d_model)\n",
        "\n",
        "        mha_layer_1_out = self.mha_layer_1(q_1, k_1, v_1, trg_mask) # (batch_size, trg_seq_len, d_model)\n",
        "        mha_layer_1_out= self.dropout_layer_1(mha_layer_1_out) # (batch_size, trg_seq_len, d_model)\n",
        "        mha_layer_1_out = self.add_and_norm_1(mha_layer_1_out, x) # (batch_size, trg_seq_len, d_model)\n",
        "\n",
        "        # 2nd attention layer, src_mask is used here\n",
        "        q_2 = self.W_q_2(mha_layer_1_out) # (batch_size, trg_seq_len, d_model)\n",
        "        k_2 = self.W_k_2(encoder_output) # (batch_size, src_seq_len, d_model)\n",
        "        v_2 = self.W_v_2(encoder_output) # (batch_size, src_seq_len, d_model)\n",
        "\n",
        "        mha_layer_2_out = self.mha_layer_2(q_2, k_2, v_2, src_mask) # (batch_size, trg_seq_len, d_model)\n",
        "        mha_layer_2_out= self.dropout_layer_2(mha_layer_2_out) # (batch_size, trg_seq_len, d_model)\n",
        "        mha_layer_2_out = self.add_and_norm_2(mha_layer_2_out, mha_layer_1_out) # (batch_size, trg_seq_len, d_model)\n",
        "\n",
        "        # Position-wise feed forward\n",
        "        ffn_out = self.ffn_layer(mha_layer_2_out) # (batch_size, trg_seq_len, d_model)\n",
        "        ffn_out= self.dropout_layer_3(ffn_out) # (batch_size, trg_seq_len, d_model)\n",
        "        ffn_out = self.add_and_norm_3(ffn_out, mha_layer_2_out) # (batch_size, trg_seq_len, d_model)\n",
        "\n",
        "        return ffn_out"
      ],
      "metadata": {
        "id": "oNg7dHZfLsh9"
      },
      "execution_count": 183,
      "outputs": []
    },
    {
      "cell_type": "code",
      "source": [
        "class TransformerDecoder(nn.Module):\n",
        "    def __init__(self, n_blocks, n_heads, d_model, d_ff, dropout_proba):\n",
        "        super(TransformerDecoder, self).__init__()\n",
        "\n",
        "        self.decoder_blocks=nn.ModuleList([TransformerDecoderBlock(d_model, n_heads, d_ff, dropout_proba) for _ in range(n_blocks)])\n",
        "\n",
        "    def forward(self, x, encoder_output, src_mask, trg_mask):\n",
        "        for decoder_block in self.decoder_blocks:\n",
        "            x = decoder_block(x, encoder_output, src_mask, trg_mask)\n",
        "        return x"
      ],
      "metadata": {
        "id": "DXfSk1pOLwN5"
      },
      "execution_count": 184,
      "outputs": []
    },
    {
      "cell_type": "code",
      "source": [
        "class TransformerEncoderDecoder(nn.Module):\n",
        "    def __init__(self,d_model, n_blocks, src_vocab_size, trg_vocab_size, n_heads, d_ff, dropout_proba):\n",
        "        super(TransformerEncoderDecoder, self).__init__()\n",
        "        self.dropout_proba = dropout_proba\n",
        "        self.d_model=d_model\n",
        "\n",
        "        # Encoder part\n",
        "        self.src_embedding = nn.Embedding(src_vocab_size, d_model)\n",
        "        self.src_pos_embedding= PositionalEncoding(d_model)\n",
        "        self.encoder= TransformerEncoder(n_blocks, n_heads, d_model, d_ff, dropout_proba)\n",
        "\n",
        "        # Decoder part\n",
        "        self.trg_embedding = nn.Embedding(trg_vocab_size, d_model)\n",
        "        self.trg_pos_embedding= PositionalEncoding(d_model)\n",
        "        self.decoder= TransformerDecoder(n_blocks, n_heads, d_model, d_ff, dropout_proba)\n",
        "\n",
        "        # Linear mapping to vocab size\n",
        "        self.linear = nn.Linear(d_model, trg_vocab_size)\n",
        "\n",
        "        # Switch to xavier initialization (shown to be beneficial)\n",
        "        self.init_with_xavier()\n",
        "\n",
        "        # Sharing weights between two embedding layers and the pre-softmax linear layer\n",
        "        self.src_embedding.weight = self.trg_embedding.weight\n",
        "        self.linear.weight = self.trg_embedding.weight\n",
        "\n",
        "    def encode(self, src_token_ids, src_mask):\n",
        "        # Encoder part\n",
        "        src_embeddings = self.src_embedding(src_token_ids) * math.sqrt(self.d_model) # (batch_size, src_seq_len, d_model)\n",
        "        src_embeddings = self.src_pos_embedding(src_embeddings) # (batch_size, src_seq_len, d_model)\n",
        "        encoder_outputs = self.encoder(src_embeddings, src_mask) # (batch_size, src_seq_len, d_model)\n",
        "\n",
        "        return encoder_outputs\n",
        "\n",
        "    def decode(self, trg_token_ids, encoder_outputs, src_mask, trg_mask):\n",
        "        # Decoder part\n",
        "        trg_embeddings = self.trg_embedding(trg_token_ids) * math.sqrt(self.d_model) # (batch_size, trg_seq_len, d_model)\n",
        "        trg_embeddings = self.trg_pos_embedding(trg_embeddings) # (batch_size, trg_seq_len, d_model)\n",
        "        decoder_outputs = self.decoder(trg_embeddings, encoder_outputs, src_mask, trg_mask) # (batch_size, trg_seq_len, d_model)\n",
        "\n",
        "        # Linear mapping to vocab size\n",
        "        linear_out = self.linear(decoder_outputs) # (batch_size, trg_seq_len, trg_vocab_size)\n",
        "\n",
        "        return linear_out\n",
        "\n",
        "    def forward(self, src_token_ids, trg_token_ids, src_mask, trg_mask):\n",
        "\n",
        "        encoder_outputs= self.encode(src_token_ids, src_mask) # (batch_size, src_seq_len, d_model)\n",
        "        decoder_outputs= self.decode(trg_token_ids, encoder_outputs, src_mask, trg_mask) # (batch_size, trg_seq_len, d_model)\n",
        "\n",
        "        return decoder_outputs\n",
        "\n",
        "    def init_with_xavier(self):\n",
        "        for name, p in self.named_parameters():\n",
        "            if p.dim() > 1:\n",
        "                nn.init.xavier_uniform_(p)"
      ],
      "metadata": {
        "id": "tYPO4RcKLyjJ"
      },
      "execution_count": 185,
      "outputs": []
    },
    {
      "cell_type": "code",
      "source": [
        "class MachineTranslationTransformer(nn.Module):\n",
        "    def __init__(self, d_model,n_blocks,src_vocab_size,trg_vocab_size,n_heads,d_ff, dropout_proba):\n",
        "        super(MachineTranslationTransformer, self).__init__()\n",
        "\n",
        "        self.transformer_encoder_decoder=TransformerEncoderDecoder(\n",
        "            d_model,\n",
        "            n_blocks,\n",
        "            src_vocab_size,\n",
        "            trg_vocab_size,\n",
        "            n_heads,\n",
        "            d_ff,\n",
        "            dropout_proba\n",
        "        )\n",
        "\n",
        "    def _get_pad_mask(self, token_ids, pad_idx=0):\n",
        "        pad_mask= (token_ids != pad_idx).unsqueeze(-2) # (batch_size, 1, seq_len)\n",
        "        return pad_mask.unsqueeze(1)\n",
        "\n",
        "    def _get_lookahead_mask(self, token_ids):\n",
        "        sz_b, len_s = token_ids.size()\n",
        "        subsequent_mask = (1 - torch.triu(torch.ones((1, len_s, len_s), device=token_ids.device), diagonal=1)).bool()\n",
        "        return subsequent_mask.unsqueeze(1)\n",
        "\n",
        "    def forward(self, src_token_ids, trg_token_ids):\n",
        "\n",
        "        # Since trg_token_ids contains both [BOS] and [SOS] tokens\n",
        "        # we need to remove the [EOS] token when using it as input to the decoder.\n",
        "        # Similarly we remove the [BOS] token when we use it as y to calculate loss,\n",
        "        # which also makes y and y_pred shapes match.\n",
        "\n",
        "        # Removing [EOS] token\n",
        "        trg_token_ids=trg_token_ids[:, :-1]\n",
        "\n",
        "        src_mask = self._get_pad_mask(src_token_ids) # (batch_size, 1, 1, src_seq_len)\n",
        "        trg_mask = self._get_pad_mask(trg_token_ids) & self._get_lookahead_mask(trg_token_ids)  # (batch_size, 1, trg_seq_len, trg_seq_len)\n",
        "\n",
        "        return self.transformer_encoder_decoder(src_token_ids, trg_token_ids, src_mask, trg_mask)\n",
        "\n",
        "    def preprocess(self, sentence, tokenizer):\n",
        "        device = next(self.parameters()).device\n",
        "\n",
        "        src_token_ids=tokenizer.encode(sentence).ids\n",
        "        src_token_ids=torch.tensor(src_token_ids, dtype=torch.long).to(device)\n",
        "        src_token_ids=src_token_ids.unsqueeze(0) # To batch format\n",
        "\n",
        "        return src_token_ids\n",
        "\n",
        "    def translate(self, sentence, en_tokenizer , ta_tokenizer , max_tokens=100, skip_special_tokens=False):\n",
        "\n",
        "        # Infer the device of the model\n",
        "        device = next(self.parameters()).device\n",
        "\n",
        "        # Get tokenizer special tokens.\n",
        "        eos_id=en_tokenizer.token_to_id('[EOS]')\n",
        "        bos_id=en_tokenizer.token_to_id('[BOS]')\n",
        "        pad_id = en_tokenizer.token_to_id('[PAD]')\n",
        "\n",
        "        # Tokenize sentence.\n",
        "        src_token_ids=self.preprocess(sentence, en_tokenizer)\n",
        "\n",
        "        # Initialize target sequence with SOS token.\n",
        "        trg_token_ids=torch.LongTensor([bos_id]).unsqueeze(0).to(device) # (1, 1)\n",
        "\n",
        "        # Obtain src mask\n",
        "        src_mask=self._get_pad_mask(src_token_ids) # (batch_size, src_seq_len)\n",
        "\n",
        "        # with torch.no_grad():\n",
        "        encoder_output=self.transformer_encoder_decoder.encode(src_token_ids, src_mask) # (batch_size, src_seq_len, d_model)\n",
        "\n",
        "        while True:\n",
        "\n",
        "            # Obtain decoder output.\n",
        "            trg_mask=self._get_lookahead_mask(trg_token_ids)  # Can also be set to None but for my config I found this works better.\n",
        "            decoder_output=self.transformer_encoder_decoder.decode(trg_token_ids, encoder_output, src_mask, trg_mask)\n",
        "\n",
        "            # Identify token with highest probability.\n",
        "            softmax_output=nn.functional.log_softmax(decoder_output, dim=-1) # (batch_size, trg_seq_len, trg_vocab_size)\n",
        "            softmax_output_last=softmax_output[:, -1, :] # (batch_size, trg_vocab_size)\n",
        "            _, token_id=softmax_output_last.max(dim=-1) # (batch_size, trg_seq_len)\n",
        "\n",
        "            # Check if token is EOS or we reached the maximum number of tokens.\n",
        "            if token_id.item() == eos_id or trg_token_ids.size(1) == max_tokens:\n",
        "                trg_token_ids=torch.cat([trg_token_ids, token_id.unsqueeze(0)], dim=-1) # (batch_size, trg_seq_len+1)\n",
        "                break\n",
        "\n",
        "            # Add token to target sequence.\n",
        "            trg_token_ids=torch.cat([trg_token_ids, token_id.unsqueeze(0)], dim=-1) # (batch_size, trg_seq_len+1)\n",
        "\n",
        "        # Detokenize sentence.\n",
        "        decoded_output=ta_tokenizer.decode(trg_token_ids.squeeze(0).detach().cpu().numpy(), skip_special_tokens=skip_special_tokens)\n",
        "\n",
        "        return decoded_output"
      ],
      "metadata": {
        "id": "28Ce6BnhL2yI"
      },
      "execution_count": 202,
      "outputs": []
    },
    {
      "cell_type": "markdown",
      "source": [
        "## Training"
      ],
      "metadata": {
        "id": "9wtXmpdDL-Jj"
      }
    },
    {
      "cell_type": "code",
      "source": [
        "class CustomScheduler():\n",
        "\n",
        "    def __init__(self, optimizer, d_model, n_warmup_steps=4000):\n",
        "        self.optimizer = optimizer\n",
        "        self.d_model = d_model\n",
        "        self.n_warmup_steps = n_warmup_steps\n",
        "        self.cur_step = 0\n",
        "        self.cur_lr=None\n",
        "\n",
        "        # Init LR right away\n",
        "        self.step()\n",
        "\n",
        "    def step(self):\n",
        "        self.cur_step += 1\n",
        "        self.cur_lr=self._get_lr()\n",
        "\n",
        "        for p in self.optimizer.param_groups:\n",
        "            p['lr'] = self.cur_lr\n",
        "\n",
        "    def _get_lr(self):\n",
        "        return self.d_model**(-0.5) * min(self.cur_step**(-0.5), self.cur_step*self.n_warmup_steps**(-1.5))\n",
        "\n",
        "    def get_last_lr(self):\n",
        "        return [group['lr'] for group in self.optimizer.param_groups]\n",
        "\n",
        "    def zero_grad(self):\n",
        "        self.optimizer.zero_grad()"
      ],
      "metadata": {
        "id": "tNEvneSpL7fy"
      },
      "execution_count": 187,
      "outputs": []
    },
    {
      "cell_type": "code",
      "source": [
        "model = MachineTranslationTransformer(\n",
        "    d_model=config['D_MODEL'],\n",
        "    n_blocks=config['N_BLOCKS'],\n",
        "    src_vocab_size=en_tokenizer.get_vocab_size(),\n",
        "    trg_vocab_size=ta_tokenizer.get_vocab_size(),\n",
        "    n_heads=config['N_HEADS'],\n",
        "    d_ff=config['D_FF'],\n",
        "    dropout_proba=config['DROPOUT_PROBA']\n",
        ")"
      ],
      "metadata": {
        "id": "rbeLutn9MCtc"
      },
      "execution_count": 210,
      "outputs": []
    },
    {
      "cell_type": "code",
      "source": [
        "def count_parameters(model):\n",
        "    return sum(p.numel() for p in model.parameters() if p.requires_grad)\n",
        "\n",
        "print(f'The model has {count_parameters(model):,} trainable parameters')"
      ],
      "metadata": {
        "colab": {
          "base_uri": "https://localhost:8080/"
        },
        "id": "Cr0AA4CrQdUP",
        "outputId": "737e875d-da14-4eb4-d8b7-1dfd4bc40fa5"
      },
      "execution_count": 211,
      "outputs": [
        {
          "output_type": "stream",
          "name": "stdout",
          "text": [
            "The model has 37,275,296 trainable parameters\n"
          ]
        }
      ]
    },
    {
      "cell_type": "code",
      "source": [
        "loss_func = nn.CrossEntropyLoss(ignore_index=0, label_smoothing=config['LABEL_SMOOTHING'], reduction='mean')\n",
        "optimizer = optim.Adam(model.parameters(), betas=config['BETAS'], eps=config['EPS'])\n",
        "scheduler=CustomScheduler(optimizer, config['D_MODEL'], config['N_WARMUP_STEPS'])"
      ],
      "metadata": {
        "id": "gbZBRKU4MD1d"
      },
      "execution_count": 212,
      "outputs": []
    },
    {
      "cell_type": "code",
      "source": [
        "device = 'cuda' if torch.cuda.is_available() else 'cpu'\n",
        "device"
      ],
      "metadata": {
        "colab": {
          "base_uri": "https://localhost:8080/",
          "height": 36
        },
        "id": "Ew7SW7xJMJev",
        "outputId": "765a9a0f-06f5-4d8c-ef2d-562037694ef0"
      },
      "execution_count": 199,
      "outputs": [
        {
          "output_type": "execute_result",
          "data": {
            "text/plain": [
              "'cpu'"
            ],
            "application/vnd.google.colaboratory.intrinsic+json": {
              "type": "string"
            }
          },
          "metadata": {},
          "execution_count": 199
        }
      ]
    },
    {
      "cell_type": "code",
      "source": [
        "import torch\n",
        "torch.manual_seed(0)\n",
        "import random\n",
        "random.seed(0)\n",
        "import numpy as np\n",
        "np.random.seed(0)\n",
        "\n",
        "cur_step=1\n",
        "model.to(device)\n",
        "for epoch_idx in range(config['EPOCHS']):\n",
        "\n",
        "    # Train\n",
        "    train_loss=0\n",
        "    model.train()\n",
        "    for batch_idx, batch in enumerate(train_dl):\n",
        "        xb,yb=batch\n",
        "        xb,yb =xb.to(device),yb.to(device)\n",
        "        preds=model(xb,yb)\n",
        "\n",
        "        loss=loss_func(\n",
        "            preds.reshape(-1, preds.size(-1)), # Reshaping for loss\n",
        "            yb[:,1:].contiguous().view(-1) # Shifting right (without BOS)\n",
        "        )\n",
        "        train_loss+=loss.detach().cpu()\n",
        "\n",
        "\n",
        "        loss.backward()\n",
        "        if cur_step % config['GRAD_ACCUMULATION_STEPS']==0:\n",
        "            optimizer.step()\n",
        "            scheduler.step()\n",
        "            optimizer.zero_grad()\n",
        "            cur_step+=1\n",
        "\n",
        "    # Validation\n",
        "    val_loss=0\n",
        "    with torch.no_grad():\n",
        "        model.eval()\n",
        "        for batch_idx, batch in enumerate(val_dl):\n",
        "            xb,yb=batch\n",
        "            xb,yb =xb.to(device),yb.to(device)\n",
        "            preds=model(xb,yb)\n",
        "\n",
        "            loss=loss_func(\n",
        "                preds.reshape(-1, preds.size(-1)), # Reshaping for loss\n",
        "                yb[:,1:].contiguous().view(-1) # Shifting right (without BOS)\n",
        "            )\n",
        "            val_loss+=loss.detach().cpu()\n",
        "\n",
        "    print(f\"Train Loss: {train_loss}, Validation Loss: {val_loss}\")"
      ],
      "metadata": {
        "colab": {
          "base_uri": "https://localhost:8080/",
          "height": 442
        },
        "id": "A-uweLxkMRpp",
        "outputId": "3e9d94e2-5cbf-417c-c782-74c0cb750727"
      },
      "execution_count": 200,
      "outputs": [
        {
          "output_type": "error",
          "ename": "KeyboardInterrupt",
          "evalue": "ignored",
          "traceback": [
            "\u001b[0;31m---------------------------------------------------------------------------\u001b[0m",
            "\u001b[0;31mKeyboardInterrupt\u001b[0m                         Traceback (most recent call last)",
            "\u001b[0;32m<ipython-input-200-691528e55138>\u001b[0m in \u001b[0;36m<cell line: 10>\u001b[0;34m()\u001b[0m\n\u001b[1;32m     18\u001b[0m         \u001b[0mpreds\u001b[0m\u001b[0;34m=\u001b[0m\u001b[0mmodel\u001b[0m\u001b[0;34m(\u001b[0m\u001b[0mxb\u001b[0m\u001b[0;34m,\u001b[0m\u001b[0myb\u001b[0m\u001b[0;34m)\u001b[0m\u001b[0;34m\u001b[0m\u001b[0;34m\u001b[0m\u001b[0m\n\u001b[1;32m     19\u001b[0m \u001b[0;34m\u001b[0m\u001b[0m\n\u001b[0;32m---> 20\u001b[0;31m         loss=loss_func(\n\u001b[0m\u001b[1;32m     21\u001b[0m             \u001b[0mpreds\u001b[0m\u001b[0;34m.\u001b[0m\u001b[0mreshape\u001b[0m\u001b[0;34m(\u001b[0m\u001b[0;34m-\u001b[0m\u001b[0;36m1\u001b[0m\u001b[0;34m,\u001b[0m \u001b[0mpreds\u001b[0m\u001b[0;34m.\u001b[0m\u001b[0msize\u001b[0m\u001b[0;34m(\u001b[0m\u001b[0;34m-\u001b[0m\u001b[0;36m1\u001b[0m\u001b[0;34m)\u001b[0m\u001b[0;34m)\u001b[0m\u001b[0;34m,\u001b[0m \u001b[0;31m# Reshaping for loss\u001b[0m\u001b[0;34m\u001b[0m\u001b[0;34m\u001b[0m\u001b[0m\n\u001b[1;32m     22\u001b[0m             \u001b[0myb\u001b[0m\u001b[0;34m[\u001b[0m\u001b[0;34m:\u001b[0m\u001b[0;34m,\u001b[0m\u001b[0;36m1\u001b[0m\u001b[0;34m:\u001b[0m\u001b[0;34m]\u001b[0m\u001b[0;34m.\u001b[0m\u001b[0mcontiguous\u001b[0m\u001b[0;34m(\u001b[0m\u001b[0;34m)\u001b[0m\u001b[0;34m.\u001b[0m\u001b[0mview\u001b[0m\u001b[0;34m(\u001b[0m\u001b[0;34m-\u001b[0m\u001b[0;36m1\u001b[0m\u001b[0;34m)\u001b[0m \u001b[0;31m# Shifting right (without BOS)\u001b[0m\u001b[0;34m\u001b[0m\u001b[0;34m\u001b[0m\u001b[0m\n",
            "\u001b[0;32m/usr/local/lib/python3.10/dist-packages/torch/nn/modules/module.py\u001b[0m in \u001b[0;36m_wrapped_call_impl\u001b[0;34m(self, *args, **kwargs)\u001b[0m\n\u001b[1;32m   1516\u001b[0m             \u001b[0;32mreturn\u001b[0m \u001b[0mself\u001b[0m\u001b[0;34m.\u001b[0m\u001b[0m_compiled_call_impl\u001b[0m\u001b[0;34m(\u001b[0m\u001b[0;34m*\u001b[0m\u001b[0margs\u001b[0m\u001b[0;34m,\u001b[0m \u001b[0;34m**\u001b[0m\u001b[0mkwargs\u001b[0m\u001b[0;34m)\u001b[0m  \u001b[0;31m# type: ignore[misc]\u001b[0m\u001b[0;34m\u001b[0m\u001b[0;34m\u001b[0m\u001b[0m\n\u001b[1;32m   1517\u001b[0m         \u001b[0;32melse\u001b[0m\u001b[0;34m:\u001b[0m\u001b[0;34m\u001b[0m\u001b[0;34m\u001b[0m\u001b[0m\n\u001b[0;32m-> 1518\u001b[0;31m             \u001b[0;32mreturn\u001b[0m \u001b[0mself\u001b[0m\u001b[0;34m.\u001b[0m\u001b[0m_call_impl\u001b[0m\u001b[0;34m(\u001b[0m\u001b[0;34m*\u001b[0m\u001b[0margs\u001b[0m\u001b[0;34m,\u001b[0m \u001b[0;34m**\u001b[0m\u001b[0mkwargs\u001b[0m\u001b[0;34m)\u001b[0m\u001b[0;34m\u001b[0m\u001b[0;34m\u001b[0m\u001b[0m\n\u001b[0m\u001b[1;32m   1519\u001b[0m \u001b[0;34m\u001b[0m\u001b[0m\n\u001b[1;32m   1520\u001b[0m     \u001b[0;32mdef\u001b[0m \u001b[0m_call_impl\u001b[0m\u001b[0;34m(\u001b[0m\u001b[0mself\u001b[0m\u001b[0;34m,\u001b[0m \u001b[0;34m*\u001b[0m\u001b[0margs\u001b[0m\u001b[0;34m,\u001b[0m \u001b[0;34m**\u001b[0m\u001b[0mkwargs\u001b[0m\u001b[0;34m)\u001b[0m\u001b[0;34m:\u001b[0m\u001b[0;34m\u001b[0m\u001b[0;34m\u001b[0m\u001b[0m\n",
            "\u001b[0;32m/usr/local/lib/python3.10/dist-packages/torch/nn/modules/module.py\u001b[0m in \u001b[0;36m_call_impl\u001b[0;34m(self, *args, **kwargs)\u001b[0m\n\u001b[1;32m   1525\u001b[0m                 \u001b[0;32mor\u001b[0m \u001b[0m_global_backward_pre_hooks\u001b[0m \u001b[0;32mor\u001b[0m \u001b[0m_global_backward_hooks\u001b[0m\u001b[0;34m\u001b[0m\u001b[0;34m\u001b[0m\u001b[0m\n\u001b[1;32m   1526\u001b[0m                 or _global_forward_hooks or _global_forward_pre_hooks):\n\u001b[0;32m-> 1527\u001b[0;31m             \u001b[0;32mreturn\u001b[0m \u001b[0mforward_call\u001b[0m\u001b[0;34m(\u001b[0m\u001b[0;34m*\u001b[0m\u001b[0margs\u001b[0m\u001b[0;34m,\u001b[0m \u001b[0;34m**\u001b[0m\u001b[0mkwargs\u001b[0m\u001b[0;34m)\u001b[0m\u001b[0;34m\u001b[0m\u001b[0;34m\u001b[0m\u001b[0m\n\u001b[0m\u001b[1;32m   1528\u001b[0m \u001b[0;34m\u001b[0m\u001b[0m\n\u001b[1;32m   1529\u001b[0m         \u001b[0;32mtry\u001b[0m\u001b[0;34m:\u001b[0m\u001b[0;34m\u001b[0m\u001b[0;34m\u001b[0m\u001b[0m\n",
            "\u001b[0;32m/usr/local/lib/python3.10/dist-packages/torch/nn/modules/loss.py\u001b[0m in \u001b[0;36mforward\u001b[0;34m(self, input, target)\u001b[0m\n\u001b[1;32m   1177\u001b[0m \u001b[0;34m\u001b[0m\u001b[0m\n\u001b[1;32m   1178\u001b[0m     \u001b[0;32mdef\u001b[0m \u001b[0mforward\u001b[0m\u001b[0;34m(\u001b[0m\u001b[0mself\u001b[0m\u001b[0;34m,\u001b[0m \u001b[0minput\u001b[0m\u001b[0;34m:\u001b[0m \u001b[0mTensor\u001b[0m\u001b[0;34m,\u001b[0m \u001b[0mtarget\u001b[0m\u001b[0;34m:\u001b[0m \u001b[0mTensor\u001b[0m\u001b[0;34m)\u001b[0m \u001b[0;34m->\u001b[0m \u001b[0mTensor\u001b[0m\u001b[0;34m:\u001b[0m\u001b[0;34m\u001b[0m\u001b[0;34m\u001b[0m\u001b[0m\n\u001b[0;32m-> 1179\u001b[0;31m         return F.cross_entropy(input, target, weight=self.weight,\n\u001b[0m\u001b[1;32m   1180\u001b[0m                                \u001b[0mignore_index\u001b[0m\u001b[0;34m=\u001b[0m\u001b[0mself\u001b[0m\u001b[0;34m.\u001b[0m\u001b[0mignore_index\u001b[0m\u001b[0;34m,\u001b[0m \u001b[0mreduction\u001b[0m\u001b[0;34m=\u001b[0m\u001b[0mself\u001b[0m\u001b[0;34m.\u001b[0m\u001b[0mreduction\u001b[0m\u001b[0;34m,\u001b[0m\u001b[0;34m\u001b[0m\u001b[0;34m\u001b[0m\u001b[0m\n\u001b[1;32m   1181\u001b[0m                                label_smoothing=self.label_smoothing)\n",
            "\u001b[0;32m/usr/local/lib/python3.10/dist-packages/torch/nn/functional.py\u001b[0m in \u001b[0;36mcross_entropy\u001b[0;34m(input, target, weight, size_average, ignore_index, reduce, reduction, label_smoothing)\u001b[0m\n\u001b[1;32m   3051\u001b[0m     \u001b[0;32mif\u001b[0m \u001b[0msize_average\u001b[0m \u001b[0;32mis\u001b[0m \u001b[0;32mnot\u001b[0m \u001b[0;32mNone\u001b[0m \u001b[0;32mor\u001b[0m \u001b[0mreduce\u001b[0m \u001b[0;32mis\u001b[0m \u001b[0;32mnot\u001b[0m \u001b[0;32mNone\u001b[0m\u001b[0;34m:\u001b[0m\u001b[0;34m\u001b[0m\u001b[0;34m\u001b[0m\u001b[0m\n\u001b[1;32m   3052\u001b[0m         \u001b[0mreduction\u001b[0m \u001b[0;34m=\u001b[0m \u001b[0m_Reduction\u001b[0m\u001b[0;34m.\u001b[0m\u001b[0mlegacy_get_string\u001b[0m\u001b[0;34m(\u001b[0m\u001b[0msize_average\u001b[0m\u001b[0;34m,\u001b[0m \u001b[0mreduce\u001b[0m\u001b[0;34m)\u001b[0m\u001b[0;34m\u001b[0m\u001b[0;34m\u001b[0m\u001b[0m\n\u001b[0;32m-> 3053\u001b[0;31m     \u001b[0;32mreturn\u001b[0m \u001b[0mtorch\u001b[0m\u001b[0;34m.\u001b[0m\u001b[0m_C\u001b[0m\u001b[0;34m.\u001b[0m\u001b[0m_nn\u001b[0m\u001b[0;34m.\u001b[0m\u001b[0mcross_entropy_loss\u001b[0m\u001b[0;34m(\u001b[0m\u001b[0minput\u001b[0m\u001b[0;34m,\u001b[0m \u001b[0mtarget\u001b[0m\u001b[0;34m,\u001b[0m \u001b[0mweight\u001b[0m\u001b[0;34m,\u001b[0m \u001b[0m_Reduction\u001b[0m\u001b[0;34m.\u001b[0m\u001b[0mget_enum\u001b[0m\u001b[0;34m(\u001b[0m\u001b[0mreduction\u001b[0m\u001b[0;34m)\u001b[0m\u001b[0;34m,\u001b[0m \u001b[0mignore_index\u001b[0m\u001b[0;34m,\u001b[0m \u001b[0mlabel_smoothing\u001b[0m\u001b[0;34m)\u001b[0m\u001b[0;34m\u001b[0m\u001b[0;34m\u001b[0m\u001b[0m\n\u001b[0m\u001b[1;32m   3054\u001b[0m \u001b[0;34m\u001b[0m\u001b[0m\n\u001b[1;32m   3055\u001b[0m \u001b[0;34m\u001b[0m\u001b[0m\n",
            "\u001b[0;31mKeyboardInterrupt\u001b[0m: "
          ]
        }
      ]
    },
    {
      "cell_type": "code",
      "source": [
        "input_sentence='Hello how are you'\n",
        "model.translate(input_sentence, en_tokenizer , ta_tokenizer)"
      ],
      "metadata": {
        "colab": {
          "base_uri": "https://localhost:8080/",
          "height": 182
        },
        "id": "tDOTIo_tNAoC",
        "outputId": "2d1b613a-f1a2-42ec-b05a-8686c7e56936"
      },
      "execution_count": 214,
      "outputs": [
        {
          "output_type": "execute_result",
          "data": {
            "text/plain": [
              "'[BOS] (முன்னிருப்பு: தாக்கக் (முன்னிருப்பு: நன்றிக்கடன் எம்எஸ்கே சித்து எம்எஸ்கே எம்எஸ்கே எம்எஸ்கே எஸ்யுவி (முன்னிருப்பு: சித்து பாராளுமன்றத்தின் கழுத்து நிறைவேறியதா, எம்எஸ்கே (பாரா இப்பாதிப்பு (பாரா கருத்துமாய் எம்எஸ்கே (பாரா புரொடக்சன்ஸ் கொள்கிறாள். பரிசுத்தமானவர்களாக(த் நிறைவேறியதா, இப்பாதிப்பு நிறைவேறியதா, நன்றிக்கடன் ஊரடங்கால், இயேசுவின் சித்து கொந்தளிப்பதால் பண்ணினேன் இப்பாதிப்பு ஈட்டியுள்ளது. (முன்னிருப்பு: சித்து எம்எஸ்கே இப்பாதிப்பு புறத்து பாராளுமன்றத்தின் குறுக்கிடுவதென்னவோ கட்டப்பட்டுள்ள எம்எஸ்கே இப்பாதிப்பு இப்பாதிப்பு பலப்படுத்தியுள்ளனா். தெரிவிக்கவில்லை இப்பாதிப்பு பாராளுமன்றத்தின் (பாரா எம்எஸ்கே பாராளுமன்றத்தின் முளையிலேயே (முன்னிருப்பு: சித்து ரஷ்யாவில் துண்டுகள் பரிசுத்தமானவர்களாக(த் சித்து இப்பாதிப்பு இப்பாதிப்பு வங்கியொன்றில் நிறைவேறியதா, எம்எஸ்கே மணமகள்கள் இசுலாமிய ரொக்கமற்ற பாராளுமன்றத்தின் சித்து எம்எஸ்கே இப்பாதிப்பு பேசியதாவது: தப்பித்தோம். கருத்துமாய் பாராளுமன்றத்தின் (பாரா (பாரா (பாரா வங்கதேச (பாரா ரஷ்யாவில் இப்பாதிப்பு பாய்வதால் (பாரா இப்பாதிப்பு பாராளுமன்றத்தின் எம்எஸ்கே எம்எஸ்கே கருத்துமாய் இப்பாதிப்பு இப்பாதிப்பு பாராளுமன்றத்தின் திரண்டுவர எம்எஸ்கே செரிகோடுகள் நிறைவேறியதா, (பாரா நிறைவேறியதா,'"
            ],
            "application/vnd.google.colaboratory.intrinsic+json": {
              "type": "string"
            }
          },
          "metadata": {},
          "execution_count": 214
        }
      ]
    },
    {
      "cell_type": "code",
      "source": [],
      "metadata": {
        "id": "9BnBFmN9P2Xy"
      },
      "execution_count": null,
      "outputs": []
    }
  ]
}